{
 "cells": [
  {
   "cell_type": "markdown",
   "metadata": {},
   "source": [
    "# <u> LSTM ENCODER DECODER"
   ]
  },
  {
   "cell_type": "markdown",
   "metadata": {},
   "source": [
    "# Data"
   ]
  },
  {
   "cell_type": "code",
   "execution_count": 1,
   "metadata": {},
   "outputs": [],
   "source": [
    "import utils\n",
    "import numpy as np\n",
    "\n",
    "#utils.setup_nltk()\n",
    "PRESIDENT = 'obama'\n",
    "speeches = utils.read_all_text_files(PRESIDENT)"
   ]
  },
  {
   "cell_type": "code",
   "execution_count": 2,
   "metadata": {},
   "outputs": [],
   "source": [
    "assert np.mean([len(x) for x in speeches]) == 4878.9"
   ]
  },
  {
   "cell_type": "markdown",
   "metadata": {},
   "source": [
    "### Preprocessing"
   ]
  },
  {
   "cell_type": "code",
   "execution_count": 3,
   "metadata": {},
   "outputs": [],
   "source": [
    "filter_list = [':', '(', ')', ',', '-',]\n",
    "filtered_speeches = []\n",
    "\n",
    "for speech in speeches:\n",
    "    filtered_speech = []\n",
    "    for word in speech:\n",
    "        # filter out unwanted words\n",
    "        if word not in filter_list:\n",
    "            # lower word\n",
    "            filtered_speech.append(word.lower())\n",
    "    filtered_speeches.append(filtered_speech)"
   ]
  },
  {
   "cell_type": "markdown",
   "metadata": {},
   "source": [
    "### Create N-Grams"
   ]
  },
  {
   "cell_type": "code",
   "execution_count": 4,
   "metadata": {},
   "outputs": [],
   "source": [
    "from nltk import ngrams\n",
    "\n",
    "WINDOW = 5\n",
    "grams = [ngrams(s, WINDOW+1) for s in filtered_speeches]\n",
    "flat_grams = [ng for speech in grams for ng in speech]"
   ]
  },
  {
   "cell_type": "markdown",
   "metadata": {},
   "source": [
    "### Split Data"
   ]
  },
  {
   "cell_type": "code",
   "execution_count": 5,
   "metadata": {},
   "outputs": [],
   "source": [
    "import pandas as pd\n",
    "\n",
    "X = [' '.join(list(x[0:WINDOW])) for x in flat_grams]\n",
    "Y = [x[-1] for x in flat_grams]\n",
    "df = pd.DataFrame.from_dict({'x':X, 'y':Y})\n",
    "\n",
    "# persist\n",
    "csv_name = '../data/' + PRESIDENT + '_preproc/encdec_' + str(WINDOW) + 'grams.csv'\n",
    "df.to_csv(csv_name, index=False)"
   ]
  },
  {
   "cell_type": "code",
   "execution_count": 6,
   "metadata": {},
   "outputs": [],
   "source": [
    "#assert len(df) == 230020"
   ]
  },
  {
   "cell_type": "code",
   "execution_count": 7,
   "metadata": {},
   "outputs": [
    {
     "name": "stderr",
     "output_type": "stream",
     "text": [
      "/home/gabriel/.local/lib/python3.8/site-packages/torchtext/data/field.py:150: UserWarning: Field class will be retired soon and moved to torchtext.legacy. Please see the most recent release notes for further information.\n",
      "  warnings.warn('{} class will be retired soon and moved to torchtext.legacy. Please see the most recent release notes for further information.'.format(self.__class__.__name__), UserWarning)\n",
      "/home/gabriel/.local/lib/python3.8/site-packages/torchtext/data/example.py:68: UserWarning: Example class will be retired soon and moved to torchtext.legacy. Please see the most recent release notes for further information.\n",
      "  warnings.warn('Example class will be retired soon and moved to torchtext.legacy. Please see the most recent release notes for further information.', UserWarning)\n",
      "/home/gabriel/.local/lib/python3.8/site-packages/torchtext/data/example.py:78: UserWarning: Example class will be retired soon and moved to torchtext.legacy. Please see the most recent release notes for further information.\n",
      "  warnings.warn('Example class will be retired soon and moved to torchtext.legacy. Please see the most recent release notes for further information.', UserWarning)\n"
     ]
    }
   ],
   "source": [
    "import torchtext\n",
    "\n",
    "XFIELD = torchtext.data.Field(sequential=True)\n",
    "YFIELD = torchtext.data.Field(sequential=True)\n",
    "DATA = torchtext.data.TabularDataset(csv_name,'csv', \n",
    "                                     [('x', XFIELD),('y', YFIELD)], skip_header=True)\n",
    "\n",
    "XFIELD.build_vocab(DATA)  \n",
    "YFIELD.build_vocab(DATA)"
   ]
  },
  {
   "cell_type": "code",
   "execution_count": 8,
   "metadata": {},
   "outputs": [
    {
     "name": "stderr",
     "output_type": "stream",
     "text": [
      "/home/gabriel/.local/lib/python3.8/site-packages/torchtext/data/iterator.py:48: UserWarning: Iterator class will be retired soon and moved to torchtext.legacy. Please see the most recent release notes for further information.\n",
      "  warnings.warn('{} class will be retired soon and moved to torchtext.legacy. Please see the most recent release notes for further information.'.format(self.__class__.__name__), UserWarning)\n"
     ]
    }
   ],
   "source": [
    "from torchtext.data import BucketIterator, Iterator\n",
    "import torch\n",
    "\n",
    "BATCH_SIZE = 64\n",
    "device = torch.device('cuda' if torch.cuda.is_available() else 'cpu')\n",
    "train_iterator = Iterator(DATA, BATCH_SIZE, device=device, train=True)"
   ]
  },
  {
   "cell_type": "code",
   "execution_count": 9,
   "metadata": {},
   "outputs": [],
   "source": [
    "assert device.type == 'cuda'"
   ]
  },
  {
   "cell_type": "markdown",
   "metadata": {},
   "source": [
    "# Neural Networks"
   ]
  },
  {
   "cell_type": "markdown",
   "metadata": {},
   "source": [
    "### Encoder"
   ]
  },
  {
   "cell_type": "code",
   "execution_count": 10,
   "metadata": {},
   "outputs": [],
   "source": [
    "import torch.nn as nn\n",
    "\n",
    "class Encoder(nn.Module):\n",
    "    def __init__(self, vocab_size, hidden_size, embedding_dim, num_layers):\n",
    "        super(Encoder, self).__init__()\n",
    "        self.embedding = nn.Embedding(vocab_size, embedding_dim)\n",
    "        self.lstm = nn.LSTM(embedding_dim, hidden_size, num_layers=num_layers)\n",
    "\n",
    "    def forward(self, x, h0, c0):\n",
    "        x = self.embedding(x).unsqueeze(0)\n",
    "        out, (h0, c0) = self.lstm(x, (h0, c0))\n",
    "        return out, (h0, c0)"
   ]
  },
  {
   "cell_type": "markdown",
   "metadata": {},
   "source": [
    "### Decoder"
   ]
  },
  {
   "cell_type": "code",
   "execution_count": 11,
   "metadata": {},
   "outputs": [],
   "source": [
    "class Decoder(nn.Module):\n",
    "    def __init__(self, vocab_size, hidden_size, embedding_dim, num_layers):\n",
    "        super(Decoder, self).__init__()\n",
    "        self.embedding = nn.Embedding(vocab_size, embedding_dim)\n",
    "        self.lstm = nn.LSTM(embedding_dim, hidden_size, num_layers=num_layers, dropout=0.5)\n",
    "        self.dense = nn.Linear(hidden_size, vocab_size)\n",
    "        self.softmax = nn.LogSoftmax(dim = 1)\n",
    "  \n",
    "    def forward(self, x, h0, c0):\n",
    "        x = self.embedding(x)\n",
    "        x, (h0, c0) = self.lstm(x, (h0, c0))\n",
    "        x = self.dense(x.squeeze(0))\n",
    "        x = self.softmax(x)\n",
    "        return x, (h0, c0)"
   ]
  },
  {
   "cell_type": "markdown",
   "metadata": {},
   "source": [
    "### Training"
   ]
  },
  {
   "cell_type": "code",
   "execution_count": 12,
   "metadata": {},
   "outputs": [],
   "source": [
    "HIDDEN_SIZE = 100\n",
    "EMBEDDING_SIZE = 100\n",
    "NUM_LAYERS = 2\n",
    "ENC_LEARNING_RATE = 0.01\n",
    "DEC_LEARNING_RATE = 0.01\n",
    "criterion = nn.NLLLoss()\n",
    "\n",
    "encoder = Encoder(len(XFIELD.vocab), HIDDEN_SIZE, EMBEDDING_SIZE, NUM_LAYERS).to(device)\n",
    "decoder = Decoder(len(XFIELD.vocab), HIDDEN_SIZE, EMBEDDING_SIZE, NUM_LAYERS).to(device)\n",
    "enc_optimizer = torch.optim.Adam(encoder.parameters(), lr = ENC_LEARNING_RATE)\n",
    "dec_optimizer = torch.optim.Adam(decoder.parameters(), lr = DEC_LEARNING_RATE)"
   ]
  },
  {
   "cell_type": "code",
   "execution_count": 13,
   "metadata": {},
   "outputs": [
    {
     "name": "stderr",
     "output_type": "stream",
     "text": [
      "  0%|          | 0/3593 [00:00<?, ?it/s]/home/gabriel/.local/lib/python3.8/site-packages/torchtext/data/batch.py:23: UserWarning: Batch class will be retired soon and moved to torchtext.legacy. Please see the most recent release notes for further information.\n",
      "  warnings.warn('{} class will be retired soon and moved to torchtext.legacy. Please see the most recent release notes for further information.'.format(self.__class__.__name__), UserWarning)\n",
      "100%|█████████▉| 3592/3593 [01:23<00:00, 43.19it/s]\n",
      "  0%|          | 0/3593 [00:00<?, ?it/s]"
     ]
    },
    {
     "name": "stdout",
     "output_type": "stream",
     "text": [
      "AVG_LOSS=6.0286, (ABS=21657.4)\n"
     ]
    },
    {
     "name": "stderr",
     "output_type": "stream",
     "text": [
      "100%|█████████▉| 3592/3593 [01:20<00:00, 44.85it/s]\n",
      "  0%|          | 0/3593 [00:00<?, ?it/s]"
     ]
    },
    {
     "name": "stdout",
     "output_type": "stream",
     "text": [
      "AVG_LOSS=5.4876, (ABS=19713.79)\n"
     ]
    },
    {
     "name": "stderr",
     "output_type": "stream",
     "text": [
      "100%|█████████▉| 3592/3593 [01:15<00:00, 47.78it/s]\n",
      "  0%|          | 0/3593 [00:00<?, ?it/s]"
     ]
    },
    {
     "name": "stdout",
     "output_type": "stream",
     "text": [
      "AVG_LOSS=5.2635, (ABS=18908.66)\n"
     ]
    },
    {
     "name": "stderr",
     "output_type": "stream",
     "text": [
      "100%|█████████▉| 3592/3593 [01:20<00:00, 44.67it/s]\n",
      "  0%|          | 0/3593 [00:00<?, ?it/s]"
     ]
    },
    {
     "name": "stdout",
     "output_type": "stream",
     "text": [
      "AVG_LOSS=5.1325, (ABS=18438.06)\n"
     ]
    },
    {
     "name": "stderr",
     "output_type": "stream",
     "text": [
      "100%|█████████▉| 3592/3593 [01:24<00:00, 42.39it/s]"
     ]
    },
    {
     "name": "stdout",
     "output_type": "stream",
     "text": [
      "AVG_LOSS=5.045, (ABS=18123.95)\n"
     ]
    },
    {
     "name": "stderr",
     "output_type": "stream",
     "text": [
      "\n"
     ]
    }
   ],
   "source": [
    "from tqdm import tqdm\n",
    "\n",
    "EPOCHS = 5\n",
    "for ep in range(EPOCHS):\n",
    "    ep_loss = 0\n",
    "    \n",
    "    for batch in tqdm(train_iterator):\n",
    "        if len(batch) != BATCH_SIZE: break;\n",
    "        inp = batch.x\n",
    "        target = batch.y\n",
    "        \n",
    "        # init\n",
    "        loss = 0\n",
    "        h0 = torch.zeros(NUM_LAYERS, BATCH_SIZE, HIDDEN_SIZE).to(device)\n",
    "        c0 = torch.zeros(NUM_LAYERS, BATCH_SIZE, HIDDEN_SIZE).to(device)\n",
    "        enc_optimizer.zero_grad()\n",
    "        dec_optimizer.zero_grad()\n",
    "        \n",
    "        # encode\n",
    "        for w in range(inp.size(0)):\n",
    "            enc_out, (h0, c0) = encoder(inp[w], h0, c0)\n",
    "            \n",
    "        # decode\n",
    "        cur = inp[WINDOW-1].unsqueeze(0)\n",
    "        dec_out, (h0, c0) = decoder(cur, h0, c0)\n",
    "        cur = torch.argmax(dec_out,dim=1)\n",
    "        \n",
    "        # loss\n",
    "        # target_onehot = torch.nn.functional.one_hot(target.squeeze(), len(YFIELD.vocab))\n",
    "        loss += criterion(dec_out, target.squeeze())\n",
    "        \n",
    "        # optimize\n",
    "        ep_loss += loss\n",
    "        loss.backward()\n",
    "        enc_optimizer.step()\n",
    "        dec_optimizer.step()\n",
    "        \n",
    "    print('AVG_LOSS={}, (ABS={})'.format(round((ep_loss/(len(DATA)/BATCH_SIZE)).item(),4), round(ep_loss.item(),2)))"
   ]
  },
  {
   "cell_type": "raw",
   "metadata": {},
   "source": [
    "# make new file names\n",
    "# MODEL_PATH = '../data/obama_models/obama_lstm'\n",
    "\n",
    "# SAVE ENCODER MODEL\n",
    "ENC_PATH = MODEL_PATH + \"_enc.pt\"\n",
    "torch.save(encoder.state_dict(), ENC_PATH)\n",
    "\n",
    "# SAVE ENCODER MODEL\n",
    "DEC_PATH =  MODEL_PATH + \"_dec.pt\"\n",
    "torch.save(decoder.state_dict(), DEC_PATH)\n",
    "\n",
    "# RELOAD\n",
    "encoder = Encoder(len(XFIELD.vocab), HIDDEN_SIZE, EMBEDDING_SIZE, NUM_LAYERS)\n",
    "encoder.load_state_dict(torch.load(MODEL_PATH + '_enc.pt', map_location=torch.device('cpu')))\n",
    "\n",
    "decoder = Decoder(len(XFIELD.vocab), HIDDEN_SIZE, EMBEDDING_SIZE, NUM_LAYERS).to(device)\n",
    "decoder.load_state_dict(torch.load(MODEL_PATH + '_dec.pt', map_location=torch.device('cpu')))"
   ]
  },
  {
   "cell_type": "markdown",
   "metadata": {},
   "source": [
    "# Generate Text!"
   ]
  },
  {
   "cell_type": "markdown",
   "metadata": {},
   "source": [
    "### reload models"
   ]
  },
  {
   "cell_type": "code",
   "execution_count": 14,
   "metadata": {},
   "outputs": [],
   "source": [
    "pass"
   ]
  },
  {
   "cell_type": "markdown",
   "metadata": {},
   "source": [
    "### functions"
   ]
  },
  {
   "cell_type": "code",
   "execution_count": 65,
   "metadata": {},
   "outputs": [],
   "source": [
    "from torch import torch\n",
    "\n",
    "def voc_index(words):\n",
    "    return torch.tensor([XFIELD.vocab.stoi[x] for x in words]).to(device)\n",
    "\n",
    "def predict(inp, RND_FACTOR=0, multiply=False):\n",
    "    with torch.no_grad():\n",
    "\n",
    "        h0 = torch.zeros(NUM_LAYERS, BATCH_SIZE, HIDDEN_SIZE).to(device)\n",
    "        c0 = torch.zeros(NUM_LAYERS, BATCH_SIZE, HIDDEN_SIZE).to(device)\n",
    "         \n",
    "        for w in range(inp.size(0)):\n",
    "                enc_out, (h0, c0) = encoder(inp[w], h0, c0)\n",
    "\n",
    "        cur = inp[WINDOW-1].unsqueeze(0)\n",
    "        dec_out, (h0, c0) = decoder(cur, h0, c0)\n",
    "        \n",
    "        # randomize\n",
    "        rnd = torch.rand(dec_out.shape).to(device) * RND_FACTOR\n",
    "        if multiply:\n",
    "            cur = torch.argmax(dec_out * rnd,dim=1)\n",
    "        else:\n",
    "            cur = torch.argmax(dec_out.add(rnd),dim=1)\n",
    "                    \n",
    "        return YFIELD.vocab.itos[cur[0].item()]\n",
    "\n",
    "def generate(intro=['good', 'evening', 'ladies', 'and', 'gentlemen'], multiply=False, rnd_factor=10, length=100):\n",
    "    text = intro\n",
    "    for i in range(length):\n",
    "        cur_window = text[-WINDOW:]\n",
    "        vecs = voc_index(cur_window).view(WINDOW,1).repeat(1,BATCH_SIZE)\n",
    "        text.append(predict(vecs, rnd_factor, multiply))\n",
    "\n",
    "    return ' '.join(text)"
   ]
  },
  {
   "cell_type": "markdown",
   "metadata": {},
   "source": [
    "### create N speeches"
   ]
  },
  {
   "cell_type": "code",
   "execution_count": 66,
   "metadata": {},
   "outputs": [
    {
     "data": {
      "text/plain": [
       "'good evening ladies and gentlemen and i believe that the people have the people have been a job to the country . i want to build that our country with all of a better . that includes our own tax weapons and our country we are getting to the united states and a lasting the world that america has got to take and our economy of our national and the world . that is why we ’ ve made the united in their children in a great that we need to be a lot of security for those trends . and we have more nation'"
      ]
     },
     "execution_count": 66,
     "metadata": {},
     "output_type": "execute_result"
    }
   ],
   "source": [
    "generated = []\n",
    "GENERATE_N = 10\n",
    "for i in range(GENERATE_N):\n",
    "    generated.append(generate(intro=['good', 'evening', 'ladies', 'and', 'gentlemen'], \n",
    "                              multiply=False, \n",
    "                              rnd_factor=10, \n",
    "                              length=100))\n",
    "\n",
    "generated[0]"
   ]
  },
  {
   "cell_type": "markdown",
   "metadata": {},
   "source": [
    "### persist generated"
   ]
  },
  {
   "cell_type": "code",
   "execution_count": 68,
   "metadata": {},
   "outputs": [],
   "source": [
    "for i in range(len(generated)):\n",
    "    with open(\"../data/lstm/{}_generated/{}.txt\".format(PRESIDENT, str(i)), \"w\") as text_file:\n",
    "        text_file.write(generated[i]) "
   ]
  },
  {
   "cell_type": "markdown",
   "metadata": {},
   "source": [
    "# Evaluate"
   ]
  },
  {
   "cell_type": "code",
   "execution_count": 69,
   "metadata": {},
   "outputs": [
    {
     "name": "stdout",
     "output_type": "stream",
     "text": [
      "mean cosine similarity for generated speech 0: 0.035917847319749875\n",
      "standard deviation of cosine similarity for generated speech 0: 0.014351234103826133\n"
     ]
    }
   ],
   "source": [
    "import metrics\n",
    "\n",
    "mean_cos, std_cos, cos_sim = metrics.get_cosine_sim_tfidf(\"obama\", \"lstm/obama_generated\", 0, print_results=True)"
   ]
  },
  {
   "cell_type": "code",
   "execution_count": null,
   "metadata": {},
   "outputs": [],
   "source": []
  }
 ],
 "metadata": {
  "kernelspec": {
   "display_name": "Python 3",
   "language": "python",
   "name": "python3"
  },
  "language_info": {
   "codemirror_mode": {
    "name": "ipython",
    "version": 3
   },
   "file_extension": ".py",
   "mimetype": "text/x-python",
   "name": "python",
   "nbconvert_exporter": "python",
   "pygments_lexer": "ipython3",
   "version": "3.8.5"
  }
 },
 "nbformat": 4,
 "nbformat_minor": 4
}
