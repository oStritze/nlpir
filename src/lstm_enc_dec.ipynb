{
 "cells": [
  {
   "cell_type": "markdown",
   "metadata": {},
   "source": [
    "# <u> LSTM ENCODER DECODER"
   ]
  },
  {
   "cell_type": "markdown",
   "metadata": {},
   "source": [
    "# Data"
   ]
  },
  {
   "cell_type": "code",
   "execution_count": 1,
   "metadata": {},
   "outputs": [],
   "source": [
    "import utils\n",
    "\n",
    "#utils.setup_nltk()\n",
    "PRESIDENT = 'obama'\n",
    "speeches = utils.read_all_text_files(PRESIDENT)"
   ]
  },
  {
   "cell_type": "markdown",
   "metadata": {},
   "source": [
    "### Preprocessing"
   ]
  },
  {
   "cell_type": "code",
   "execution_count": 2,
   "metadata": {},
   "outputs": [],
   "source": [
    "filter_list = [':', '(', ')', ',']\n",
    "filtered_speeches = []\n",
    "\n",
    "for speech in speeches:\n",
    "    filtered_speech = []\n",
    "    for word in speech:\n",
    "        # filter out unwanted words\n",
    "        if word not in filter_list:\n",
    "            # lower word\n",
    "            filtered_speech.append(word.lower())\n",
    "    filtered_speeches.append(filtered_speech)"
   ]
  },
  {
   "cell_type": "markdown",
   "metadata": {},
   "source": [
    "### Create N-Grams"
   ]
  },
  {
   "cell_type": "code",
   "execution_count": 3,
   "metadata": {},
   "outputs": [],
   "source": [
    "from nltk import ngrams\n",
    "\n",
    "WINDOW = 3\n",
    "grams = [ngrams(s, WINDOW+1) for s in filtered_speeches]\n",
    "flat_grams = [ng for speech in grams for ng in speech]"
   ]
  },
  {
   "cell_type": "markdown",
   "metadata": {},
   "source": [
    "### Split Data"
   ]
  },
  {
   "cell_type": "code",
   "execution_count": 4,
   "metadata": {},
   "outputs": [],
   "source": [
    "import pandas as pd\n",
    "\n",
    "X = [' '.join(list(x[0:WINDOW])) for x in flat_grams]\n",
    "Y = [x[-1] for x in flat_grams]\n",
    "df = pd.DataFrame.from_dict({'x':X, 'y':Y})\n",
    "\n",
    "# persist\n",
    "csv_name = '../data/' + PRESIDENT + '/encdec_' + str(WINDOW) + 'grams.csv'\n",
    "df.to_csv(csv_name, index=False)"
   ]
  },
  {
   "cell_type": "code",
   "execution_count": 5,
   "metadata": {},
   "outputs": [
    {
     "name": "stderr",
     "output_type": "stream",
     "text": [
      "/home/gabriel/.local/lib/python3.8/site-packages/torchtext/data/field.py:150: UserWarning: Field class will be retired soon and moved to torchtext.legacy. Please see the most recent release notes for further information.\n",
      "  warnings.warn('{} class will be retired soon and moved to torchtext.legacy. Please see the most recent release notes for further information.'.format(self.__class__.__name__), UserWarning)\n",
      "/home/gabriel/.local/lib/python3.8/site-packages/torchtext/data/example.py:68: UserWarning: Example class will be retired soon and moved to torchtext.legacy. Please see the most recent release notes for further information.\n",
      "  warnings.warn('Example class will be retired soon and moved to torchtext.legacy. Please see the most recent release notes for further information.', UserWarning)\n",
      "/home/gabriel/.local/lib/python3.8/site-packages/torchtext/data/example.py:78: UserWarning: Example class will be retired soon and moved to torchtext.legacy. Please see the most recent release notes for further information.\n",
      "  warnings.warn('Example class will be retired soon and moved to torchtext.legacy. Please see the most recent release notes for further information.', UserWarning)\n"
     ]
    }
   ],
   "source": [
    "import torchtext\n",
    "\n",
    "XFIELD = torchtext.data.Field(sequential=True)\n",
    "YFIELD = torchtext.data.Field(sequential=True)\n",
    "DATA = torchtext.data.TabularDataset(csv_name,'csv', \n",
    "                                     [('x', XFIELD),('y', YFIELD)], skip_header=True)\n",
    "\n",
    "XFIELD.build_vocab(DATA)  \n",
    "YFIELD.build_vocab(DATA)"
   ]
  },
  {
   "cell_type": "code",
   "execution_count": 6,
   "metadata": {},
   "outputs": [
    {
     "name": "stderr",
     "output_type": "stream",
     "text": [
      "/home/gabriel/.local/lib/python3.8/site-packages/torchtext/data/iterator.py:48: UserWarning: Iterator class will be retired soon and moved to torchtext.legacy. Please see the most recent release notes for further information.\n",
      "  warnings.warn('{} class will be retired soon and moved to torchtext.legacy. Please see the most recent release notes for further information.'.format(self.__class__.__name__), UserWarning)\n"
     ]
    }
   ],
   "source": [
    "from torchtext.data import BucketIterator, Iterator\n",
    "import torch\n",
    "\n",
    "BATCH_SIZE = 64\n",
    "device = torch.device('cuda' if torch.cuda.is_available() else 'cpu')\n",
    "train_iterator = Iterator(DATA, BATCH_SIZE, device=device, train=True)"
   ]
  },
  {
   "cell_type": "markdown",
   "metadata": {},
   "source": [
    "# Neural Networks"
   ]
  },
  {
   "cell_type": "markdown",
   "metadata": {},
   "source": [
    "### Encoder"
   ]
  },
  {
   "cell_type": "code",
   "execution_count": 7,
   "metadata": {},
   "outputs": [],
   "source": [
    "import torch.nn as nn\n",
    "\n",
    "class Encoder(nn.Module):\n",
    "    def __init__(self, vocab_size, hidden_size, embedding_dim, num_layers):\n",
    "        super(Encoder, self).__init__()\n",
    "        self.embedding = nn.Embedding(vocab_size, embedding_dim)\n",
    "        self.lstm = nn.LSTM(embedding_dim, hidden_size, num_layers=num_layers)\n",
    "\n",
    "    def forward(self, x, h0, c0):\n",
    "        x = self.embedding(x).unsqueeze(0)\n",
    "        out, (h0, c0) = self.lstm(x, (h0, c0))\n",
    "        return out, (h0, c0)"
   ]
  },
  {
   "cell_type": "markdown",
   "metadata": {},
   "source": [
    "### Decoder"
   ]
  },
  {
   "cell_type": "code",
   "execution_count": 8,
   "metadata": {},
   "outputs": [],
   "source": [
    "class Decoder(nn.Module):\n",
    "    def __init__(self, vocab_size, hidden_size, embedding_dim, num_layers):\n",
    "        super(Decoder, self).__init__()\n",
    "        self.embedding = nn.Embedding(vocab_size, embedding_dim)\n",
    "        self.lstm = nn.LSTM(embedding_dim, hidden_size, num_layers=num_layers)\n",
    "        self.dense = nn.Linear(hidden_size, vocab_size)\n",
    "        self.softmax = nn.LogSoftmax(dim = 1)\n",
    "  \n",
    "    def forward(self, x, h0, c0):\n",
    "        x = self.embedding(x)\n",
    "        x, (h0, c0) = self.lstm(x, (h0, c0))\n",
    "        x = self.dense(x.squeeze(0))\n",
    "        x = self.softmax(x)\n",
    "        return x, (h0, c0)"
   ]
  },
  {
   "cell_type": "markdown",
   "metadata": {},
   "source": [
    "### Training"
   ]
  },
  {
   "cell_type": "code",
   "execution_count": 31,
   "metadata": {},
   "outputs": [],
   "source": [
    "HIDDEN_SIZE = 100\n",
    "EMBEDDING_SIZE = 100\n",
    "NUM_LAYERS = 3\n",
    "ENC_LEARNING_RATE = 0.01\n",
    "DEC_LEARNING_RATE = 0.01\n",
    "criterion = nn.NLLLoss()\n",
    "\n",
    "encoder = Encoder(len(XFIELD.vocab), HIDDEN_SIZE, EMBEDDING_SIZE, NUM_LAYERS).to(device)\n",
    "decoder = Decoder(len(YFIELD.vocab), HIDDEN_SIZE, EMBEDDING_SIZE, NUM_LAYERS).to(device)\n",
    "enc_optimizer = torch.optim.Adam(encoder.parameters(), lr = ENC_LEARNING_RATE)\n",
    "dec_optimizer = torch.optim.Adam(decoder.parameters(), lr = DEC_LEARNING_RATE)"
   ]
  },
  {
   "cell_type": "code",
   "execution_count": 32,
   "metadata": {},
   "outputs": [
    {
     "name": "stderr",
     "output_type": "stream",
     "text": [
      "100%|█████████▉| 75664/75665 [40:35<00:00, 31.07it/s]\n",
      "  0%|          | 0/75665 [00:00<?, ?it/s]"
     ]
    },
    {
     "name": "stdout",
     "output_type": "stream",
     "text": [
      "AVG_LOSS=1.8733, (ABS=141743.62)\n"
     ]
    },
    {
     "name": "stderr",
     "output_type": "stream",
     "text": [
      "100%|█████████▉| 75664/75665 [40:37<00:00, 31.04it/s]\n",
      "  0%|          | 0/75665 [00:00<?, ?it/s]"
     ]
    },
    {
     "name": "stdout",
     "output_type": "stream",
     "text": [
      "AVG_LOSS=1.5421, (ABS=116678.73)\n"
     ]
    },
    {
     "name": "stderr",
     "output_type": "stream",
     "text": [
      "100%|█████████▉| 75664/75665 [41:55<00:00, 30.08it/s]\n",
      "  0%|          | 0/75665 [00:00<?, ?it/s]"
     ]
    },
    {
     "name": "stdout",
     "output_type": "stream",
     "text": [
      "AVG_LOSS=1.4797, (ABS=111963.73)\n"
     ]
    },
    {
     "name": "stderr",
     "output_type": "stream",
     "text": [
      "100%|█████████▉| 75664/75665 [41:40<00:00, 30.26it/s]\n",
      "  0%|          | 0/75665 [00:00<?, ?it/s]"
     ]
    },
    {
     "name": "stdout",
     "output_type": "stream",
     "text": [
      "AVG_LOSS=1.4471, (ABS=109492.41)\n"
     ]
    },
    {
     "name": "stderr",
     "output_type": "stream",
     "text": [
      "100%|█████████▉| 75664/75665 [40:43<00:00, 30.97it/s]\n",
      "  0%|          | 0/75665 [00:00<?, ?it/s]"
     ]
    },
    {
     "name": "stdout",
     "output_type": "stream",
     "text": [
      "AVG_LOSS=1.4373, (ABS=108755.88)\n"
     ]
    },
    {
     "name": "stderr",
     "output_type": "stream",
     "text": [
      "100%|█████████▉| 75664/75665 [40:45<00:00, 30.94it/s]\n",
      "  0%|          | 0/75665 [00:00<?, ?it/s]"
     ]
    },
    {
     "name": "stdout",
     "output_type": "stream",
     "text": [
      "AVG_LOSS=1.4374, (ABS=108756.61)\n"
     ]
    },
    {
     "name": "stderr",
     "output_type": "stream",
     "text": [
      "100%|█████████▉| 75664/75665 [40:50<00:00, 30.88it/s]\n"
     ]
    },
    {
     "name": "stdout",
     "output_type": "stream",
     "text": [
      "AVG_LOSS=1.4382, (ABS=108818.14)\n"
     ]
    },
    {
     "name": "stderr",
     "output_type": "stream",
     "text": [
      "100%|█████████▉| 75664/75665 [40:50<00:00, 30.87it/s]\n",
      "  0%|          | 0/75665 [00:00<?, ?it/s]"
     ]
    },
    {
     "name": "stdout",
     "output_type": "stream",
     "text": [
      "AVG_LOSS=1.4417, (ABS=109085.17)\n"
     ]
    },
    {
     "name": "stderr",
     "output_type": "stream",
     "text": [
      "100%|█████████▉| 75664/75665 [40:51<00:00, 30.87it/s]\n",
      "  0%|          | 0/75665 [00:00<?, ?it/s]"
     ]
    },
    {
     "name": "stdout",
     "output_type": "stream",
     "text": [
      "AVG_LOSS=1.4428, (ABS=109169.41)\n"
     ]
    },
    {
     "name": "stderr",
     "output_type": "stream",
     "text": [
      "100%|█████████▉| 75664/75665 [40:49<00:00, 30.89it/s]"
     ]
    },
    {
     "name": "stdout",
     "output_type": "stream",
     "text": [
      "AVG_LOSS=1.4429, (ABS=109173.57)\n"
     ]
    },
    {
     "name": "stderr",
     "output_type": "stream",
     "text": [
      "\n"
     ]
    }
   ],
   "source": [
    "from tqdm import tqdm\n",
    "\n",
    "EPOCHS = 10\n",
    "for ep in range(EPOCHS):\n",
    "    ep_loss = 0\n",
    "    \n",
    "    for batch in tqdm(train_iterator):\n",
    "        if len(batch) != 64: break;\n",
    "        inp = batch.x\n",
    "        target = batch.y\n",
    "        \n",
    "        # init\n",
    "        loss = 0\n",
    "        h0 = torch.zeros(NUM_LAYERS, BATCH_SIZE, HIDDEN_SIZE).to(device)\n",
    "        c0 = torch.zeros(NUM_LAYERS, BATCH_SIZE, HIDDEN_SIZE).to(device)\n",
    "        enc_optimizer.zero_grad()\n",
    "        dec_optimizer.zero_grad()\n",
    "        \n",
    "        # encode\n",
    "        for w in range(inp.size(0)):\n",
    "            enc_out, (h0, c0) = encoder(inp[w], h0, c0)\n",
    "            \n",
    "        # decode\n",
    "        cur = inp[WINDOW-1].unsqueeze(0)\n",
    "        dec_out, (h0, c0) = decoder(cur, h0, c0)\n",
    "        cur = torch.ar\n",
    "        \n",
    "        gmax(dec_out,dim=1)\n",
    "\n",
    "        # loss\n",
    "        target_onehot = torch.nn.functional.one_hot(target.squeeze(), len(YFIELD.vocab))\n",
    "        loss += criterion(dec_out, target.squeeze())\n",
    "        \n",
    "        # optimize\n",
    "        ep_loss += loss\n",
    "        loss.backward()\n",
    "        enc_optimizer.step()\n",
    "        dec_optimizer.step()\n",
    "        \n",
    "    print('AVG_LOSS={}, (ABS={})'.format(round((ep_loss/(len(DATA)/64)).item(),4), round(ep_loss.item(),2)))"
   ]
  },
  {
   "cell_type": "code",
   "execution_count": 34,
   "metadata": {},
   "outputs": [],
   "source": [
    "# SAVE ENCODER MODEL\n",
    "ENC_PATH = \"../data/obama/obama_lstm_enc.pt\"\n",
    "torch.save(encoder.state_dict(), ENC_PATH)\n",
    "\n",
    "# SAVE ENCODER MODEL\n",
    "DEC_PATH = \"../data/obama/obama_lstm_dec.pt\"\n",
    "torch.save(decoder.state_dict(), DEC_PATH)"
   ]
  },
  {
   "cell_type": "markdown",
   "metadata": {},
   "source": [
    "# Generate Text!"
   ]
  },
  {
   "cell_type": "code",
   "execution_count": 33,
   "metadata": {},
   "outputs": [
    {
     "data": {
      "text/plain": [
       "['good',\n",
       " 'evening',\n",
       " 'ladies',\n",
       " 'good',\n",
       " 'evening',\n",
       " 'web',\n",
       " 'good',\n",
       " 'evening',\n",
       " 'web',\n",
       " 'good',\n",
       " 'evening',\n",
       " 'web',\n",
       " 'good',\n",
       " 'evening',\n",
       " 'web',\n",
       " 'good',\n",
       " 'evening',\n",
       " 'web',\n",
       " 'good',\n",
       " 'evening',\n",
       " 'web',\n",
       " 'good',\n",
       " 'evening']"
      ]
     },
     "execution_count": 33,
     "metadata": {},
     "output_type": "execute_result"
    }
   ],
   "source": [
    "def voc_index(words):\n",
    "    return torch.tensor([XFIELD.vocab.stoi[x] for x in words]).to(device)\n",
    "\n",
    "def predict(inp):\n",
    "    with torch.no_grad():\n",
    "\n",
    "        h0 = torch.zeros(NUM_LAYERS, BATCH_SIZE, HIDDEN_SIZE).to(device)\n",
    "        c0 = torch.zeros(NUM_LAYERS, BATCH_SIZE, HIDDEN_SIZE).to(device)\n",
    "        \n",
    "        for w in range(inp.size(0)):\n",
    "                enc_out, (h0, c0) = encoder(inp[w], h0, c0)\n",
    "\n",
    "        cur = inp[WINDOW-1].unsqueeze(0)\n",
    "        dec_out, (h0, c0) = decoder(cur, h0, c0)\n",
    "        cur = torch.argmax(dec_out,dim=1)\n",
    "        \n",
    "        # TODO pick more than first one\n",
    "        return YFIELD.vocab.itos[cur[0].item()]\n",
    "\n",
    "    \n",
    "text = ['good', 'evening', 'ladies']\n",
    "for i in range(20):\n",
    "    cur_window = text[-WINDOW:]\n",
    "    vecs = voc_index(cur_window).view(WINDOW,1).repeat(1,BATCH_SIZE)\n",
    "    text.append(predict(vecs))\n",
    "\n",
    "text"
   ]
  }
 ],
 "metadata": {
  "kernelspec": {
   "display_name": "Python 3",
   "language": "python",
   "name": "python3"
  },
  "language_info": {
   "codemirror_mode": {
    "name": "ipython",
    "version": 3
   },
   "file_extension": ".py",
   "mimetype": "text/x-python",
   "name": "python",
   "nbconvert_exporter": "python",
   "pygments_lexer": "ipython3",
   "version": "3.8.5"
  }
 },
 "nbformat": 4,
 "nbformat_minor": 4
}
