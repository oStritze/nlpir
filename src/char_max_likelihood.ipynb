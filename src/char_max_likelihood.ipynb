{
 "cells": [
  {
   "cell_type": "markdown",
   "metadata": {},
   "source": [
    "# NLP Max Likelihood Char Pred"
   ]
  },
  {
   "cell_type": "markdown",
   "metadata": {},
   "source": [
    "Highly inspired by https://nbviewer.jupyter.org/gist/yoavg/d76121dfde2618422139"
   ]
  },
  {
   "cell_type": "code",
   "execution_count": 1,
   "metadata": {},
   "outputs": [],
   "source": [
    "%load_ext autoreload\n",
    "%autoreload 2"
   ]
  },
  {
   "cell_type": "code",
   "execution_count": 2,
   "metadata": {},
   "outputs": [],
   "source": [
    "import nltk\n",
    "import os\n",
    "import math\n",
    "import string\n",
    "import numpy as np\n",
    "from nltk.corpus import stopwords \n",
    "from nltk.tokenize import word_tokenize\n",
    "import glob\n",
    "import re\n",
    "from nltk.util import ngrams\n",
    "\n",
    "import utils\n",
    "#utils.setup_nltk()"
   ]
  },
  {
   "cell_type": "markdown",
   "metadata": {},
   "source": [
    "## Read Data"
   ]
  },
  {
   "cell_type": "code",
   "execution_count": 3,
   "metadata": {},
   "outputs": [
    {
     "data": {
      "text/plain": [
       "'Mr. President, Mrs. Ford, Mr. Vice President, Mr. Vice President-to-be, the distinguished guests here, you ladies and gentlemen. I was going to say fellow Republicans here but those who are watching from a distance, all those millions of Democrats and independents who I know are looking for a cause around which to rally and which I believe we can give them. Mr. President, before you arrive tonight, these wonderful people, here, when we came in, gave Nancy and myself a welcome. That, plus this, plus your kindness and generosity in honoring us by bringing us down here will give us a memory that will live in our hearts forever.\\nWatching on television these last few nights I\\'ve seen also the warmth with which you greeted Nancy and you also filled my heart with joy when you did that. May I say some words. There are cynics who say that a party platform is something that no one bothers to read and is doesn\\'t very often amount to much. Whether it is different this time than is has ever been before, I believe the Republican party has a platform that is a banner of bold, unmistakable colors with no pale pastel shades. We have just heard a call to arms, based on that platform.\\nAnd a call to us to really be successful in communicating and reveal to the American people the difference between this platform and the platform of the opposing party which is nothing but a revamp and a reissue and a rerunning of a late, late show of the thing that we have been hearing from them for the last 40 years.\\nIf I could just take a moment, I had an assignment the other day. Someone asked me to write a letter for a time capsule that is going to opened in Los Angeles a hundred years from now, on our Tricentennial.\\nIt sounded like an easy assignment. They suggested I write about the problems and issues of the day. And I set out to do so, riding down the coast in an automobile, looking at the blue Pacific out on one side and the Santa Ynez Mountains on the other, and I couldn\\'t help but wonder if it was going to be that beautiful a hundred years from now as it was on that summer day.\\nAnd then as I tried to write-let your own minds turn to that task. You\\'re going to write for people a hundred years from now who know all about us, we know nothing about them. We don\\'t know what kind of world they\\'ll be living in. And suddenly I thought to myself, \"If I write of the problems, they\\'ll be the domestic problems of which the President spoke here tonight; the challenges confronting us, the erosion of freedom taken place under Democratic rule in this country, the invasion of private rights, the controls and restrictions on the vitality of the great free economy that we enjoy.\" These are the challenges that we must meet and then again there is that challenge of which he spoke that we live in a world in which the great powers have aimed and poised at each other horrible missiles of destruction, nuclear weapons that can in a matter of minutes arrive at each other\\'s country and destroy virtually the civilized world we live in.\\nAnd suddenly it dawned on me; those who would read this letter a hundred years from now will know whether those missiles were fired. They will know whether we met our challenge.\\nWhether they will have the freedom that we have known up until now will depend on what we do here. Will they look back with appreciation and say, \"Thank God for those people in 1976 who headed off that loss of freedom? Who kept us now a hundred years later free? Who kept our world from nuclear destruction?\"\\nAnd if we fail they probably won\\'t get to read the letter at all because it spoke of individual freedom and they won\\'t be allowed to talk of that or read of it.\\nThis is our challenge and this is why we\\'re here in this hall tonight. Better than we\\'ve ever done before, we\\'ve got to quit talking to each other and about each other and go out and communicate to the world that we may be fewer in numbers than we\\'ve ever been but we carry the message they\\'re waiting for. We must go forth from here united, determined and what a great general said a few years ago is true: \"There is no substitute for victory.\" Mr. President.\\n'"
      ]
     },
     "execution_count": 3,
     "metadata": {},
     "output_type": "execute_result"
    }
   ],
   "source": [
    "speech = open(\"../data/reagan/1.txt\", \"r\").read()\n",
    "speech.replace(\"\\n\\n\", \"\\n\")"
   ]
  },
  {
   "cell_type": "code",
   "execution_count": 62,
   "metadata": {},
   "outputs": [],
   "source": [
    "def concat_speeches(president:str, order=4):\n",
    "    fpath = \"../data/\" + president +\"/\"\n",
    "    all_speeches = \"\"\n",
    "    for file in os.listdir(fpath):\n",
    "        if file == \".ipynb_checkpoints\":\n",
    "            next\n",
    "        else:\n",
    "            s = open(fpath+file, \"r\").read()\n",
    "            #s = s.replace(\"\\n\\n\", \"\\n\")\n",
    "            pad = \"~\" * order\n",
    "            all_speeches += pad + s + \"\\n\" \n",
    "            #all_speeches += s\n",
    "    return all_speeches\n",
    "    "
   ]
  },
  {
   "cell_type": "markdown",
   "metadata": {},
   "source": [
    "## Char Pred"
   ]
  },
  {
   "cell_type": "code",
   "execution_count": 5,
   "metadata": {},
   "outputs": [],
   "source": [
    "from collections import *\n",
    "\n",
    "def train_char_lm_on_single_speech(fname, order=4):\n",
    "    data = open(fname, \"r\").read()\n",
    "    lm = defaultdict(Counter)\n",
    "    pad = \"~\" * order\n",
    "    data = pad + data\n",
    "    for i in range(len(data)-order):\n",
    "        history, char = data[i:i+order], data[i+order]\n",
    "        lm[history][char]+=1\n",
    "    def normalize(counter):\n",
    "        s = float(sum(counter.values()))\n",
    "        return [(c,cnt/s) for c,cnt in counter.items()]\n",
    "    outlm = {hist:normalize(chars) for hist, chars in lm.items()}\n",
    "    return outlm\n",
    "\n",
    "def train_char_lm(president=\"reagan\", order=4):\n",
    "    data = concat_speeches(president, order)\n",
    "    lm = defaultdict(Counter)\n",
    "    #pad = \"~\" * order\n",
    "    #data = pad + data\n",
    "    for i in range(len(data)-order):\n",
    "        history, char = data[i:i+order], data[i+order]\n",
    "        lm[history][char]+=1\n",
    "    def normalize(counter):\n",
    "        s = float(sum(counter.values()))\n",
    "        return [(c,cnt/s) for c,cnt in counter.items()]\n",
    "    outlm = {hist:normalize(chars) for hist, chars in lm.items()}\n",
    "    return outlm"
   ]
  },
  {
   "cell_type": "code",
   "execution_count": 71,
   "metadata": {},
   "outputs": [],
   "source": [
    "import random\n",
    "\n",
    "def generate_letter(lm, history, order):\n",
    "    history = history[-order:]\n",
    "    dist = lm[history]\n",
    "    x = random.random()\n",
    "    #print(history, dist, x)\n",
    "    for c,v in dist:\n",
    "        x = x - v\n",
    "        # do not predict a \"~\" since this would mix different starts into one speech - this could be used for early-ending of the speech though\n",
    "        if x <= 0 and c != \"~\": \n",
    "            return c"
   ]
  },
  {
   "cell_type": "code",
   "execution_count": 7,
   "metadata": {},
   "outputs": [],
   "source": [
    "def generate_text(lm, order, nletters=1000):\n",
    "    history = \"~\" * order\n",
    "    out = []\n",
    "    for i in range(nletters):\n",
    "        c = generate_letter(lm, history, order)\n",
    "        history = history[-order:] + c\n",
    "        out.append(c)\n",
    "    outstring = \"\".join(out)\n",
    "    ## kill last unfinished word\n",
    "    cnt = len(outstring) - 1\n",
    "    while cnt>=0:\n",
    "        if outstring[cnt] in [\" \", \",\", \".\"]:\n",
    "            break\n",
    "        else:    \n",
    "            cnt = cnt -1\n",
    "    return outstring"
   ]
  },
  {
   "cell_type": "code",
   "execution_count": 8,
   "metadata": {},
   "outputs": [
    {
     "name": "stdout",
     "output_type": "stream",
     "text": [
      "Mr. President spoke here tonight; the challenges confronting us, the erosion of freedom that we have been hearing from them for the last 40 years.\n",
      "\n",
      "If I could just take a moment, I had an assignment. They suggested I write about the problems of which the great powers have aimed and poised at each other and about each other and go out and communicate to the world that we may be fewer in numbers than we've ever been but we carry the message they're waiting for. We must go forth from here united, d\n"
     ]
    }
   ],
   "source": [
    "order=10\n",
    "letters=500\n",
    "\n",
    "lm = train_char_lm_on_single_speech(\"../data/reagan/1.txt\", order)\n",
    "s = generate_text(lm, order, letters)\n",
    "print(s)"
   ]
  },
  {
   "cell_type": "code",
   "execution_count": 9,
   "metadata": {},
   "outputs": [
    {
     "name": "stdout",
     "output_type": "stream",
     "text": [
      "My fellow American power must be equitable proposals, as I understand, a lot of things that must eventually we have to take credit for them.\n",
      "\n",
      "Now, I know that many people who will today join the heritage to speak to you here today know what happened right after the electorate, away from the Reichstag, that embodiment of Germany. Next year, even after their aggression.\n",
      "\n",
      "For 19 out of the labor Socialist economic order are conflicting directly or indirectly sent five times more aid to Nicaragua. Now there are now reduced by only 6 percent, and freedom. At the same time help give us better government intervention and experts predicted had happened, but no excuses. Together we can remembering, remember they gave their input. And so, that was being refinanced abortion is either the taking of a human life. For someone who will fight cheerfully and steadily declining economic freedom, and Father of the fact the major issue of abortion and with individual America's pioneer spirit made us the i\n"
     ]
    }
   ],
   "source": [
    "order=10\n",
    "letters=1000\n",
    "pres = \"reagan\"\n",
    "\n",
    "lm = train_char_lm(pres, order)\n",
    "s = generate_text(lm, order, letters)\n",
    "print(s)"
   ]
  },
  {
   "cell_type": "code",
   "execution_count": 10,
   "metadata": {},
   "outputs": [
    {
     "name": "stdout",
     "output_type": "stream",
     "text": [
      "Senator Hatfield, Mr. Chief Justice study showed a deep religious belief itself.\n",
      "\n",
      "The evidence that adversaries haven't once again in the administration in history, calling for our people—they're farmers the worst year. This time it’s another budget savings must be truly \"the world's strongest support public school taxes and inflation rate.\n",
      "\n",
      "And so, that was losing, and one of them, braved ambush and gunfire and there. For example, there's been talk about people who were never defended Somoza. And, as always, with our children can once again and that was being planned, he would be remiss in my duty if I did not now takes less than current America. Meanwhile, we're working, where the unborn children in the hands of a bloated Federal Establishment isn't limited to the Senate. And he took the cliffs. These are not being paid. Now, to all of Central America. This airfield bases. What explains this administration and disunity.\n",
      "\n",
      "So, tonight, born 79 years ago.\n",
      "\n",
      "Another kind of priority would\n"
     ]
    }
   ],
   "source": [
    "order=10\n",
    "letters=1000\n",
    "pres = \"reagan\"\n",
    "\n",
    "lm = train_char_lm(pres, order)\n",
    "s = generate_text(lm, order, letters)\n",
    "print(s)"
   ]
  },
  {
   "cell_type": "markdown",
   "metadata": {},
   "source": [
    "Mr. President. Oh, I—\n",
    "\n",
    "Ms. Walters. Mr. Mondale, the closing words of one intergovernment, through witnessing and to begin hearings and then one day of battle, 10,500 Americans.\n",
    "\n",
    "Our faith in freedom for all who served or may still ask: Would the terrorists who used drugs. And this has strength.\n",
    "\n",
    "Mr. Wieghart. Mr. President, will your policy objectives in Lebanon and Israel, for our foreign policy. Franklin Delano Roosevelt in his acceptance of responsibilities. Just as all will share in the bounty of each and every single Americans of our name.\n",
    "\n",
    "The bond between our country's problems instead of retreat. This authority and is distinguished service to Congress is also essential precondition of military defenses and endangers our future. That trust began working toward the region and, in the area of national radios to build on that place way down below Mexico that can't even pass a Federal budget that says yes to protect Nicaragua, Ethiopia, those who work for peace. So, too, we think "
   ]
  },
  {
   "cell_type": "code",
   "execution_count": 73,
   "metadata": {},
   "outputs": [
    {
     "name": "stdout",
     "output_type": "stream",
     "text": [
      "TRUMP: Thank you, Paul, very much.\n",
      "\n",
      "SECRETARY BRYAN: It wouldn’t believe they have an entire community leaders, and we have some negative consequences. Nonetheless, the President —\n",
      "\n",
      "President made very clear, we want the first President. And people say, “How did that happen over the weekends and stuff. You’re doing is we’re doing a great job, in many cases, it’ll make perfect time to bring this terrible.” A shot — groundball shot is hit to second and Steve. I say — I didn’t like what I witnessed it; most people will be encourage every Americans of all Venezuela, Nicolás Maduro. (Applause.)\n",
      "\n",
      "I ask Congress to pass legislation that I decided to run for governors are Democrats themselves. About a third. (Applause.)\n",
      "\n",
      "And you’re doing that. Because their success as the tax reform the interim guidance. This has resulted in the United States -- financed and built one global pandemic, and we will have a national interests that nations do not fight endless wars, and I think it’s going to end up being a disaster; it would be a terrible crisis on our southern border, the criminal charges and convictions for dangerous.” Here we go. Same old group. You ready? Are you trying to get USMCA passed.  But we have four people.\n",
      "\n",
      "I want to rebuild American people have said, “Let me ask you this: I will now sign the First Amendment. That being taught in school, and you can even say “for centuries later, you probably come back from American way. We believe it. They want to thank the head of the virus.\n",
      "\n",
      "The Mayo Clinic, and the federal government and thank you, sir. In regards to some of them.  They were let in for years now, for the first thing they ever were, including with governors and attorney generals, some of you here tonight as when this outbreak and you have to have a lot of discussions with the Senate, we are monitoring the right thing. We have liberated almost 22 years and retired; people in order to force states that we have some very bad things. And, by the will and many lawmakers and liars. And they’re supposed to that goes 17 times faster than the class of cadets, inspecting little areas of the American people. (Applause.)\n",
      "\n",
      "Did they forever remind us that the University of Virginia and other hotspots like New Orleans home. And we’ll extend it further out of love and responding guidelines until the violence has been a big percentage of this. In other words, the United States; as well as our communities, to serve their needs every day they announced many more lives than the first pitch — Steve is standing up forgotten can we created 2.4 million masks—500 million people.  Angel Moms and Dads for being with her amazing what’s going to be open, and I will never allow to happen. Next year we’re going to work for Chrysler, who is now a much safer place.\n",
      "\n",
      "So you started on the face of this body are. It really is saying the same, whether it’s decoupling.” So you’ll start screaming at him. And I wasn’t pushed.  I wasn’t President to fill positions in seeking to address the diverse and comprehensive effort to bring back our dreams, what to think. We didn’t have gone much more quickly established.\n",
      "\n",
      "We’ll remove or eliminated more than $4,000.\n",
      "\n",
      "Small businesses—they say they do now, because you can understand these company to make decisions to shrink our armed forces—even as threats to sovereign nations let their people. These are wonderful Angel Moms.  One incredible, he gave him 1.8 billion to support Iran’s people anymore. This country.  I ran on a very good emergency executive order to gain power, than the way through. And you talk about tax cuts and tax reform these outdated and randomized immigrant can bring that money. And we have this great journey.\n",
      "\n",
      "All Americans who have said many times higher for the election in our history. And, you know about it. We need to be controversial. We said that there’ll be a lot longer than the rest of the world and we have laid the foundation for a strategy includes the following: $800 million people, there was hope.\n",
      "\n",
      "And it was going on. And believe, at this podium today, but let me say again: As states hardest hit by the virus in 30 seconds, and their students and many other places that needed treatment have received a Stage 4 advanced healthcare and prescription drugs—and to protect themselves financial hardship, the true source of this virus, and your strength, this opportunity Zones, a plan spearheaded by Senator Tim Scott for “opportunity.\n",
      "\n",
      "THE PRESIDENT: Thank you, Mr. President Pence. As always, “Oh, no, we want to thank the American lives, we are joined by the sanctions again to confront terrorists but threaten the liberties of law-abiding citizens. Yet for the Republican in 60 years, including Hezbollah, launching terrorists they are.\n",
      "\n",
      "We urge all members of the United States of American Dream, and what my recommend and commonsense reforms.\n",
      "\n",
      "There is Saudi Arabia, the Crown Prince are pursuing bold new reforms.\n",
      "\n",
      "There is India, a free society cannot allow a regime that has produced at a historic investments are pouring into our country in the world.\n",
      "\n",
      "But the ultimately won at the National Stockpile, which will start thinking about for years. And, ladies and geographic reference to align the supported my decision for our national interests abroad. It’s time to reform international numbers—the reality is this outbreak and you have to give Americans.  Action is not subsidize their goods, target our industries and lifted millions of dollars in tariffs, okay?  I mean, abuse.\n",
      "\n",
      "The — the media is not an option. This is something that commitment to the marchers at Selma, and from within.  We must never allow an angry mob to tear down crosses. We don’t think you’ve seen in this room, and our determination after Justice Scalia hired her shortly take new steps to safeguard our values are Americans.  What do you balance the deal is going on that, as I’ve said it’s not bad; that’s going to be around today if these people up there?—they take over the last 25 years? All the money they want to do that.\n",
      "\n",
      "We’re going to do with testing, it was taking hundreds of thousands of flags next to veterans choice in the world. I want to start living the Philippine soil.” He then called upon the medical doctors to see if there’s a lot of wall, making it very carefully, not only was it not just as a politicians presided over the last 75 years. They have the first way that you do is you open to think that’s number 15—and these tests. They’re going to have that vaccines have been treating patients and teachers — and doing nothing. That’s going good, yeah? I think what’s happened. Nobody has done an incredible success of testing—just like the biggest tax cuts for Americans of all Venezuela. (Applause.)\n",
      "\n",
      "Small business—50 percent—rather than punishment for certain nonviolent crimes. They want to make tremendous impact. It’s having some problems.  But we had almost a decade. (Applause.) Thank you. And if you think this is going to be able to do that. And they’re all aiming at anybody in this room, under the leaders and national power.\n",
      "\n",
      "Under the current broken system—and millions of dollars from China — at 25 percent margins. And they’re coming back into our new guidelines. That is why I am here to decide what kind of friends went that would last for a long time.\n",
      "\n",
      "And right now. Christopher Steele admits that it’s in every single week.\n",
      "\n",
      "But as we have met with today here at the United Nations can be sovereignty from uncontrolled more promises flowed, millions of dollars, then they turn to substantial costs of uncontrolled migration, and our vetting needed to protection. And they had to help battle the invisible enemy and we’re paving the greatness or gridlock, and national rebuilding of American people. The choice in the food processing problems. A lot of people here, the better. Otherwise, I’ll have a meeting of the GCC where we started talking about prescription Drug Take Back Day, people working with both humility and faculty, everybody. And, frankly—I mean, if you wouldn’t do it.  There won’t be growth. There’ll be total contraction of building of American jobs.\n",
      "\n",
      "Another historic election in other countries.  But as I have made over the past administration abruptly. So what are we doing.\n",
      "\n",
      "Okay, final question. It’s something: President, you said, Mr. President. About reopening of our economy, and the Democrats, but as represents our country.\n",
      "\n",
      "No issue better illustrate with the governor of Connecticut; the challenges to liberty.\n",
      "\n",
      "As long as it is striving.\n",
      "\n",
      "We will stop radical Islamist ideology.\n",
      "\n",
      "I am pleased to reports of groups of people don’t know what’s going to receive that information.\n",
      "\n",
      "But, you see, New York, New Jersey; and why we’re here, actually. Devin, is that right, Jim Jordan, did you ever wrestle?” “Yeah, I think there is a disaster.\n",
      "\n",
      "Q: But have your name. Oh, good—come back in the past 24 hours, the UK has added more than 300 women and girls have been mention that achieves the goal of peace, sovereign right to seize this moment—a moment that he ran one of the things, as you know, as far as Americans, but the data and the text message on, “Well, if you do what we did it. I saved hundreds of people—I especially moved to have to use them in the best.”  We have — people that would last for a long time to go. (Applause.)\n",
      "\n",
      "To safeguard their destinies.\n",
      "\n",
      "That is why I’m also asking you today as the election, she said, “Well, but we’re going to be leaving right now. The vaccine early, the end of the year of ’18.  I said, “You know, my opponent didn’t go crazy. But he did—he did it pretty late.\n",
      "\n",
      "THE PRESIDENT: So we did the states. We are committed to work.\n",
      "\n",
      "With all the men they know I’ll leave it at the right of the Cold War.  We have so many friends in the rest is history cannot believe they are talking about it. So we appreciate it. They haven’t seen—I purposely—I don’t know that all of this incredibly. And since Senator Rick Scott and Miami-Dade Mayor Carlos Giménez have the best. Think of it as w\n"
     ]
    }
   ],
   "source": [
    "order=10\n",
    "letters=10000\n",
    "pres = \"trump\"\n",
    "\n",
    "lm = train_char_lm(pres, order)\n",
    "s = generate_text(lm, order, letters)\n",
    "print(s)"
   ]
  },
  {
   "cell_type": "code",
   "execution_count": null,
   "metadata": {},
   "outputs": [],
   "source": []
  }
 ],
 "metadata": {
  "kernelspec": {
   "display_name": "nlp20",
   "language": "python",
   "name": "nlp20"
  },
  "language_info": {
   "codemirror_mode": {
    "name": "ipython",
    "version": 3
   },
   "file_extension": ".py",
   "mimetype": "text/x-python",
   "name": "python",
   "nbconvert_exporter": "python",
   "pygments_lexer": "ipython3",
   "version": "3.8.6"
  }
 },
 "nbformat": 4,
 "nbformat_minor": 4
}
