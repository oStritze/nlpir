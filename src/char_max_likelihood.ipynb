{
 "cells": [
  {
   "cell_type": "markdown",
   "metadata": {},
   "source": [
    "# NLP Max Likelihood Char Pred"
   ]
  },
  {
   "cell_type": "markdown",
   "metadata": {},
   "source": [
    "Highly inspired by https://nbviewer.jupyter.org/gist/yoavg/d76121dfde2618422139"
   ]
  },
  {
   "cell_type": "code",
   "execution_count": 1,
   "metadata": {},
   "outputs": [],
   "source": [
    "%load_ext autoreload\n",
    "%autoreload 2"
   ]
  },
  {
   "cell_type": "code",
   "execution_count": 2,
   "metadata": {},
   "outputs": [],
   "source": [
    "import nltk\n",
    "import os\n",
    "import math\n",
    "import string\n",
    "import numpy as np\n",
    "from nltk.corpus import stopwords \n",
    "from nltk.tokenize import word_tokenize\n",
    "import glob\n",
    "import re\n",
    "from nltk.util import ngrams\n",
    "\n",
    "import utils\n",
    "#utils.setup_nltk()"
   ]
  },
  {
   "cell_type": "markdown",
   "metadata": {},
   "source": [
    "## Read Data"
   ]
  },
  {
   "cell_type": "code",
   "execution_count": 3,
   "metadata": {},
   "outputs": [
    {
     "data": {
      "text/plain": [
       "'Mr. President, Mrs. Ford, Mr. Vice President, Mr. Vice President-to-be, the distinguished guests here, you ladies and gentlemen. I was going to say fellow Republicans here but those who are watching from a distance, all those millions of Democrats and independents who I know are looking for a cause around which to rally and which I believe we can give them. Mr. President, before you arrive tonight, these wonderful people, here, when we came in, gave Nancy and myself a welcome. That, plus this, plus your kindness and generosity in honoring us by bringing us down here will give us a memory that will live in our hearts forever.\\nWatching on television these last few nights I\\'ve seen also the warmth with which you greeted Nancy and you also filled my heart with joy when you did that. May I say some words. There are cynics who say that a party platform is something that no one bothers to read and is doesn\\'t very often amount to much. Whether it is different this time than is has ever been before, I believe the Republican party has a platform that is a banner of bold, unmistakable colors with no pale pastel shades. We have just heard a call to arms, based on that platform.\\nAnd a call to us to really be successful in communicating and reveal to the American people the difference between this platform and the platform of the opposing party which is nothing but a revamp and a reissue and a rerunning of a late, late show of the thing that we have been hearing from them for the last 40 years.\\nIf I could just take a moment, I had an assignment the other day. Someone asked me to write a letter for a time capsule that is going to opened in Los Angeles a hundred years from now, on our Tricentennial.\\nIt sounded like an easy assignment. They suggested I write about the problems and issues of the day. And I set out to do so, riding down the coast in an automobile, looking at the blue Pacific out on one side and the Santa Ynez Mountains on the other, and I couldn\\'t help but wonder if it was going to be that beautiful a hundred years from now as it was on that summer day.\\nAnd then as I tried to write-let your own minds turn to that task. You\\'re going to write for people a hundred years from now who know all about us, we know nothing about them. We don\\'t know what kind of world they\\'ll be living in. And suddenly I thought to myself, \"If I write of the problems, they\\'ll be the domestic problems of which the President spoke here tonight; the challenges confronting us, the erosion of freedom taken place under Democratic rule in this country, the invasion of private rights, the controls and restrictions on the vitality of the great free economy that we enjoy.\" These are the challenges that we must meet and then again there is that challenge of which he spoke that we live in a world in which the great powers have aimed and poised at each other horrible missiles of destruction, nuclear weapons that can in a matter of minutes arrive at each other\\'s country and destroy virtually the civilized world we live in.\\nAnd suddenly it dawned on me; those who would read this letter a hundred years from now will know whether those missiles were fired. They will know whether we met our challenge.\\nWhether they will have the freedom that we have known up until now will depend on what we do here. Will they look back with appreciation and say, \"Thank God for those people in 1976 who headed off that loss of freedom? Who kept us now a hundred years later free? Who kept our world from nuclear destruction?\"\\nAnd if we fail they probably won\\'t get to read the letter at all because it spoke of individual freedom and they won\\'t be allowed to talk of that or read of it.\\nThis is our challenge and this is why we\\'re here in this hall tonight. Better than we\\'ve ever done before, we\\'ve got to quit talking to each other and about each other and go out and communicate to the world that we may be fewer in numbers than we\\'ve ever been but we carry the message they\\'re waiting for. We must go forth from here united, determined and what a great general said a few years ago is true: \"There is no substitute for victory.\" Mr. President.\\n'"
      ]
     },
     "execution_count": 3,
     "metadata": {},
     "output_type": "execute_result"
    }
   ],
   "source": [
    "speech = open(\"../data/reagan/1.txt\", \"r\").read()\n",
    "speech.replace(\"\\n\\n\", \"\\n\")"
   ]
  },
  {
   "cell_type": "code",
   "execution_count": 4,
   "metadata": {},
   "outputs": [],
   "source": [
    "def concat_speeches(president:str, order=4):\n",
    "    fpath = \"../data/\" + president +\"/\"\n",
    "    all_speeches = \"\"\n",
    "    for file in os.listdir(fpath):\n",
    "        s = open(fpath+file, \"r\").read()\n",
    "        #s = s.replace(\"\\n\\n\", \"\\n\")\n",
    "        pad = \"~\" * order\n",
    "        all_speeches += pad + s + \"\\n\"\n",
    "        #all_speeches += s\n",
    "    return all_speeches\n",
    "    "
   ]
  },
  {
   "cell_type": "markdown",
   "metadata": {},
   "source": [
    "## Char Pred"
   ]
  },
  {
   "cell_type": "code",
   "execution_count": 5,
   "metadata": {},
   "outputs": [],
   "source": [
    "from collections import *\n",
    "\n",
    "def train_char_lm_on_single_speech(fname, order=4):\n",
    "    data = open(fname, \"r\").read()\n",
    "    lm = defaultdict(Counter)\n",
    "    pad = \"~\" * order\n",
    "    data = pad + data\n",
    "    for i in range(len(data)-order):\n",
    "        history, char = data[i:i+order], data[i+order]\n",
    "        lm[history][char]+=1\n",
    "    def normalize(counter):\n",
    "        s = float(sum(counter.values()))\n",
    "        return [(c,cnt/s) for c,cnt in counter.items()]\n",
    "    outlm = {hist:normalize(chars) for hist, chars in lm.items()}\n",
    "    return outlm\n",
    "\n",
    "def train_char_lm(president=\"reagan\", order=4):\n",
    "    data = concat_speeches(president, order)\n",
    "    lm = defaultdict(Counter)\n",
    "    #pad = \"~\" * order\n",
    "    #data = pad + data\n",
    "    for i in range(len(data)-order):\n",
    "        history, char = data[i:i+order], data[i+order]\n",
    "        lm[history][char]+=1\n",
    "    def normalize(counter):\n",
    "        s = float(sum(counter.values()))\n",
    "        return [(c,cnt/s) for c,cnt in counter.items()]\n",
    "    outlm = {hist:normalize(chars) for hist, chars in lm.items()}\n",
    "    return outlm"
   ]
  },
  {
   "cell_type": "code",
   "execution_count": 6,
   "metadata": {},
   "outputs": [],
   "source": [
    "import random\n",
    "\n",
    "def generate_letter(lm, history, order):\n",
    "    history = history[-order:]\n",
    "    dist = lm[history]\n",
    "    x = random.random()\n",
    "    #print(history, dist, x)\n",
    "    for c,v in dist:\n",
    "        x = x - v\n",
    "        if x <= 0: return c"
   ]
  },
  {
   "cell_type": "code",
   "execution_count": 7,
   "metadata": {},
   "outputs": [],
   "source": [
    "def generate_text(lm, order, nletters=1000):\n",
    "    history = \"~\" * order\n",
    "    out = []\n",
    "    for i in range(nletters):\n",
    "        c = generate_letter(lm, history, order)\n",
    "        history = history[-order:] + c\n",
    "        out.append(c)\n",
    "    outstring = \"\".join(out)\n",
    "    ## kill last unfinished word\n",
    "    cnt = len(outstring) - 1\n",
    "    while cnt>=0:\n",
    "        if outstring[cnt] in [\" \", \",\", \".\"]:\n",
    "            break\n",
    "        else:    \n",
    "            cnt = cnt -1\n",
    "    return outstring"
   ]
  },
  {
   "cell_type": "code",
   "execution_count": 8,
   "metadata": {},
   "outputs": [
    {
     "name": "stdout",
     "output_type": "stream",
     "text": [
      "Mr. President spoke here tonight; the challenges confronting us, the erosion of freedom that we have been hearing from them for the last 40 years.\n",
      "\n",
      "If I could just take a moment, I had an assignment. They suggested I write about the problems of which the great powers have aimed and poised at each other and about each other and go out and communicate to the world that we may be fewer in numbers than we've ever been but we carry the message they're waiting for. We must go forth from here united, d\n"
     ]
    }
   ],
   "source": [
    "order=10\n",
    "letters=500\n",
    "\n",
    "lm = train_char_lm_on_single_speech(\"../data/reagan/1.txt\", order)\n",
    "s = generate_text(lm, order, letters)\n",
    "print(s)"
   ]
  },
  {
   "cell_type": "code",
   "execution_count": 9,
   "metadata": {},
   "outputs": [
    {
     "name": "stdout",
     "output_type": "stream",
     "text": [
      "My fellow American power must be equitable proposals, as I understand, a lot of things that must eventually we have to take credit for them.\n",
      "\n",
      "Now, I know that many people who will today join the heritage to speak to you here today know what happened right after the electorate, away from the Reichstag, that embodiment of Germany. Next year, even after their aggression.\n",
      "\n",
      "For 19 out of the labor Socialist economic order are conflicting directly or indirectly sent five times more aid to Nicaragua. Now there are now reduced by only 6 percent, and freedom. At the same time help give us better government intervention and experts predicted had happened, but no excuses. Together we can remembering, remember they gave their input. And so, that was being refinanced abortion is either the taking of a human life. For someone who will fight cheerfully and steadily declining economic freedom, and Father of the fact the major issue of abortion and with individual America's pioneer spirit made us the i\n"
     ]
    }
   ],
   "source": [
    "order=10\n",
    "letters=1000\n",
    "pres = \"reagan\"\n",
    "\n",
    "lm = train_char_lm(pres, order)\n",
    "s = generate_text(lm, order, letters)\n",
    "print(s)"
   ]
  },
  {
   "cell_type": "code",
   "execution_count": 10,
   "metadata": {},
   "outputs": [
    {
     "name": "stdout",
     "output_type": "stream",
     "text": [
      "Senator Hatfield, Mr. Chief Justice study showed a deep religious belief itself.\n",
      "\n",
      "The evidence that adversaries haven't once again in the administration in history, calling for our people—they're farmers the worst year. This time it’s another budget savings must be truly \"the world's strongest support public school taxes and inflation rate.\n",
      "\n",
      "And so, that was losing, and one of them, braved ambush and gunfire and there. For example, there's been talk about people who were never defended Somoza. And, as always, with our children can once again and that was being planned, he would be remiss in my duty if I did not now takes less than current America. Meanwhile, we're working, where the unborn children in the hands of a bloated Federal Establishment isn't limited to the Senate. And he took the cliffs. These are not being paid. Now, to all of Central America. This airfield bases. What explains this administration and disunity.\n",
      "\n",
      "So, tonight, born 79 years ago.\n",
      "\n",
      "Another kind of priority would\n"
     ]
    }
   ],
   "source": [
    "order=10\n",
    "letters=1000\n",
    "pres = \"reagan\"\n",
    "\n",
    "lm = train_char_lm(pres, order)\n",
    "s = generate_text(lm, order, letters)\n",
    "print(s)"
   ]
  },
  {
   "cell_type": "markdown",
   "metadata": {},
   "source": [
    "Mr. President. Oh, I—\n",
    "\n",
    "Ms. Walters. Mr. Mondale, the closing words of one intergovernment, through witnessing and to begin hearings and then one day of battle, 10,500 Americans.\n",
    "\n",
    "Our faith in freedom for all who served or may still ask: Would the terrorists who used drugs. And this has strength.\n",
    "\n",
    "Mr. Wieghart. Mr. President, will your policy objectives in Lebanon and Israel, for our foreign policy. Franklin Delano Roosevelt in his acceptance of responsibilities. Just as all will share in the bounty of each and every single Americans of our name.\n",
    "\n",
    "The bond between our country's problems instead of retreat. This authority and is distinguished service to Congress is also essential precondition of military defenses and endangers our future. That trust began working toward the region and, in the area of national radios to build on that place way down below Mexico that can't even pass a Federal budget that says yes to protect Nicaragua, Ethiopia, those who work for peace. So, too, we think "
   ]
  },
  {
   "cell_type": "code",
   "execution_count": null,
   "metadata": {},
   "outputs": [],
   "source": []
  }
 ],
 "metadata": {
  "kernelspec": {
   "display_name": "nlp20",
   "language": "python",
   "name": "nlp20"
  },
  "language_info": {
   "codemirror_mode": {
    "name": "ipython",
    "version": 3
   },
   "file_extension": ".py",
   "mimetype": "text/x-python",
   "name": "python",
   "nbconvert_exporter": "python",
   "pygments_lexer": "ipython3",
   "version": "3.8.6"
  }
 },
 "nbformat": 4,
 "nbformat_minor": 4
}
