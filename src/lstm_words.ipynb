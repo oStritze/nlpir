{
 "cells": [
  {
   "cell_type": "markdown",
   "metadata": {},
   "source": [
    "# <u> LSTM ENCODER DECODER"
   ]
  },
  {
   "cell_type": "markdown",
   "metadata": {},
   "source": [
    "# Data"
   ]
  },
  {
   "cell_type": "code",
   "execution_count": 1,
   "metadata": {},
   "outputs": [],
   "source": [
    "import utils\n",
    "import numpy as np\n",
    "\n",
    "#utils.setup_nltk()\n",
    "PRESIDENT = 'obama'\n",
    "speeches = utils.read_all_text_files(PRESIDENT)"
   ]
  },
  {
   "cell_type": "code",
   "execution_count": 2,
   "metadata": {},
   "outputs": [],
   "source": [
    "assert np.mean([len(x) for x in speeches]) == 4878.9"
   ]
  },
  {
   "cell_type": "markdown",
   "metadata": {},
   "source": [
    "### Preprocessing"
   ]
  },
  {
   "cell_type": "code",
   "execution_count": 3,
   "metadata": {},
   "outputs": [],
   "source": [
    "filter_list = [':', '(', ')', ',', '-',]\n",
    "filtered_speeches = []\n",
    "\n",
    "for speech in speeches:\n",
    "    filtered_speech = []\n",
    "    for word in speech:\n",
    "        # filter out unwanted words\n",
    "        if word not in filter_list:\n",
    "            # lower word\n",
    "            filtered_speech.append(word.lower())\n",
    "    filtered_speeches.append(filtered_speech)"
   ]
  },
  {
   "cell_type": "markdown",
   "metadata": {},
   "source": [
    "### Create N-Grams"
   ]
  },
  {
   "cell_type": "code",
   "execution_count": 4,
   "metadata": {},
   "outputs": [],
   "source": [
    "from nltk import ngrams\n",
    "\n",
    "WINDOW = 5\n",
    "grams = [ngrams(s, WINDOW+1) for s in filtered_speeches]\n",
    "flat_grams = [ng for speech in grams for ng in speech]"
   ]
  },
  {
   "cell_type": "markdown",
   "metadata": {},
   "source": [
    "### Split Data"
   ]
  },
  {
   "cell_type": "code",
   "execution_count": 5,
   "metadata": {},
   "outputs": [],
   "source": [
    "import pandas as pd\n",
    "\n",
    "X = [' '.join(list(x[0:WINDOW])) for x in flat_grams]\n",
    "Y = [x[-1] for x in flat_grams]\n",
    "df = pd.DataFrame.from_dict({'x':X, 'y':Y})\n",
    "\n",
    "# persist\n",
    "csv_name = '../data/lstm/' + PRESIDENT + '_preproc/encdec_' + str(WINDOW) + 'grams.csv'\n",
    "df.to_csv(csv_name, index=False)"
   ]
  },
  {
   "cell_type": "code",
   "execution_count": 6,
   "metadata": {},
   "outputs": [],
   "source": [
    "#assert len(df) == 230020"
   ]
  },
  {
   "cell_type": "code",
   "execution_count": 7,
   "metadata": {},
   "outputs": [
    {
     "name": "stderr",
     "output_type": "stream",
     "text": [
      "/home/gabriel/.local/lib/python3.8/site-packages/torchtext/data/field.py:150: UserWarning: Field class will be retired soon and moved to torchtext.legacy. Please see the most recent release notes for further information.\n",
      "  warnings.warn('{} class will be retired soon and moved to torchtext.legacy. Please see the most recent release notes for further information.'.format(self.__class__.__name__), UserWarning)\n",
      "/home/gabriel/.local/lib/python3.8/site-packages/torchtext/data/example.py:68: UserWarning: Example class will be retired soon and moved to torchtext.legacy. Please see the most recent release notes for further information.\n",
      "  warnings.warn('Example class will be retired soon and moved to torchtext.legacy. Please see the most recent release notes for further information.', UserWarning)\n",
      "/home/gabriel/.local/lib/python3.8/site-packages/torchtext/data/example.py:78: UserWarning: Example class will be retired soon and moved to torchtext.legacy. Please see the most recent release notes for further information.\n",
      "  warnings.warn('Example class will be retired soon and moved to torchtext.legacy. Please see the most recent release notes for further information.', UserWarning)\n"
     ]
    }
   ],
   "source": [
    "import torchtext\n",
    "\n",
    "XFIELD = torchtext.data.Field(sequential=True)\n",
    "YFIELD = torchtext.data.Field(sequential=True)\n",
    "DATA = torchtext.data.TabularDataset(csv_name,'csv', \n",
    "                                     [('x', XFIELD),('y', YFIELD)], skip_header=True)\n",
    "\n",
    "XFIELD.build_vocab(DATA)  \n",
    "YFIELD.build_vocab(DATA)"
   ]
  },
  {
   "cell_type": "code",
   "execution_count": 8,
   "metadata": {},
   "outputs": [
    {
     "name": "stderr",
     "output_type": "stream",
     "text": [
      "/home/gabriel/.local/lib/python3.8/site-packages/torchtext/data/iterator.py:48: UserWarning: Iterator class will be retired soon and moved to torchtext.legacy. Please see the most recent release notes for further information.\n",
      "  warnings.warn('{} class will be retired soon and moved to torchtext.legacy. Please see the most recent release notes for further information.'.format(self.__class__.__name__), UserWarning)\n"
     ]
    }
   ],
   "source": [
    "from torchtext.data import BucketIterator, Iterator\n",
    "import torch\n",
    "\n",
    "BATCH_SIZE = 64\n",
    "device = torch.device('cuda' if torch.cuda.is_available() else 'cpu')\n",
    "train_iterator = Iterator(DATA, BATCH_SIZE, device=device, train=True)"
   ]
  },
  {
   "cell_type": "code",
   "execution_count": 9,
   "metadata": {},
   "outputs": [],
   "source": [
    "assert device.type == 'cuda'"
   ]
  },
  {
   "cell_type": "markdown",
   "metadata": {},
   "source": [
    "# Neural Networks"
   ]
  },
  {
   "cell_type": "markdown",
   "metadata": {},
   "source": [
    "### Encoder"
   ]
  },
  {
   "cell_type": "code",
   "execution_count": 10,
   "metadata": {},
   "outputs": [],
   "source": [
    "import torch.nn as nn\n",
    "\n",
    "class Encoder(nn.Module):\n",
    "    def __init__(self, vocab_size, hidden_size, embedding_dim, num_layers):\n",
    "        super(Encoder, self).__init__()\n",
    "        self.embedding = nn.Embedding(vocab_size, embedding_dim)\n",
    "        self.lstm = nn.LSTM(embedding_dim, hidden_size, num_layers=num_layers, bidirectional=True)\n",
    "\n",
    "    def forward(self, x, h0, c0):\n",
    "        x = self.embedding(x).unsqueeze(0)\n",
    "        out, (h0, c0) = self.lstm(x, (h0, c0))\n",
    "        return out, (h0, c0)"
   ]
  },
  {
   "cell_type": "markdown",
   "metadata": {},
   "source": [
    "### Decoder"
   ]
  },
  {
   "cell_type": "code",
   "execution_count": 11,
   "metadata": {},
   "outputs": [],
   "source": [
    "class Decoder(nn.Module):\n",
    "    def __init__(self, vocab_size, hidden_size, embedding_dim, num_layers):\n",
    "        super(Decoder, self).__init__()\n",
    "        self.embedding = nn.Embedding(vocab_size, embedding_dim)\n",
    "        self.lstm = nn.LSTM(embedding_dim, hidden_size, num_layers=num_layers, dropout=0.5, bidirectional=True)\n",
    "        self.dense = nn.Linear(hidden_size*2, vocab_size)\n",
    "        self.softmax = nn.LogSoftmax(dim=1)\n",
    "  \n",
    "    def forward(self, x, h0, c0):\n",
    "        x = self.embedding(x)\n",
    "        x, (h0, c0) = self.lstm(x, (h0, c0))\n",
    "        x = self.dense(x.squeeze(0))\n",
    "        x = self.softmax(x)\n",
    "        return x, (h0, c0)"
   ]
  },
  {
   "cell_type": "markdown",
   "metadata": {},
   "source": [
    "### Training"
   ]
  },
  {
   "cell_type": "code",
   "execution_count": 12,
   "metadata": {},
   "outputs": [],
   "source": [
    "HIDDEN_SIZE = 20\n",
    "EMBEDDING_SIZE = 50\n",
    "NUM_LAYERS = 2\n",
    "LR = 0.01\n",
    "ENC_LEARNING_RATE = LR\n",
    "DEC_LEARNING_RATE = LR\n",
    "criterion = nn.NLLLoss()\n",
    "\n",
    "encoder = Encoder(len(XFIELD.vocab), HIDDEN_SIZE, EMBEDDING_SIZE, NUM_LAYERS).to(device)\n",
    "decoder = Decoder(len(XFIELD.vocab), HIDDEN_SIZE, EMBEDDING_SIZE, NUM_LAYERS).to(device)\n",
    "enc_optimizer = torch.optim.Adam(encoder.parameters(), lr = ENC_LEARNING_RATE)\n",
    "dec_optimizer = torch.optim.Adam(decoder.parameters(), lr = DEC_LEARNING_RATE)"
   ]
  },
  {
   "cell_type": "code",
   "execution_count": 13,
   "metadata": {},
   "outputs": [
    {
     "name": "stderr",
     "output_type": "stream",
     "text": [
      "  0%|          | 0/3593 [00:00<?, ?it/s]/home/gabriel/.local/lib/python3.8/site-packages/torchtext/data/batch.py:23: UserWarning: Batch class will be retired soon and moved to torchtext.legacy. Please see the most recent release notes for further information.\n",
      "  warnings.warn('{} class will be retired soon and moved to torchtext.legacy. Please see the most recent release notes for further information.'.format(self.__class__.__name__), UserWarning)\n",
      "100%|█████████▉| 3592/3593 [01:15<00:00, 47.68it/s]\n",
      "  0%|          | 0/3593 [00:00<?, ?it/s]"
     ]
    },
    {
     "name": "stdout",
     "output_type": "stream",
     "text": [
      "AVG_LOSS=5.8042, (ABS=20851.05)\n"
     ]
    },
    {
     "name": "stderr",
     "output_type": "stream",
     "text": [
      "100%|█████████▉| 3592/3593 [01:14<00:00, 48.13it/s]\n",
      "  0%|          | 0/3593 [00:00<?, ?it/s]"
     ]
    },
    {
     "name": "stdout",
     "output_type": "stream",
     "text": [
      "AVG_LOSS=5.2545, (ABS=18876.43)\n"
     ]
    },
    {
     "name": "stderr",
     "output_type": "stream",
     "text": [
      "100%|█████████▉| 3592/3593 [01:07<00:00, 53.53it/s]\n",
      "  0%|          | 0/3593 [00:00<?, ?it/s]"
     ]
    },
    {
     "name": "stdout",
     "output_type": "stream",
     "text": [
      "AVG_LOSS=5.0615, (ABS=18182.94)\n"
     ]
    },
    {
     "name": "stderr",
     "output_type": "stream",
     "text": [
      "100%|█████████▉| 3592/3593 [00:59<00:00, 60.47it/s]\n",
      "  0%|          | 0/3593 [00:00<?, ?it/s]"
     ]
    },
    {
     "name": "stdout",
     "output_type": "stream",
     "text": [
      "AVG_LOSS=4.9363, (ABS=17733.36)\n"
     ]
    },
    {
     "name": "stderr",
     "output_type": "stream",
     "text": [
      "100%|█████████▉| 3592/3593 [00:57<00:00, 62.22it/s]"
     ]
    },
    {
     "name": "stdout",
     "output_type": "stream",
     "text": [
      "AVG_LOSS=4.8533, (ABS=17435.03)\n"
     ]
    },
    {
     "name": "stderr",
     "output_type": "stream",
     "text": [
      "\n"
     ]
    }
   ],
   "source": [
    "from tqdm import tqdm\n",
    "\n",
    "EPOCHS = 5\n",
    "for ep in range(EPOCHS):\n",
    "    ep_loss = 0\n",
    "    \n",
    "    for batch in tqdm(train_iterator):\n",
    "        if len(batch) != BATCH_SIZE: break;\n",
    "        inp = batch.x\n",
    "        target = batch.y\n",
    "        \n",
    "        # init\n",
    "        loss = 0\n",
    "        h0 = torch.zeros(NUM_LAYERS*2, BATCH_SIZE, HIDDEN_SIZE).to(device)\n",
    "        c0 = torch.zeros(NUM_LAYERS*2, BATCH_SIZE, HIDDEN_SIZE).to(device)\n",
    "        enc_optimizer.zero_grad()\n",
    "        dec_optimizer.zero_grad()\n",
    "        \n",
    "        # encode\n",
    "        for w in range(inp.size(0)):\n",
    "            enc_out, (h0, c0) = encoder(inp[w], h0, c0)\n",
    "            \n",
    "        # decode\n",
    "        cur = inp[WINDOW-1].unsqueeze(0)\n",
    "        dec_out, (_, _) = decoder(cur, h0, c0)        \n",
    "        cur = torch.argmax(dec_out,dim=1)\n",
    "        \n",
    "        # loss\n",
    "        # target_onehot = torch.nn.functional.one_hot(target.squeeze(), len(YFIELD.vocab))\n",
    "        loss += criterion(dec_out, target.squeeze())\n",
    "        \n",
    "        # optimize\n",
    "        ep_loss += loss\n",
    "        loss.backward()\n",
    "        enc_optimizer.step()\n",
    "        dec_optimizer.step()\n",
    "        \n",
    "    print('AVG_LOSS={}, (ABS={})'.format(round((ep_loss/(len(DATA)/BATCH_SIZE)).item(),4), round(ep_loss.item(),2)))"
   ]
  },
  {
   "cell_type": "markdown",
   "metadata": {},
   "source": [
    "# Generate Text!"
   ]
  },
  {
   "cell_type": "markdown",
   "metadata": {},
   "source": [
    "### functions"
   ]
  },
  {
   "cell_type": "code",
   "execution_count": 52,
   "metadata": {},
   "outputs": [],
   "source": [
    "from torch import torch\n",
    "\n",
    "def voc_index(words):\n",
    "    return torch.tensor([XFIELD.vocab.stoi[x] for x in words]).to(device)\n",
    "\n",
    "def predict(inp, RND_FACTOR=0, multiply=False, h0=None, c0=None):\n",
    "    with torch.no_grad():\n",
    "        \n",
    "        if h0 == None:\n",
    "            h0 = torch.zeros(2*NUM_LAYERS, BATCH_SIZE, HIDDEN_SIZE).to(device)\n",
    "        if c0 == None:\n",
    "            c0 = torch.zeros(2*NUM_LAYERS, BATCH_SIZE, HIDDEN_SIZE).to(device)\n",
    "        \n",
    "        for w in range(inp.size(0)):\n",
    "                enc_out, (h0, c0) = encoder(inp[w], h0, c0)\n",
    "\n",
    "        cur = inp[WINDOW-1].unsqueeze(0)\n",
    "        dec_out, (h0, c0) = decoder(cur, h0, c0)\n",
    "        \n",
    "        # randomize\n",
    "        if multiply:\n",
    "            rnd = torch.rand(dec_out.shape).to(device) * RND_FACTOR + 1\n",
    "            cur = torch.argmax(dec_out * rnd,dim=1)\n",
    "        else:\n",
    "            rnd = torch.rand(dec_out.shape).to(device) * RND_FACTOR\n",
    "            cur = torch.argmax(dec_out.add(rnd),dim=1)\n",
    "\n",
    "        return YFIELD.vocab.itos[cur[0].item()], (h0, c0)\n",
    "\n",
    "def generate(intro=['good', 'evening', 'ladies', 'and', 'gentlemen'], multiply=False, rnd_factor=10, length=100, decay=None):\n",
    "    text = intro\n",
    "    h0 = torch.zeros(2*NUM_LAYERS, BATCH_SIZE, HIDDEN_SIZE).to(device)\n",
    "    c0 = torch.zeros(2*NUM_LAYERS, BATCH_SIZE, HIDDEN_SIZE).to(device)\n",
    "    \n",
    "    for i in range(length):\n",
    "        cur_window = text[-WINDOW:]\n",
    "        vecs = voc_index(cur_window).view(WINDOW,1).repeat(1,BATCH_SIZE)\n",
    "        \n",
    "        if decay:\n",
    "            prediction, (h0, c0) = predict(vecs, rnd_factor, multiply, h0, c0)\n",
    "            #h0 = torch.rand(h0.shape).to(device) * h0\n",
    "            #c0 = torch.rand(c0.shape).to(device) * c0\n",
    "        else:\n",
    "            prediction, _ = predict(vecs, rnd_factor, multiply)\n",
    "            \n",
    "        text.append(prediction)\n",
    "\n",
    "    return ' '.join(text)"
   ]
  },
  {
   "cell_type": "markdown",
   "metadata": {},
   "source": [
    "### create N speeches"
   ]
  },
  {
   "cell_type": "code",
   "execution_count": 92,
   "metadata": {},
   "outputs": [
    {
     "name": "stdout",
     "output_type": "stream",
     "text": [
      "CPU times: user 7min 12s, sys: 6.53 s, total: 7min 19s\n",
      "Wall time: 7min 18s\n"
     ]
    },
    {
     "data": {
      "text/plain": [
       "\"good evening ladies and gentlemen and that ’ s what we ’ re the same . applause . and i believe that the american people that we ’ re going to be a huge group and one of the world that has been a chance to make sure that the same of the united states and our military . and what i want to tell us that we ’ re the same people . and as it . i ’ m announcing a lot of our allies . and it ’ s time that we ’ re the way for the same well i ’ m confident that we ’ re a more perfect of the world . and i want to work with a nation of the world . and i want to the same way for the first time that i ’ m asking a new foundation of the world . and i know that our children can be a new foundation for a trillion plan . and i know that we ’ re going to the american who has been able to the future to the world . that ’ s why the world . and i ’ m confident that we ’ re in the future that have been a lot of the american people in the world . applause . and i ’ m here in the globe . and that ’ s why i ’ ve made the right thing to make sure that the world . and we ’ re born to the globe and our children . it ’ s what we ’ re a better life . applause . the future is the most important thing i believe that the world has been able to the past school . but i ’ m here today . and i want to make sure that the american people that has been a lot of the same jobs . applause . and i ’ m not just going to be able to work with the way that we ’ re going to make sure that the first of our children . and we ’ re a lot of who have been the same thing and the same regime that we ’ re willing to be a lot of the world that i have made our own security . and i want to thank the same that i ’ m going to be here to be able to be able to help in the world that the world . applause . and i want to be able to make sure that the american people that i ’ m here in the world that includes the same . applause . i will not be a job . and that ’ s why i want to make sure that you ’ re a chance to the world in the world that we ’ re a chance to be a higher group of the globe . and i ’ m going to take a lot of a nation that ’ s the same people that the same people that they ’ re the same ones . but i want to work in the first way of the world that i ’ m proposing that the american people that has been an economy that they are the same jobs . and i ’ m here tonight in the world . and that ’ s why i ’ m asking the same way that i ’ ve seen the world . and i ’ m here in the last two years ago we ’ re going to make sure that the world . and i want to be not to be a job or a new foundation of the world . but i want to be able to do . but i ’ m proposing that we ’ re in the first time that we ’ re more serious years . and i ’ m confident that we ’ re going to do with the united states of america . and that ’ s what i ’ ve lost a lot of americans . it ’ s what we ’ re the same way . but i ’ m here today . and i want to do . and that ’ s why i ’ m going to be able to go forward . and i want to thank that the world . and i ’ m here today and a fair share of our children . applause . i ’ m going to be important to be able to help our people and the same people that we ’ re willing to do . and i ’ m told that the american people that we ’ re the same of the world that we can do what it ’ s not the promise of our security . that ’ s why we ’ re the world . and i ’ m proposing that the people of the american people . and i want to make it in the globe . applause . i want to know that it ’ s a lot of . and i want to make sure that we ’ re the same to be clear . and that ’ s why the world that i know that the world that has been the same people that has been able to make the same and human rights . applause . and we ’ re going to be able to be done . but it ’ s what ’ s right here today . applause . that ’ s why i ’ m proposing that the american people who are a chance to do . and as a new foundation of the world . applause . and i want to be able to work and the first time we ’ re the most important jobs of the future that we ’ re a lot of and the most important of the middle east and north africa . and that ’ s why we ’ re going to work . applause . and i want to be able to be more than the world . applause . we ’ re going to be able to be a home to make a new foundation for a new foundation of our national system . applause . and as the same thing for the first time of the middle months . applause . we ’ re the same thing . and i want to be a lot of a lot of the same way in the globe who ’ s a few of the world . and i want to change our people . i want to thank the same that i want to thank that the united states of america . applause . and i want to be a new measure of our children . and i ’ m here today . and i ’ ve done . applause . i ’ ve asked the same people and the same program . applause . i ’ m talking about the same thing to work and a fair share of our children . it ’ s what . and the american people that the world . and i know that the first of our economy and the first time . and i want to be clear that it ’ s a choice of the world . applause . it ’ s not the same . and so that ’ s right to the world . and i ’ m going to be here to be a lot of people and we ’ re the same way . but i want to be able to go for the world . and as the most important time that the same that we ’ re a new foundation of our economy . applause . and i want to thank the same thing for the world and we ’ re the right thing that we ’ re the promise of the world . and that ’ s why we ’ re going to be able to make the same people that they ’ re the same thing that we ’ re going to be a lot of the world that i want to thank the same for the way we ’ re going to make sure that we ’ re going to be able to be able to be able to be able to be done . and i want to thank that the united states of america . and i ’ m confident that our own . and i ’ m here . applause . i want to make sure that the american people that we ’ re going to make sure that a new crisis . and i want to repeat a few who was the same for the world . but i ’ m talking about the same of the united states of america . but i think it ’ s a time that are more efficient to the world . that ’ s why we ’ re doing . and i ’ m proposing that the world . and i will not tolerate the notion that we ’ re the right thing of the world . and i ’ m here . and i ’ m confident that we ’ re willing to make sure that our children has been able to be able to make sure that the american people that the united states of america . and that ’ s why i ’ m announcing . and we ’ re going that the most powerful of the next two years that we ’ re the same and a lot of the way that i ’ m here today . and i want to make sure that the first time we ’ re going to help the future that the american people that you ’ re the right thing that we ’ re willing to make sure we ’ re the same . and i ’ m going to be sure that the world that i ’ m here in the world that has been a lot of a man . and i want to make sure that we ’ re going to do . applause . and in the past . and i want to be a chance to be a chance to be a new foundation for the end of the country . applause . and i want to know that we ’ re doing that the first time we ’ re going to be able to do . applause . i ’ m going to be important to be a lot of jobs . applause . it ’ s a new foundation for the same and many of the last two years . and we ’ re the same who we ’ re going to be able to get the same thing to be able to make it . and we ’ re the same ones . and that ’ s why we ’ re in the world . and the first thing i want to make sure that the first of the world . and in the world that we ’ re the same and more to be a vote that will be a new education . and if we ’ re getting in the world . and that ’ s why we ’ re a lot of that . i want to be able to be the same . and that ’ s why i ’ ve done . and i ’ ve been able to be able to get the way that the united states of america . and it ’ s not just possible and the american people that i ’ m proposing that we ’ re going to work with the way that i ’ ve been not the same thing that the world . applause . it ’ s the same thing to make us and that the time we ’ re a lot of the united states of america . and i want to be able to be able to be able to help a time to be a lot of americans and and a job we ’ re the same . it ’ s what i ’ ve been the same of the world . and that ’ s why i ’ m sending the promise of the world . but the first thing i want to thank the same way of a more powerful than the world . applause . i ’ m here in a new crisis . and i want to make sure that the american people who are going to be a new foundation for the world that we ’ re going to be able to do . and i know that the world . applause . the american people have been a chance to be more prosperous . and i ’ m going to be also able to make the most important way to help the world that has been the same . applause . i think that the day is not just to be able to be a lot of a new foundation of a nation that has been the way to the people of our security and the last 10 years ago i can not be a nation that i want to be able to do . and i want to be based on the world . that ’ s why i want to be able to help the world . and i ’ m proposing that we ’ re going to be a new education . and i ’ m not confident to be able to be a new foundation for the world . and i want to make sure that it ’ s not just to be clear . and i ’ m announcing that we ’ re talking about the world that we ’ re the same ones . applause . and it ’ s time . i want to be not to make the right thing to make the last two years ago it ’ s not just a nation of the united states and the first of the world that we ’ re willing to be another and a new american one that has been the right thing to help a new economy . applause . and the world is not going to be able to be able to be more important . and that ’ s why we ’ re born to the world that has been the same that we ’ re the same jobs . applause . it ’ s what i want to be clear . and that ’ s what we can not be able to do . so that ’ s why i ’ m going to the most important important thing i ’ m here today . and i want to thank the same people that the united states of america . applause . we ’ ve made the same thing to make them . and we ’ re a huge thing . and the world . and that ’ s why we ’ re the same who we ’ re the promise of the world . applause . and as a new important of the american people that the united states of america . and i ’ m going to be here today . but the first time i ’ m going to be not only in the next generation of opportunity . and that ’ s why i want to be able to be a new foundation for their lives . applause . that ’ s why i want to be clear in the world . and i want to work with the same to be the same of the same market . and that ’ s what we ’ re willing to be a chance to be able to make sure that the american people that the most powerful years . applause . and i ’ m here to be able to be able to be a new foundation for the american people who are here in the world . and i want to thank the same thing to do . applause . but i want to be able to make us to be able to be able to be able to help the country to make sure that we ’ re a lot of a chance to start a new foundation for the same instinct that we ’ re going to be able to make it . i want to be a fair shot . and so we ’ re the promise of our economy . and i think that the world that the world is now . and we ’ re going to be able to be able to get a more perfect to get the american people that the united states of america . i ’ m convinced that it ’ s a lot of americans and that we ’ re the way to the united states of america . applause . and i want to thank the same jobs . i ’ m here today . and i want to thank the promise of the world . it ’ s what we ’ re going to be a lot of and the right thing to be more than $ coverage . applause . it ’ s the promise of the world . but i ’ m willing to do . but i want to be clear about how . we ’ re more important of the globe in the world that the world that the first time we ’ re the right thing to our economy . and i want to do . and i want to be able to do . and i want to say that we ’ re the chance to work . and we ’ re the right thing to do . and that ’ s why i want to thank the promise of the world . and i ’ m going to be not just a chance to get a lot of a new crisis . and i want to be clear that the best thing and i want to make sure that we ’ re the first of our allies . and i ’ m convinced that the first time we can not just . and i want to be able to help our people . applause . and i ’ m here today . applause . applause . i ’ m here today . and that ’ s why i want to tell us in the world . and that ’ s what we ’ re the right thing that the same is not one of the last two years ago we ’ re the same to be able to take be able to be able to take a lot of our economy . and we ’ re the same government . and as a lot of people and the promise of the future . and i ’ ve seen the next generation of the world . and that ’ s what we ’ re going to do . and i want to know that we ’ re the most of the world . we ’ re the same ones . and that ’ s why i want to be able to be clear . applause . applause . i want to thank the same ones that i ’ ve made that we ’ re a nation of the globe . and we ’ re going to the american jobs that will be more than $ 1 years . applause . and we ’ re the american people that you can not relent . applause . i want to thank the same people that the same instinct that i ’ m here today . and i ’ m here today . and we ’ re doing forward . and we ’ re going to work with the american people that has been a chance to make us to make sure that it ’ s a part of our children and our national security and our economy . applause . i will not be able to be able to do it . applause . applause . applause . i ’ m a new foundation of the world . and in the last two years of our national security and a new foundation for the most important time that the world who ’ s not just a chance to help our children and support in the world . applause . applause . i want to thank the same and our nation . and i ’ m going to be not to be able to take the same thing to make sure that the world . that 's why i want to be able to do . but i ’ m confident about the world . it ’ s what the world has been able to make the right thing that we ’ re the right thing to make sure that we ’ re getting the same people that the world . and i ’ m here today . and i want to thank a chance to do . but i think about that we ’ re a better . and that ’ s why the world -- the most important important thing that the world . and that ’ s why i want to do . and i want to do . but the same members of the world . and i ’ m not convinced that we ’ re the same thing . and i ’ ve made it . i want to thank the same who has been a better way in our country . that ’ s why we ’ re here today . and in the wake of the world . and i know that our children are the american people that the world is not just the promise of the world . and in the american people that the way we ’ re going to be able to make us to make sure that the first time of the world that i ’ ve been willing to be a lot of people to be a job in the world . applause . and i ’ m proposing that the world that we ’ re a lot of a new crisis . and i ’ m here today . and it ’ s what we ’ re willing to be able to get a nation of the world . and i know that the world . and i ’ m going to be here to get a nation that we ’ re going to do . and i want to make sure that it ’ s not the right thing that we ’ re getting a chance to make our children and the united states of america . applause . and i want to be able to be able to get a new foundation for the world and the world . and i want to thank the same people that we ’ ve been in a family . that 's why i ’ m here in the world that we ’ re the right thing to the same economic system . and that ’ s what it ’ s not a good foundation for our military and security and our children . applause . and the american people that the world . and i want to be able to be a fair shot . applause . it ’ s a promise that we ’ re a chance to shape a new foundation for the united states of america . and i ’ m here today . but i want to be able to get that for the same thing to make sure that our country has been able to get the american people that we ’ re willing to be able to make sure that we ’ re going to be able to be able to do . and i want to thank the same for our children and the most important important thing that we ’ re going to be a new foundation for the same of the world is not just . and as we ’ re going to make the same thing to make that . and we ’ re going to make sure that we ’ re the same of the american people that we ’ re the promise of the world . but i know that the american people that the world . that ’ s why we ’ re going to be able to be able to be able to get a lot of the first time . and i want to make sure that the world . and i want to be able to be able to help . and i ’ m going to do . and i want that the american people that will be clear that we ’ re the same thing to make us to make the same ones . and i want to thank us to be able to make us to make sure that it ’ s what the same people that i ’ m announcing the first time i want to thank the same people that we can not be clear to a job . and that ’ s why we ’ re a lot of who are in the world that we ’ re the same jobs . applause . i want to make sure that we ’ re going to be able to help our troops and the united states of america . it ’ s an economy that has been a choice of our citizens and the most important important thing that the american people that has been a lot of a new crisis . and i ’ ve made a huge depression that will be able to work with the world . it ’ s what the first of our own . and i want to thank them in the world . i want to be able to help the last eight years ago we ’ re a new education . and as a lot of the american people that we ’ re a lasting peace . and that ’ s why we ’ re the same people . and i ’ ve been going to be able to be clear . but i want to be able to make sure that we ’ re a government to be able to make sure that we ’ re going to be a new thing that we ’ re the same way that has been a seat in the world . i ’ m announcing a new thing . and it ’ s a chance to be able to make us to pass the promise of the world . applause . and i want to work with our own and republicans that i ’ ve seen the world . and i think that we ’ re a choice of the world . and i ’ m here today . and that ’ s why we ’ re going to make sure that it ’ s a chance to keep the same people that the most important good thing to a new economy . applause . i want to be able to make sure that we ’ re going to make sure that the world that we ’ re the world . and i ’ m confident that the american people that i ’ m sure that we ’ re the same who will be a lot of americans . and i want to make it to make sure that you ’ re the right thing to be able to make us to make us to make sure that the world . but i want to thank this . that ’ s why we ’ re a new beginning and give the world . and i ’ m asking a lot of a nation that will be the american time that the next two years ago we ’ re a job . applause . the most important of the world is the most important thing . and i will be able to do . and that ’ s why i ’ m not going to work with the future . applause . so i ’ m proposing that the future that will be able to help . and i ’ m here today . we ’ re going to do . applause . it ’ s time to be able to make sure that the first time we ’ re the future . i know that our country is not a chance to make sure that we ’ re willing to make sure that we ’ re the same jobs . and we ’ re the same thing . and i want to make sure that you ’ re a lot of a\""
      ]
     },
     "execution_count": 92,
     "metadata": {},
     "output_type": "execute_result"
    }
   ],
   "source": [
    "%%time\n",
    "\n",
    "generated = []\n",
    "GENERATE_N = 10\n",
    "MEAN_OG_SPEECH_LEN = round(np.mean([len(s) for s in speeches]))\n",
    "for i in range(GENERATE_N):\n",
    "    generated.append(\n",
    "        generate(intro=['good', 'evening', 'ladies', 'and', 'gentlemen'], \n",
    "                 multiply=True, \n",
    "                 rnd_factor=1.2, \n",
    "                 length=MEAN_OG_SPEECH_LEN, \n",
    "                 decay=True)\n",
    "    )\n",
    "\n",
    "generated[0]"
   ]
  },
  {
   "cell_type": "markdown",
   "metadata": {},
   "source": [
    "# Evaluate"
   ]
  },
  {
   "cell_type": "code",
   "execution_count": 94,
   "metadata": {},
   "outputs": [
    {
     "name": "stdout",
     "output_type": "stream",
     "text": [
      "mean cosine similarity over all generated speeches: 0.04750080750747209\n",
      "standard deviation of cosine similarity over all generated speeches: 0.005135970193751181\n",
      "mean rouge score for all generated speeches: 0.3865919022277002\n",
      "standard deviation of rouge score for all generated speeches: 0.004169212879555256\n",
      "mean sentence len (OG vs GEN) (18.303574290751722, 15.328051643192488)\n",
      "mean word len (OG vs GEN) (4.624454002549181, 3.228396012587197)\n",
      "top15 rank distance 302.46326967450545\n"
     ]
    }
   ],
   "source": [
    "import metrics\n",
    "\n",
    "# persist\n",
    "for i in range(len(generated)):\n",
    "    with open(\"../data/lstm/{}_generated/{}.txt\".format(PRESIDENT, str(i)), \"w\") as text_file:\n",
    "        text_file.write(generated[i]) \n",
    "\n",
    "# scores\n",
    "mean_cos, std_cos, cos_sim = metrics.get_cosine_sim_tfidf(\"obama\", \"lstm/obama_generated\", print_results=True)\n",
    "rouge = metrics.get_rouge_score(\"obama\", \"lstm/obama_generated\", print_results=True)\n",
    "og_sen_len = metrics.calculate_mean_sentence_length('obama')\n",
    "gen_sen_len = metrics.calculate_mean_sentence_length('lstm/obama_generated')\n",
    "print('mean sentence len (OG vs GEN)', (og_sen_len, gen_sen_len))\n",
    "og_w_len = metrics.calculate_mean_word_length('obama')\n",
    "gen_w_len = metrics.calculate_mean_word_length('lstm/obama_generated')\n",
    "print('mean word len (OG vs GEN)', (og_w_len, gen_w_len))\n",
    "top = 15\n",
    "rank_dist = metrics.get_top_n_rank_distance(orig_speeches_loc='obama', gen_speeches_loc='lstm/obama_generated', n=top)\n",
    "print('top{} rank distance {}'.format(top, rank_dist))"
   ]
  },
  {
   "cell_type": "markdown",
   "metadata": {},
   "source": [
    "# Save Models"
   ]
  },
  {
   "cell_type": "raw",
   "metadata": {},
   "source": [
    "# make new file names\n",
    "# MODEL_PATH = '../data/obama_models/obama_lstm'\n",
    "\n",
    "# SAVE ENCODER MODEL\n",
    "ENC_PATH = MODEL_PATH + \"_enc.pt\"\n",
    "torch.save(encoder.state_dict(), ENC_PATH)\n",
    "\n",
    "# SAVE ENCODER MODEL\n",
    "DEC_PATH =  MODEL_PATH + \"_dec.pt\"\n",
    "torch.save(decoder.state_dict(), DEC_PATH)\n",
    "\n",
    "# RELOAD\n",
    "encoder = Encoder(len(XFIELD.vocab), HIDDEN_SIZE, EMBEDDING_SIZE, NUM_LAYERS)\n",
    "encoder.load_state_dict(torch.load(MODEL_PATH + '_enc.pt', map_location=torch.device('cpu')))\n",
    "\n",
    "decoder = Decoder(len(XFIELD.vocab), HIDDEN_SIZE, EMBEDDING_SIZE, NUM_LAYERS).to(device)\n",
    "decoder.load_state_dict(torch.load(MODEL_PATH + '_dec.pt', map_location=torch.device('cpu')))"
   ]
  }
 ],
 "metadata": {
  "kernelspec": {
   "display_name": "Python 3",
   "language": "python",
   "name": "python3"
  },
  "language_info": {
   "codemirror_mode": {
    "name": "ipython",
    "version": 3
   },
   "file_extension": ".py",
   "mimetype": "text/x-python",
   "name": "python",
   "nbconvert_exporter": "python",
   "pygments_lexer": "ipython3",
   "version": "3.8.5"
  }
 },
 "nbformat": 4,
 "nbformat_minor": 4
}
