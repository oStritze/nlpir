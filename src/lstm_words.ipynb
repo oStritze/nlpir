{
 "cells": [
  {
   "cell_type": "markdown",
   "metadata": {},
   "source": [
    "# <u> LSTM ENCODER DECODER"
   ]
  },
  {
   "cell_type": "markdown",
   "metadata": {},
   "source": [
    "# Data"
   ]
  },
  {
   "cell_type": "code",
   "execution_count": 1,
   "metadata": {},
   "outputs": [],
   "source": [
    "import utils\n",
    "import numpy as np\n",
    "\n",
    "#utils.setup_nltk()\n",
    "PRESIDENT = 'bush'\n",
    "speeches = utils.read_all_text_files(PRESIDENT)"
   ]
  },
  {
   "cell_type": "markdown",
   "metadata": {},
   "source": [
    "### Preprocessing"
   ]
  },
  {
   "cell_type": "code",
   "execution_count": 2,
   "metadata": {},
   "outputs": [],
   "source": [
    "filter_list = [':', '(', ')', ',', '-',]\n",
    "filtered_speeches = []\n",
    "\n",
    "for speech in speeches:\n",
    "    filtered_speech = []\n",
    "    for word in speech:\n",
    "        # filter out unwanted words\n",
    "        if word not in filter_list:\n",
    "            # lower word\n",
    "            filtered_speech.append(word.lower())\n",
    "    filtered_speeches.append(filtered_speech)"
   ]
  },
  {
   "cell_type": "markdown",
   "metadata": {},
   "source": [
    "### Create N-Grams"
   ]
  },
  {
   "cell_type": "code",
   "execution_count": 3,
   "metadata": {},
   "outputs": [],
   "source": [
    "from nltk import ngrams\n",
    "\n",
    "WINDOW = 5\n",
    "grams = [ngrams(s, WINDOW+1) for s in filtered_speeches]\n",
    "flat_grams = [ng for speech in grams for ng in speech]"
   ]
  },
  {
   "cell_type": "markdown",
   "metadata": {},
   "source": [
    "### Split Data"
   ]
  },
  {
   "cell_type": "code",
   "execution_count": 4,
   "metadata": {},
   "outputs": [],
   "source": [
    "import pandas as pd\n",
    "\n",
    "X = [' '.join(list(x[0:WINDOW])) for x in flat_grams]\n",
    "Y = [x[-1] for x in flat_grams]\n",
    "df = pd.DataFrame.from_dict({'x':X, 'y':Y})\n",
    "\n",
    "# persist\n",
    "csv_name = '../data/lstm/preproc/{}_encdec_{}grams.csv'.format(PRESIDENT, str(WINDOW))\n",
    "df.to_csv(csv_name, index=False)"
   ]
  },
  {
   "cell_type": "code",
   "execution_count": 5,
   "metadata": {},
   "outputs": [
    {
     "name": "stderr",
     "output_type": "stream",
     "text": [
      "/home/gabriel/.local/lib/python3.8/site-packages/torchtext/data/field.py:150: UserWarning: Field class will be retired soon and moved to torchtext.legacy. Please see the most recent release notes for further information.\n",
      "  warnings.warn('{} class will be retired soon and moved to torchtext.legacy. Please see the most recent release notes for further information.'.format(self.__class__.__name__), UserWarning)\n",
      "/home/gabriel/.local/lib/python3.8/site-packages/torchtext/data/example.py:68: UserWarning: Example class will be retired soon and moved to torchtext.legacy. Please see the most recent release notes for further information.\n",
      "  warnings.warn('Example class will be retired soon and moved to torchtext.legacy. Please see the most recent release notes for further information.', UserWarning)\n",
      "/home/gabriel/.local/lib/python3.8/site-packages/torchtext/data/example.py:78: UserWarning: Example class will be retired soon and moved to torchtext.legacy. Please see the most recent release notes for further information.\n",
      "  warnings.warn('Example class will be retired soon and moved to torchtext.legacy. Please see the most recent release notes for further information.', UserWarning)\n"
     ]
    }
   ],
   "source": [
    "import torchtext\n",
    "\n",
    "XFIELD = torchtext.data.Field(sequential=True)\n",
    "YFIELD = torchtext.data.Field(sequential=True)\n",
    "DATA = torchtext.data.TabularDataset(csv_name,'csv', \n",
    "                                     [('x', XFIELD),('y', YFIELD)], skip_header=True)\n",
    "\n",
    "XFIELD.build_vocab(DATA)  \n",
    "YFIELD.build_vocab(DATA)"
   ]
  },
  {
   "cell_type": "code",
   "execution_count": 6,
   "metadata": {},
   "outputs": [
    {
     "name": "stderr",
     "output_type": "stream",
     "text": [
      "/home/gabriel/.local/lib/python3.8/site-packages/torchtext/data/iterator.py:48: UserWarning: Iterator class will be retired soon and moved to torchtext.legacy. Please see the most recent release notes for further information.\n",
      "  warnings.warn('{} class will be retired soon and moved to torchtext.legacy. Please see the most recent release notes for further information.'.format(self.__class__.__name__), UserWarning)\n"
     ]
    }
   ],
   "source": [
    "from torchtext.data import BucketIterator, Iterator\n",
    "import torch\n",
    "\n",
    "BATCH_SIZE = 64\n",
    "device = torch.device('cuda' if torch.cuda.is_available() else 'cpu')\n",
    "train_iterator = Iterator(DATA, BATCH_SIZE, device=device, train=True)"
   ]
  },
  {
   "cell_type": "code",
   "execution_count": 7,
   "metadata": {},
   "outputs": [],
   "source": [
    "assert device.type == 'cuda'"
   ]
  },
  {
   "cell_type": "markdown",
   "metadata": {},
   "source": [
    "# Neural Networks"
   ]
  },
  {
   "cell_type": "markdown",
   "metadata": {},
   "source": [
    "### Encoder"
   ]
  },
  {
   "cell_type": "code",
   "execution_count": 8,
   "metadata": {},
   "outputs": [],
   "source": [
    "import torch.nn as nn\n",
    "\n",
    "class Encoder(nn.Module):\n",
    "    def __init__(self, vocab_size, hidden_size, embedding_dim, num_layers):\n",
    "        super(Encoder, self).__init__()\n",
    "        self.embedding = nn.Embedding(vocab_size, embedding_dim)\n",
    "        self.lstm = nn.LSTM(embedding_dim, hidden_size, num_layers=num_layers, bidirectional=True)\n",
    "\n",
    "    def forward(self, x, h0, c0):\n",
    "        x = self.embedding(x).unsqueeze(0)\n",
    "        out, (h0, c0) = self.lstm(x, (h0, c0))\n",
    "        return out, (h0, c0)"
   ]
  },
  {
   "cell_type": "markdown",
   "metadata": {},
   "source": [
    "### Decoder"
   ]
  },
  {
   "cell_type": "code",
   "execution_count": 9,
   "metadata": {},
   "outputs": [],
   "source": [
    "class Decoder(nn.Module):\n",
    "    def __init__(self, vocab_size, hidden_size, embedding_dim, num_layers):\n",
    "        super(Decoder, self).__init__()\n",
    "        self.embedding = nn.Embedding(vocab_size, embedding_dim)\n",
    "        self.lstm = nn.LSTM(embedding_dim, hidden_size, num_layers=num_layers, dropout=0.5, bidirectional=True)\n",
    "        self.dense = nn.Linear(hidden_size*2, vocab_size)\n",
    "        self.softmax = nn.LogSoftmax(dim=1)\n",
    "  \n",
    "    def forward(self, x, h0, c0):\n",
    "        x = self.embedding(x)\n",
    "        x, (h0, c0) = self.lstm(x, (h0, c0))\n",
    "        x = self.dense(x.squeeze(0))\n",
    "        x = self.softmax(x)\n",
    "        return x, (h0, c0)"
   ]
  },
  {
   "cell_type": "markdown",
   "metadata": {},
   "source": [
    "### Training"
   ]
  },
  {
   "cell_type": "code",
   "execution_count": 10,
   "metadata": {},
   "outputs": [],
   "source": [
    "HIDDEN_SIZE = 20\n",
    "EMBEDDING_SIZE = 50\n",
    "NUM_LAYERS = 2\n",
    "LR = 0.01\n",
    "ENC_LEARNING_RATE = LR\n",
    "DEC_LEARNING_RATE = LR\n",
    "criterion = nn.NLLLoss()\n",
    "\n",
    "encoder = Encoder(len(XFIELD.vocab), HIDDEN_SIZE, EMBEDDING_SIZE, NUM_LAYERS).to(device)\n",
    "decoder = Decoder(len(XFIELD.vocab), HIDDEN_SIZE, EMBEDDING_SIZE, NUM_LAYERS).to(device)\n",
    "enc_optimizer = torch.optim.Adam(encoder.parameters(), lr = ENC_LEARNING_RATE)\n",
    "dec_optimizer = torch.optim.Adam(decoder.parameters(), lr = DEC_LEARNING_RATE)"
   ]
  },
  {
   "cell_type": "code",
   "execution_count": 11,
   "metadata": {},
   "outputs": [
    {
     "name": "stderr",
     "output_type": "stream",
     "text": [
      "  0%|          | 0/1825 [00:00<?, ?it/s]/home/gabriel/.local/lib/python3.8/site-packages/torchtext/data/batch.py:23: UserWarning: Batch class will be retired soon and moved to torchtext.legacy. Please see the most recent release notes for further information.\n",
      "  warnings.warn('{} class will be retired soon and moved to torchtext.legacy. Please see the most recent release notes for further information.'.format(self.__class__.__name__), UserWarning)\n",
      "100%|█████████▉| 1824/1825 [00:23<00:00, 76.38it/s]\n",
      "  0%|          | 1/1825 [00:00<03:36,  8.44it/s]"
     ]
    },
    {
     "name": "stdout",
     "output_type": "stream",
     "text": [
      "AVG_LOSS=6.1021, (ABS=11133.14)\n"
     ]
    },
    {
     "name": "stderr",
     "output_type": "stream",
     "text": [
      "100%|█████████▉| 1824/1825 [00:24<00:00, 75.93it/s]\n",
      "  0%|          | 1/1825 [00:00<03:37,  8.39it/s]"
     ]
    },
    {
     "name": "stdout",
     "output_type": "stream",
     "text": [
      "AVG_LOSS=5.4794, (ABS=9997.07)\n"
     ]
    },
    {
     "name": "stderr",
     "output_type": "stream",
     "text": [
      "100%|█████████▉| 1824/1825 [00:25<00:00, 72.29it/s]\n",
      "  0%|          | 1/1825 [00:00<03:51,  7.89it/s]"
     ]
    },
    {
     "name": "stdout",
     "output_type": "stream",
     "text": [
      "AVG_LOSS=5.2256, (ABS=9533.96)\n"
     ]
    },
    {
     "name": "stderr",
     "output_type": "stream",
     "text": [
      "100%|█████████▉| 1824/1825 [00:26<00:00, 68.73it/s]\n",
      "  0%|          | 1/1825 [00:00<03:59,  7.63it/s]"
     ]
    },
    {
     "name": "stdout",
     "output_type": "stream",
     "text": [
      "AVG_LOSS=5.045, (ABS=9204.36)\n"
     ]
    },
    {
     "name": "stderr",
     "output_type": "stream",
     "text": [
      "100%|█████████▉| 1824/1825 [00:25<00:00, 70.19it/s]"
     ]
    },
    {
     "name": "stdout",
     "output_type": "stream",
     "text": [
      "AVG_LOSS=4.9102, (ABS=8958.51)\n"
     ]
    },
    {
     "name": "stderr",
     "output_type": "stream",
     "text": [
      "\n"
     ]
    }
   ],
   "source": [
    "from tqdm import tqdm\n",
    "\n",
    "EPOCHS = 5\n",
    "for ep in range(EPOCHS):\n",
    "    ep_loss = 0\n",
    "    \n",
    "    for batch in tqdm(train_iterator):\n",
    "        if len(batch) != BATCH_SIZE: break;\n",
    "        inp = batch.x\n",
    "        target = batch.y\n",
    "        \n",
    "        # init\n",
    "        loss = 0\n",
    "        h0 = torch.zeros(NUM_LAYERS*2, BATCH_SIZE, HIDDEN_SIZE).to(device)\n",
    "        c0 = torch.zeros(NUM_LAYERS*2, BATCH_SIZE, HIDDEN_SIZE).to(device)\n",
    "        enc_optimizer.zero_grad()\n",
    "        dec_optimizer.zero_grad()\n",
    "        \n",
    "        # encode\n",
    "        for w in range(inp.size(0)):\n",
    "            enc_out, (h0, c0) = encoder(inp[w], h0, c0)\n",
    "            \n",
    "        # decode\n",
    "        cur = inp[WINDOW-1].unsqueeze(0)\n",
    "        dec_out, (_, _) = decoder(cur, h0, c0)        \n",
    "        cur = torch.argmax(dec_out,dim=1)\n",
    "        \n",
    "        # loss\n",
    "        # target_onehot = torch.nn.functional.one_hot(target.squeeze(), len(YFIELD.vocab))\n",
    "        loss += criterion(dec_out, target.squeeze())\n",
    "        \n",
    "        # optimize\n",
    "        ep_loss += loss\n",
    "        loss.backward()\n",
    "        enc_optimizer.step()\n",
    "        dec_optimizer.step()\n",
    "        \n",
    "    print('AVG_LOSS={}, (ABS={})'.format(round((ep_loss/(len(DATA)/BATCH_SIZE)).item(),4), round(ep_loss.item(),2)))"
   ]
  },
  {
   "cell_type": "markdown",
   "metadata": {},
   "source": [
    "# Generate Text!"
   ]
  },
  {
   "cell_type": "markdown",
   "metadata": {},
   "source": [
    "### functions"
   ]
  },
  {
   "cell_type": "code",
   "execution_count": 12,
   "metadata": {},
   "outputs": [],
   "source": [
    "from torch import torch\n",
    "\n",
    "def voc_index(words):\n",
    "    return torch.tensor([XFIELD.vocab.stoi[x] for x in words]).to(device)\n",
    "\n",
    "def predict(inp, RND_FACTOR=0, multiply=False, h0=None, c0=None):\n",
    "    with torch.no_grad():\n",
    "        \n",
    "        if h0 == None:\n",
    "            h0 = torch.zeros(2*NUM_LAYERS, BATCH_SIZE, HIDDEN_SIZE).to(device)\n",
    "        if c0 == None:\n",
    "            c0 = torch.zeros(2*NUM_LAYERS, BATCH_SIZE, HIDDEN_SIZE).to(device)\n",
    "        \n",
    "        for w in range(inp.size(0)):\n",
    "                enc_out, (h0, c0) = encoder(inp[w], h0, c0)\n",
    "\n",
    "        cur = inp[WINDOW-1].unsqueeze(0)\n",
    "        dec_out, (h0, c0) = decoder(cur, h0, c0)\n",
    "        \n",
    "        # randomize\n",
    "        if multiply:\n",
    "            rnd = torch.rand(dec_out.shape).to(device) * RND_FACTOR + 1\n",
    "            cur = torch.argmax(dec_out * rnd,dim=1)\n",
    "        else:\n",
    "            rnd = torch.rand(dec_out.shape).to(device) * RND_FACTOR\n",
    "            cur = torch.argmax(dec_out.add(rnd),dim=1)\n",
    "\n",
    "        return YFIELD.vocab.itos[cur[0].item()], (h0, c0)\n",
    "\n",
    "def generate(intro=['good', 'evening', 'ladies', 'and', 'gentlemen'], multiply=False, rnd_factor=10, length=100, decay=None):\n",
    "    text = intro\n",
    "    h0 = torch.zeros(2*NUM_LAYERS, BATCH_SIZE, HIDDEN_SIZE).to(device)\n",
    "    c0 = torch.zeros(2*NUM_LAYERS, BATCH_SIZE, HIDDEN_SIZE).to(device)\n",
    "    \n",
    "    for i in range(length):\n",
    "        cur_window = text[-WINDOW:]\n",
    "        vecs = voc_index(cur_window).view(WINDOW,1).repeat(1,BATCH_SIZE)\n",
    "        \n",
    "        if decay:\n",
    "            prediction, (h0, c0) = predict(vecs, rnd_factor, multiply, h0, c0)\n",
    "            #h0 = torch.rand(h0.shape).to(device) * h0\n",
    "            #c0 = torch.rand(c0.shape).to(device) * c0\n",
    "        else:\n",
    "            prediction, _ = predict(vecs, rnd_factor, multiply)\n",
    "            \n",
    "        text.append(prediction)\n",
    "\n",
    "    return ' '.join(text)"
   ]
  },
  {
   "cell_type": "markdown",
   "metadata": {},
   "source": [
    "### create N speeches"
   ]
  },
  {
   "cell_type": "code",
   "execution_count": 13,
   "metadata": {},
   "outputs": [
    {
     "name": "stdout",
     "output_type": "stream",
     "text": [
      "CPU times: user 3min 56s, sys: 4.31 s, total: 4min\n",
      "Wall time: 4min\n"
     ]
    },
    {
     "data": {
      "text/plain": [
       "\"good evening ladies and gentlemen a lot of a better time . the president yes to the iraqi government will be able to the united states . and the united states of the world is to do the world . the world is to be a new challenge . and this will be a new nation . we must continue to work . and the last year that we have been a way to live in the world . and i ask congress to do you to be a lot of people . and so i 'm not a new man . we will not be accomplished with the united states . i ask you to work . i have brought a lot of freedom . the president i have seen the world . i ask congress to join me in the american people . we will make sure that the united states . and we will work alongside the best way to the world 's children . and we will have to have a new challenge . i 'm a nation to the country . the last the middle east and the world . applause . the united states is to be a nation . and the terrorists and the united states . i ask you to do so i ask you to be able to have a nation . the president i have a message that will be able to make the united states . we will make sure that the iraqi government will be able to the iraqi government . the american people will be able to be able to work . and we will keep the american people . i 'm proud of the world . in the terrorists will not be able to be able to the world . and we are not a responsibility to make the american nation . and i ask you to do you . we have a nation in the world . i want to thank you to go . and we will not rest to the most effective of the american people . the last year we have the promise of the american people . i have known the people of the world . in the last dignity and the united states . applause . i ask you to do you for the american security . the terrorists will be able to be able to be a new threat . i am honored to have the best way to be the terrorists . the iraqi people are not to do the world . we will have the most effective and alternative of the american nation . and i ask congress to do what i want to have to the american people . the president i have brought to the world . and we must make the world and the iraqi government will be a better path to the world . the terrorists can be a new way to work . for the last our nation is the country . the president we have seen the world . i ask the terrorists . in the world . i believe that you have gathered to the united states . and the united states and the united states of our nation will be able to make the peace of the united states and the united nations of the world . the most majority of the world will not be a future of the united states . the united states of the world will be able to do the most important systems . i ask congress to thank you for the world . the president we have often to live . we have seen the president . the people of the united states . we will have a lot of a long world . i 'm interested in the world . the united states will be now to our nation . we will be able to the terrorists . i believe that the iraqi government will be more than a new heart of the world . and the iraqi government will be a nation . the president . i ask congress to make sure you . i ask you to do the right of the terrorists . i believe that the united states will be used to work . i 'm not a nation . the president we will confront the world to do not be a nation in the world . the last two years we will make the world . we will make sure that the president was to be able to know the world and the terrorists and we have a nation . the terrorists ' the terrorists and to the federal government of the people of the world . i want to do . the president i want to thank you . the iraqi government will be to the best and the american economy . in the last year the last year of the middle east . we will trust the iraqi government . and we will work to work . the people of the united states . we will work together to be a better . the president i 'm proud for the people of the american people . and the iraqi people are taking the best of the iraqi government . the american security will not be used to be a nation in the middle east . and the president i ask congress to see the american people . and the work of the iraqi security council are the most dangerous people . the president yes the people of the middle east will be a great goal of the world . and the last year the iraqi government will be more than a lot of a democratic law . and i ask you to do you all of the united states . this is a free law . it 's a better honor . the united states of the security of the world . the people of our nation will be a new role and we will make sure that we have been a lot of the world . applause . and the iraqi government are now a great and society . the federal government are the work of the american people . the iraqi government will be a nation . we will not be able to be a better . and the united states of the most crisis . and we will trust and our nation is a new challenge . we will also honor on the world . and the united states are now that the world will be able to be more than a lot of the united states . i ask you to make sure the american people . the most solemn four years ago and women are a more than the american people . in the united states and the world is the american people . i 'm not going to do . in the middle east will be a lot of the country . and we will work with the american people . and i ask congress to do the american people . but i ask you to see the country . i ask the president . i 'm a man that the iraqi regime will be the work of the american people . and we will work to work with the terrorists . and we have been a way to make the american government . we will trust the federal government . and the american people will be the nation . the president i ask you to have a new people . the terrorists and the united states is to the world . we have a lot of our own forces . the last year . i ask congress to make sure the american people . and the iraqi government have been a way to the iraqi government of the people of the iraqi people are not . the iraqi people are not to be a new mission . we have a lot of new york and public havens . the iraqi regime is a lot of the people . the last month the world . and i ask you to be able to the most dangerous of the united states . the united states will be able to do the world . and the last year the terrorists . in the world has been a time of the world . the iraqi people are more than the world . we will not rest to the united states . the united states and the terrorists are not a problem . i ask congress to make sure the iraqi government will be a result . we have seen the most companies to be to the terrorists . in the last year i want to have a new democracy to the iraqi people . i ask congress to make sure we will work . and we will have a message to the terrorists . and the last month the last two years ago in the world has a lot of the country . and as we have the potential to the united states . and we are not to help them be more than a nation . and the iraqi people are on the american world . and so i ask you to thank you for the most profound of the united states . the united states of the middle east . in the last this economy will not be a nation . applause . it 's not a lot of a great country . i ask congress to do the world . in the united states and the world is the first place . i ask congress to thank you . and the terrorists will be able to the world . this is the united states . and i have the world . the terrorists will be used . i ask congress to join us with the most dangerous companies of the united states . in the iraqi government have been a better and the united states . and the last year that we will make the american people . i ask you to pass the american people . and the last year the american people have not a lot of law . the united states and other the united states of the president . i ask you to face the world . and the world is not the iraqi government . we will not tell us to be able to the most effective of the united states . in the united states is the most achievement to the world . and the president i want to do you . and the world is not to make the united states . applause . the iraqi government will be able to have a nation and the united states . and the united states is to be more than a great and will be to a new world . applause . the people of the most dangerous years ago the president i have brought the american people . and i ask congress to do the american people . i ask you to pass the promise of the world . we have seen the border to a new role and the future of the world . i ask you to join us . and we will keep the united states . and the terrorists have been not to protect the world . the united states will be a great role to the world . we will also work to make the terrorists . the president i have traveled the world . and the iraqi regime will be a good place to the iraqi government . i ask congress to make the american people . the last year we have a great people . applause . we will not forget the world . we will not stop the world . we have a problem . and the world is the first place . i ask congress to do the country . we have a nation i have the honor of the united states . and i 'm getting a chance to make the world . and this bill will be the united states . the world will be a nation . i will not forget the great people . the people of the united states . and we have seen the world . the united states . we have seen the world . and the last the united states . the federal government has the enemy of the american people . and the terrorists have been a lot of the world . and the united states of the president . the terrorists who have been a nation . and the people of the past and women of the last our people . the united states and the people of the iraqi government will be a great role . i have a new world to the world . applause . the united states of the world . and the united states and the president i have been discussing the people of the world . applause . i 'm not going to work to be a new strategy . it is a nation . the last year we will not be discussing to be able to the first place . we have seen the same that the people of the iraqi people are the work of the world . we will not rest . i 'm a nation that 's not to be able to have the people of the world . and so we will have a lot of a new country . and we will have a time of the world . and in the world is the world . and we will not be able to be the united states . we will work to work to do the american people . applause . and i want to thank you . in the united states of the united states and the last america is the people of the world . we have seen the same that the president . and the first time of the united states . we have a nation . and the president i ask congress to be a new nation . i 'm interested in the world . the people of the people of our people will be able to the most penalty . and the president of the united states . and we will make sure the world and the most influential work . and the iraqi government will be able to make the country . the best way to make the world . we will make sure that a single goal is the american people . and the united states of the last year . applause . we have a way to the world . i have doubled the american people . we will also work to work . i will work with the terrorists . i 'm confident to the world . and this is the american people . we have the most secure of the united states . i have brought the fight . the president yes we will make sure the world . the terrorists and the world bank . the iraqi government have been a better role . it 's a new nation . we have a regime to help the end of the united states . and we will work with the first of the world . in the world . the people of the world . we have a great way to be able to the world . and we will not forget that the world and to the same years that a government will be able to the american people . and we will make the same threat . the president yes . i 'm not going to do the american people . in the world is the world . and the last year . america 's citizens will be able to the american security . we have a lot of the country . the first enemy is not . i ask congress to make the people of the war . i ask congress to make the world . and the iraqi regime is the terrorists . the united states has a great power of the united states . this is the world . we have the best and local health savings accounts are the first line . the president i 'm going to be able to the united states . and we have made the american people . the iraqi regime 's children . and we will work with the american people . we will make sure the american people . and i ask you to do . and the united states we have the fight . and the terrorists and the most majority . and we will work to be the work of the american people . the people of the united states . the iraqi government will be a better and to the american people . the american people are on the world . in the world . and the past tax relief is the united states . we have the best of the world . applause . i 'm interested in the world . i ask congress to make the border of the american people . the last year the united states . it 's not a great opportunity to the world . and i ask you to make sure that the people of the people of the middle east is a clear to the world . i want to do the world . in the middle east will be more than the people of the american economy . i want to thank the world . i ask you to join the world . we will work to be a result . we will make the iraqi people . the terrorists can be a great and noble nation . and the most majority of the iraqi people are not on the world . and the united states . the president i 'm interested in the world . i ask congress to do what we have seen the american people . we will ensure that the american people will be able to the world . but we will have a man and more humane and women and women have the united states of the most dangerous years ago i 'm proud of the united states . and so i 'm a new nation . and i ask you to be able to the iraqi government . the people of the last war . the terrorists can be used to be able to be able to the country . and i 'm not especially a lot of new recruits . in the world . and the iraqi government are on the terrorists . i 'm not accounted to do the peace of the\""
      ]
     },
     "execution_count": 13,
     "metadata": {},
     "output_type": "execute_result"
    }
   ],
   "source": [
    "%%time\n",
    "\n",
    "generated = []\n",
    "GENERATE_N = 10\n",
    "MEAN_OG_SPEECH_LEN = round(np.mean([len(s) for s in speeches]))\n",
    "for i in range(GENERATE_N):\n",
    "    generated.append(\n",
    "        generate(intro=['good', 'evening', 'ladies', 'and', 'gentlemen'], \n",
    "                 multiply=True, \n",
    "                 rnd_factor=1.2, \n",
    "                 length=MEAN_OG_SPEECH_LEN, \n",
    "                 decay=True)\n",
    "    )\n",
    "\n",
    "generated[0]"
   ]
  },
  {
   "cell_type": "markdown",
   "metadata": {},
   "source": [
    "# Evaluate"
   ]
  },
  {
   "cell_type": "code",
   "execution_count": 15,
   "metadata": {},
   "outputs": [
    {
     "name": "stdout",
     "output_type": "stream",
     "text": [
      "mean cosine similarity over all generated speeches: 0.0566038019157152\n",
      "standard deviation of cosine similarity over all generated speeches: 0.005653138989756817\n",
      "mean rouge score for all generated speeches: 0.3532127266265145\n",
      "standard deviation of rouge score for all generated speeches: 0.003274588957637129\n",
      "mean sentence len (OG vs GEN) (17.351306196840827, 10.978056426332289)\n",
      "mean sentence len diff 6.373249770508538\n",
      "mean word len (OG vs GEN) (4.794390465442735, 3.8416957431960923)\n",
      "mean word len diff 0.9526947222466426\n",
      "top15 rank distance 363.9957286203201\n",
      "CPU times: user 21.5 s, sys: 34.9 ms, total: 21.6 s\n",
      "Wall time: 21.6 s\n"
     ]
    }
   ],
   "source": [
    "%%time\n",
    "\n",
    "import metrics\n",
    "\n",
    "# persist\n",
    "for i in range(len(generated)):\n",
    "    with open(\"../data/lstm/{}_generated/{}.txt\".format(PRESIDENT, str(i)), \"w\") as text_file:\n",
    "        text_file.write(generated[i]) \n",
    "\n",
    "# scores\n",
    "mean_cos, std_cos, cos_sim = metrics.get_cosine_sim_tfidf(PRESIDENT, \"lstm/{}_generated\".format(PRESIDENT), print_results=True)\n",
    "rouge = metrics.get_rouge_score(PRESIDENT, \"lstm/{}_generated\".format(PRESIDENT), print_results=True)\n",
    "og_sen_len = metrics.calculate_mean_sentence_length(PRESIDENT)\n",
    "gen_sen_len = metrics.calculate_mean_sentence_length(\"lstm/{}_generated\".format(PRESIDENT))\n",
    "print('mean sentence len (OG vs GEN) {}'.format((og_sen_len, gen_sen_len)))\n",
    "print('mean sentence len diff {}'.format(og_sen_len-gen_sen_len))\n",
    "og_w_len = metrics.calculate_mean_word_length(PRESIDENT)\n",
    "gen_w_len = metrics.calculate_mean_word_length(\"lstm/{}_generated\".format(PRESIDENT))\n",
    "print('mean word len (OG vs GEN) {}'.format((og_w_len, gen_w_len)))\n",
    "print('mean word len diff {}'.format(og_w_len-gen_w_len))\n",
    "top = 15\n",
    "rank_dist = metrics.get_top_n_rank_distance(orig_speeches_loc=PRESIDENT, gen_speeches_loc=\"lstm/{}_generated\".format(PRESIDENT), n=top)\n",
    "print('top{} rank distance {}'.format(top, rank_dist))"
   ]
  },
  {
   "cell_type": "markdown",
   "metadata": {},
   "source": [
    "# Save Models"
   ]
  },
  {
   "cell_type": "raw",
   "metadata": {},
   "source": [
    "# make new file names\n",
    "# MODEL_PATH = '../data/obama_models/obama_lstm'\n",
    "\n",
    "# SAVE ENCODER MODEL\n",
    "ENC_PATH = MODEL_PATH + \"_enc.pt\"\n",
    "torch.save(encoder.state_dict(), ENC_PATH)\n",
    "\n",
    "# SAVE ENCODER MODEL\n",
    "DEC_PATH =  MODEL_PATH + \"_dec.pt\"\n",
    "torch.save(decoder.state_dict(), DEC_PATH)\n",
    "\n",
    "# RELOAD\n",
    "encoder = Encoder(len(XFIELD.vocab), HIDDEN_SIZE, EMBEDDING_SIZE, NUM_LAYERS)\n",
    "encoder.load_state_dict(torch.load(MODEL_PATH + '_enc.pt', map_location=torch.device('cpu')))\n",
    "\n",
    "decoder = Decoder(len(XFIELD.vocab), HIDDEN_SIZE, EMBEDDING_SIZE, NUM_LAYERS).to(device)\n",
    "decoder.load_state_dict(torch.load(MODEL_PATH + '_dec.pt', map_location=torch.device('cpu')))"
   ]
  }
 ],
 "metadata": {
  "kernelspec": {
   "display_name": "Python 3",
   "language": "python",
   "name": "python3"
  },
  "language_info": {
   "codemirror_mode": {
    "name": "ipython",
    "version": 3
   },
   "file_extension": ".py",
   "mimetype": "text/x-python",
   "name": "python",
   "nbconvert_exporter": "python",
   "pygments_lexer": "ipython3",
   "version": "3.8.5"
  }
 },
 "nbformat": 4,
 "nbformat_minor": 4
}
