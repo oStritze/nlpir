{
 "cells": [
  {
   "cell_type": "markdown",
   "metadata": {},
   "source": [
    "# <u> LSTM ENCODER DECODER"
   ]
  },
  {
   "cell_type": "markdown",
   "metadata": {},
   "source": [
    "# Data"
   ]
  },
  {
   "cell_type": "code",
   "execution_count": 1,
   "metadata": {},
   "outputs": [],
   "source": [
    "import utils\n",
    "import numpy as np\n",
    "\n",
    "#utils.setup_nltk()\n",
    "PRESIDENT = 'trump'\n",
    "speeches = utils.read_all_text_files(PRESIDENT)"
   ]
  },
  {
   "cell_type": "markdown",
   "metadata": {},
   "source": [
    "### Preprocessing"
   ]
  },
  {
   "cell_type": "code",
   "execution_count": 2,
   "metadata": {},
   "outputs": [],
   "source": [
    "filter_list = [':', '(', ')', ',', '-',]\n",
    "filtered_speeches = []\n",
    "\n",
    "for speech in speeches:\n",
    "    filtered_speech = []\n",
    "    for word in speech:\n",
    "        # filter out unwanted words\n",
    "        if word not in filter_list:\n",
    "            # lower word\n",
    "            filtered_speech.append(word.lower())\n",
    "    filtered_speeches.append(filtered_speech)"
   ]
  },
  {
   "cell_type": "markdown",
   "metadata": {},
   "source": [
    "### Create N-Grams"
   ]
  },
  {
   "cell_type": "code",
   "execution_count": 3,
   "metadata": {},
   "outputs": [],
   "source": [
    "from nltk import ngrams\n",
    "\n",
    "WINDOW = 5\n",
    "grams = [ngrams(s, WINDOW+1) for s in filtered_speeches]\n",
    "flat_grams = [ng for speech in grams for ng in speech]"
   ]
  },
  {
   "cell_type": "markdown",
   "metadata": {},
   "source": [
    "### Split Data"
   ]
  },
  {
   "cell_type": "code",
   "execution_count": 4,
   "metadata": {},
   "outputs": [],
   "source": [
    "import pandas as pd\n",
    "\n",
    "X = [' '.join(list(x[0:WINDOW])) for x in flat_grams]\n",
    "Y = [x[-1] for x in flat_grams]\n",
    "df = pd.DataFrame.from_dict({'x':X, 'y':Y})\n",
    "\n",
    "# persist\n",
    "csv_name = '../data/lstm/preproc/{}_encdec_{}grams.csv'.format(PRESIDENT, str(WINDOW))\n",
    "df.to_csv(csv_name, index=False)"
   ]
  },
  {
   "cell_type": "code",
   "execution_count": 5,
   "metadata": {},
   "outputs": [
    {
     "name": "stderr",
     "output_type": "stream",
     "text": [
      "/home/gabriel/.local/lib/python3.8/site-packages/torchtext/data/field.py:150: UserWarning: Field class will be retired soon and moved to torchtext.legacy. Please see the most recent release notes for further information.\n",
      "  warnings.warn('{} class will be retired soon and moved to torchtext.legacy. Please see the most recent release notes for further information.'.format(self.__class__.__name__), UserWarning)\n",
      "/home/gabriel/.local/lib/python3.8/site-packages/torchtext/data/example.py:68: UserWarning: Example class will be retired soon and moved to torchtext.legacy. Please see the most recent release notes for further information.\n",
      "  warnings.warn('Example class will be retired soon and moved to torchtext.legacy. Please see the most recent release notes for further information.', UserWarning)\n",
      "/home/gabriel/.local/lib/python3.8/site-packages/torchtext/data/example.py:78: UserWarning: Example class will be retired soon and moved to torchtext.legacy. Please see the most recent release notes for further information.\n",
      "  warnings.warn('Example class will be retired soon and moved to torchtext.legacy. Please see the most recent release notes for further information.', UserWarning)\n"
     ]
    }
   ],
   "source": [
    "import torchtext\n",
    "\n",
    "XFIELD = torchtext.data.Field(sequential=True)\n",
    "YFIELD = torchtext.data.Field(sequential=True)\n",
    "DATA = torchtext.data.TabularDataset(csv_name,'csv', \n",
    "                                     [('x', XFIELD),('y', YFIELD)], skip_header=True)\n",
    "\n",
    "XFIELD.build_vocab(DATA)  \n",
    "YFIELD.build_vocab(DATA)"
   ]
  },
  {
   "cell_type": "code",
   "execution_count": 6,
   "metadata": {},
   "outputs": [
    {
     "name": "stderr",
     "output_type": "stream",
     "text": [
      "/home/gabriel/.local/lib/python3.8/site-packages/torchtext/data/iterator.py:48: UserWarning: Iterator class will be retired soon and moved to torchtext.legacy. Please see the most recent release notes for further information.\n",
      "  warnings.warn('{} class will be retired soon and moved to torchtext.legacy. Please see the most recent release notes for further information.'.format(self.__class__.__name__), UserWarning)\n"
     ]
    }
   ],
   "source": [
    "from torchtext.data import BucketIterator, Iterator\n",
    "import torch\n",
    "\n",
    "BATCH_SIZE = 64\n",
    "device = torch.device('cuda' if torch.cuda.is_available() else 'cpu')\n",
    "train_iterator = Iterator(DATA, BATCH_SIZE, device=device, train=True)"
   ]
  },
  {
   "cell_type": "code",
   "execution_count": 7,
   "metadata": {},
   "outputs": [],
   "source": [
    "assert device.type == 'cuda'"
   ]
  },
  {
   "cell_type": "markdown",
   "metadata": {},
   "source": [
    "# Neural Networks"
   ]
  },
  {
   "cell_type": "markdown",
   "metadata": {},
   "source": [
    "### Encoder"
   ]
  },
  {
   "cell_type": "code",
   "execution_count": 8,
   "metadata": {},
   "outputs": [],
   "source": [
    "import torch.nn as nn\n",
    "\n",
    "class Encoder(nn.Module):\n",
    "    def __init__(self, vocab_size, hidden_size, embedding_dim, num_layers):\n",
    "        super(Encoder, self).__init__()\n",
    "        self.embedding = nn.Embedding(vocab_size, embedding_dim)\n",
    "        self.lstm = nn.LSTM(embedding_dim, hidden_size, num_layers=num_layers, bidirectional=True)\n",
    "\n",
    "    def forward(self, x, h0, c0):\n",
    "        x = self.embedding(x).unsqueeze(0)\n",
    "        out, (h0, c0) = self.lstm(x, (h0, c0))\n",
    "        return out, (h0, c0)"
   ]
  },
  {
   "cell_type": "markdown",
   "metadata": {},
   "source": [
    "### Decoder"
   ]
  },
  {
   "cell_type": "code",
   "execution_count": 9,
   "metadata": {},
   "outputs": [],
   "source": [
    "class Decoder(nn.Module):\n",
    "    def __init__(self, vocab_size, hidden_size, embedding_dim, num_layers):\n",
    "        super(Decoder, self).__init__()\n",
    "        self.embedding = nn.Embedding(vocab_size, embedding_dim)\n",
    "        self.lstm = nn.LSTM(embedding_dim, hidden_size, num_layers=num_layers, dropout=0.5, bidirectional=True)\n",
    "        self.dense = nn.Linear(hidden_size*2, vocab_size)\n",
    "        self.softmax = nn.LogSoftmax(dim=1)\n",
    "  \n",
    "    def forward(self, x, h0, c0):\n",
    "        x = self.embedding(x)\n",
    "        x, (h0, c0) = self.lstm(x, (h0, c0))\n",
    "        x = self.dense(x.squeeze(0))\n",
    "        x = self.softmax(x)\n",
    "        return x, (h0, c0)"
   ]
  },
  {
   "cell_type": "markdown",
   "metadata": {},
   "source": [
    "### Training"
   ]
  },
  {
   "cell_type": "code",
   "execution_count": 10,
   "metadata": {},
   "outputs": [],
   "source": [
    "HIDDEN_SIZE = 20\n",
    "EMBEDDING_SIZE = 50\n",
    "NUM_LAYERS = 2\n",
    "LR = 0.01\n",
    "ENC_LEARNING_RATE = LR\n",
    "DEC_LEARNING_RATE = LR\n",
    "criterion = nn.NLLLoss()\n",
    "\n",
    "encoder = Encoder(len(XFIELD.vocab), HIDDEN_SIZE, EMBEDDING_SIZE, NUM_LAYERS).to(device)\n",
    "decoder = Decoder(len(XFIELD.vocab), HIDDEN_SIZE, EMBEDDING_SIZE, NUM_LAYERS).to(device)\n",
    "enc_optimizer = torch.optim.Adam(encoder.parameters(), lr = ENC_LEARNING_RATE)\n",
    "dec_optimizer = torch.optim.Adam(decoder.parameters(), lr = DEC_LEARNING_RATE)"
   ]
  },
  {
   "cell_type": "code",
   "execution_count": 11,
   "metadata": {},
   "outputs": [
    {
     "name": "stderr",
     "output_type": "stream",
     "text": [
      "  0%|          | 0/3747 [00:00<?, ?it/s]/home/gabriel/.local/lib/python3.8/site-packages/torchtext/data/batch.py:23: UserWarning: Batch class will be retired soon and moved to torchtext.legacy. Please see the most recent release notes for further information.\n",
      "  warnings.warn('{} class will be retired soon and moved to torchtext.legacy. Please see the most recent release notes for further information.'.format(self.__class__.__name__), UserWarning)\n",
      "100%|█████████▉| 3746/3747 [00:53<00:00, 70.22it/s]\n",
      "  0%|          | 0/3747 [00:00<?, ?it/s]"
     ]
    },
    {
     "name": "stdout",
     "output_type": "stream",
     "text": [
      "AVG_LOSS=5.5232, (ABS=20690.14)\n"
     ]
    },
    {
     "name": "stderr",
     "output_type": "stream",
     "text": [
      "100%|█████████▉| 3746/3747 [00:55<00:00, 67.01it/s]\n",
      "  0%|          | 0/3747 [00:00<?, ?it/s]"
     ]
    },
    {
     "name": "stdout",
     "output_type": "stream",
     "text": [
      "AVG_LOSS=4.9921, (ABS=18700.66)\n"
     ]
    },
    {
     "name": "stderr",
     "output_type": "stream",
     "text": [
      "100%|█████████▉| 3746/3747 [00:59<00:00, 63.17it/s]\n",
      "  0%|          | 0/3747 [00:00<?, ?it/s]"
     ]
    },
    {
     "name": "stdout",
     "output_type": "stream",
     "text": [
      "AVG_LOSS=4.8005, (ABS=17982.83)\n"
     ]
    },
    {
     "name": "stderr",
     "output_type": "stream",
     "text": [
      "100%|█████████▉| 3746/3747 [01:00<00:00, 62.43it/s]\n",
      "  0%|          | 0/3747 [00:00<?, ?it/s]"
     ]
    },
    {
     "name": "stdout",
     "output_type": "stream",
     "text": [
      "AVG_LOSS=4.6788, (ABS=17526.82)\n"
     ]
    },
    {
     "name": "stderr",
     "output_type": "stream",
     "text": [
      "100%|█████████▉| 3746/3747 [01:02<00:00, 60.33it/s]"
     ]
    },
    {
     "name": "stdout",
     "output_type": "stream",
     "text": [
      "AVG_LOSS=4.5932, (ABS=17206.4)\n"
     ]
    },
    {
     "name": "stderr",
     "output_type": "stream",
     "text": [
      "\n"
     ]
    }
   ],
   "source": [
    "from tqdm import tqdm\n",
    "\n",
    "EPOCHS = 5\n",
    "for ep in range(EPOCHS):\n",
    "    ep_loss = 0\n",
    "    \n",
    "    for batch in tqdm(train_iterator):\n",
    "        if len(batch) != BATCH_SIZE: break;\n",
    "        inp = batch.x\n",
    "        target = batch.y\n",
    "        \n",
    "        # init\n",
    "        loss = 0\n",
    "        h0 = torch.zeros(NUM_LAYERS*2, BATCH_SIZE, HIDDEN_SIZE).to(device)\n",
    "        c0 = torch.zeros(NUM_LAYERS*2, BATCH_SIZE, HIDDEN_SIZE).to(device)\n",
    "        enc_optimizer.zero_grad()\n",
    "        dec_optimizer.zero_grad()\n",
    "        \n",
    "        # encode\n",
    "        for w in range(inp.size(0)):\n",
    "            enc_out, (h0, c0) = encoder(inp[w], h0, c0)\n",
    "            \n",
    "        # decode\n",
    "        cur = inp[WINDOW-1].unsqueeze(0)\n",
    "        dec_out, (_, _) = decoder(cur, h0, c0)        \n",
    "        cur = torch.argmax(dec_out,dim=1)\n",
    "        \n",
    "        # loss\n",
    "        # target_onehot = torch.nn.functional.one_hot(target.squeeze(), len(YFIELD.vocab))\n",
    "        loss += criterion(dec_out, target.squeeze())\n",
    "        \n",
    "        # optimize\n",
    "        ep_loss += loss\n",
    "        loss.backward()\n",
    "        enc_optimizer.step()\n",
    "        dec_optimizer.step()\n",
    "        \n",
    "    print('AVG_LOSS={}, (ABS={})'.format(round((ep_loss/(len(DATA)/BATCH_SIZE)).item(),4), round(ep_loss.item(),2)))"
   ]
  },
  {
   "cell_type": "markdown",
   "metadata": {},
   "source": [
    "# Generate Text!"
   ]
  },
  {
   "cell_type": "markdown",
   "metadata": {},
   "source": [
    "### functions"
   ]
  },
  {
   "cell_type": "code",
   "execution_count": 12,
   "metadata": {},
   "outputs": [],
   "source": [
    "from torch import torch\n",
    "\n",
    "def voc_index(words):\n",
    "    return torch.tensor([XFIELD.vocab.stoi[x] for x in words]).to(device)\n",
    "\n",
    "def predict(inp, RND_FACTOR=0, multiply=False, h0=None, c0=None):\n",
    "    with torch.no_grad():\n",
    "        \n",
    "        if h0 == None:\n",
    "            h0 = torch.zeros(2*NUM_LAYERS, BATCH_SIZE, HIDDEN_SIZE).to(device)\n",
    "        if c0 == None:\n",
    "            c0 = torch.zeros(2*NUM_LAYERS, BATCH_SIZE, HIDDEN_SIZE).to(device)\n",
    "        \n",
    "        for w in range(inp.size(0)):\n",
    "                enc_out, (h0, c0) = encoder(inp[w], h0, c0)\n",
    "\n",
    "        cur = inp[WINDOW-1].unsqueeze(0)\n",
    "        dec_out, (h0, c0) = decoder(cur, h0, c0)\n",
    "        \n",
    "        # randomize\n",
    "        if multiply:\n",
    "            rnd = torch.rand(dec_out.shape).to(device) * RND_FACTOR + 1\n",
    "            cur = torch.argmax(dec_out * rnd,dim=1)\n",
    "        else:\n",
    "            rnd = torch.rand(dec_out.shape).to(device) * RND_FACTOR\n",
    "            cur = torch.argmax(dec_out.add(rnd),dim=1)\n",
    "\n",
    "        return YFIELD.vocab.itos[cur[0].item()], (h0, c0)\n",
    "\n",
    "def generate(intro=['good', 'evening', 'ladies', 'and', 'gentlemen'], multiply=False, rnd_factor=10, length=100, decay=None):\n",
    "    text = intro\n",
    "    h0 = torch.zeros(2*NUM_LAYERS, BATCH_SIZE, HIDDEN_SIZE).to(device)\n",
    "    c0 = torch.zeros(2*NUM_LAYERS, BATCH_SIZE, HIDDEN_SIZE).to(device)\n",
    "    \n",
    "    for i in range(length):\n",
    "        cur_window = text[-WINDOW:]\n",
    "        vecs = voc_index(cur_window).view(WINDOW,1).repeat(1,BATCH_SIZE)\n",
    "        \n",
    "        if decay:\n",
    "            prediction, (h0, c0) = predict(vecs, rnd_factor, multiply, h0, c0)\n",
    "            #h0 = torch.rand(h0.shape).to(device) * h0\n",
    "            #c0 = torch.rand(c0.shape).to(device) * c0\n",
    "        else:\n",
    "            prediction, _ = predict(vecs, rnd_factor, multiply)\n",
    "            \n",
    "        text.append(prediction)\n",
    "\n",
    "    return ' '.join(text)"
   ]
  },
  {
   "cell_type": "markdown",
   "metadata": {},
   "source": [
    "### create N speeches"
   ]
  },
  {
   "cell_type": "code",
   "execution_count": 13,
   "metadata": {},
   "outputs": [
    {
     "name": "stdout",
     "output_type": "stream",
     "text": [
      "CPU times: user 11min 19s, sys: 9.25 s, total: 11min 28s\n",
      "Wall time: 11min 28s\n"
     ]
    },
    {
     "data": {
      "text/plain": [
       "'good evening ladies and gentlemen . we ’ re going to get it . and they ’ re going to do anything . and i ’ m going to do it . and i don ’ t want to do it . we ’ re going to do it . we ’ re going to be a lot of money . i ’ m going to ask him . and i ’ m going to do it . i ’ m going to be a lot of time . and i ’ ve been very well . q mr. president . you know what ’ s wrong . i ’ m going to have to do anything . and i said “ sir ” we ’ re going to be a lot of people . and i ’ m going to be very proud of the first number of the united states . and i ’ m going to be very much . and we ’ re going to have to do it . q mr. president i ’ m going to be very very much . q thank you . i ’ m going to have to do that . we ’ re going to be a very good job . applause . the president yeah . q mr. president ? the president yeah . q the president i ’ m going to say about you ’ re going to be very happy . it ’ s a lot of time . and i said “ i ’ m going to be signing the united states . the president well i said “ sir ” the president no no no president i ’ ve been very proud of the time . and we ’ re going to be very well . and they ’ re going to be very very strongly . i ’ m going to do . and i don ’ t want to be great . we ’ re going to be able to be very very closely . we ’ re going to be a very very important mcmillon . and we ’ re going to be very much . we ’ re going to be very closely . i ’ m going to be a lot of the world . i ’ m going to say “ oh ” i said “ we ’ re going to be able to work with the united states . applause . we ’ re going to do it . q it ’ s a lot of people . and i ’ m going to have to do it . so i ’ m going to be able to get the united states of the united states . and we ’ re going to be very proud of the way . but i ’ m going to be great . i ’ m going to do it . and i ’ m going to be able to be very much . we ’ re going to do it . i don ’ t want to be a very very important taliban . we ’ re going to have to be . q the president well you don ’ t know that . i ’ m going to be able to be very closely . applause . and i ’ m going to be able to do it . q what do you have to have a lot of people . we ’ re going to be very very closely . we ’ re going to be a lot of mine . we ’ re going to be very much . i ’ m going to do it . but i ’ m going to be very much . and i ’ ve been talking about that . we ’ re going to have to do it . laughter . i ’ m going to have to go to the president well i ’ ll say “ i don ’ t know that . what ’ s going on to do that . we ’ re going to be able to do anything . and i ’ m going to be very happy . q what do you don ’ t want to do anything . i ’ m going to be very very much . applause . and we ’ re going to do it . they ’ re going to do it . q thank you very much . thank you . thank you . applause . we ’ re going to be very proud of the most news . and we ’ re going to be able to be very proud of the way . it ’ s a lot of the way . i ’ ll tell you what do you don ’ t want to do anything . and we ’ re going to be a lot of time . and i don ’ t want to say that . but they ’ re going to do you do it . but you ’ re going to be very strong . i ’ m going to be very closely . i ’ m going to do the world . i ’ m going to be a very short bit . and we ’ re doing the last period of time . we ’ re going to do it . and i ’ m going to be very much . and we ’ re going to be . it ’ s a great job . we ’ re going to have the first . and they ’ re going to be the united states . and we ’ re going to be able to be very successful . q the president we ’ re going to be very much . we ’ re going to do it . i said “ i ’ m going to be the united . so i ’ m going to be very proud of the way . and i ’ m going to be a very good job . we ’ re going to have a very short bit . we ’ re going to be able to do it . but i ’ ll do that . q but we ’ re going to be a very big time . and i ’ m going to be a very good billion . and i ’ m going to be great that . we ’ re going to be able to be a lot of the way i ’ m going to be able to be a very good job . and we ’ re going to do it . i ’ m going to be able to do what we ’ re talking about the united states . we ’ re going to be able to do that . i don ’ t think it ’ s a lot of mine . and we ’ re going to do it . i said “ i think you ’ re going to be a very important period of time . and i ’ m going to be very much . but i ’ m going to ask the world . and we ’ re doing a very good job . but we ’ re going to be able to the american people . and i ’ m going to be very much . and we ’ re going to be able to do that . they ’ re going to do it . q the president i said “ i don ’ t want to say that . laughter . we ’ re going to do it . but i said “ i don ’ t think they ’ re going to do it . we ’ re going to be in the united states . and i ’ ve been very well . but i ’ m going to do it . it ’ s going to be very much . we ’ re going to be in the last two years . and we ’ re going to be able to be a very much . thank you . thank you very much . thank you . thank you . thank you . thank you . applause . and we ’ re going to be a very successful . and i ’ m going to be a lot of people . but we ’ re going to be the same . but we ’ re going to be able to go . i ’ m going to be able to the last time . the president i ’ m going to have a very big deal . thank you . applause . and it ’ s a great thing . and we ’ re doing a lot of mine . we ’ re very much . we ’ re going to be very much . and we ’ re going to be very much . we ’ re going to have a lot of the money . and i ’ m going to be very much . and we ’ re going to do it . so they ’ re doing . we ’ re going to be a lot of people . but we ’ re going to be a lot of the way . we ’ re going to do what you ’ re going to have to do that . we ’ re going to be the economy . we ’ re going to be very well . i ’ m going to be very very much . and i ’ m going to do anything . laughter . i ’ m going to be a lot of people . q the president well i don ’ t want to do it . q i ’ m going to be very proud of the world . and i said “ i don ’ t know it ’ s a very big job . and i ’ m going to be a very good million people . and it ’ s a lot of mine . we ’ re going to be the people . and i ’ m going to do it . the president i ’ m going to do it . but i ’ m going to be very very much . thank you . thank you . and i said “ well ” the president well i ’ m going to do it . i ’ m going to have to do it . q mr. president i don ’ t know that we ’ re going to do it . q i don ’ t want to be very proud of the people . and we ’ re going to be very proud of the people . and we ’ re very proud of the world . and i ’ m going to be a very very big job . and i ’ m going to do that . so i mean i ’ m going to be very very much . q thank you . q mr. president trump well i ’ m going to have a great job . we ’ re going to be able to do that . i ’ m going to be very much . and i said “ what ’ s going to be the great phone . i ’ ll let that do you look at the last well . i ’ m going to be very much . i ’ m going to be a lot of the time . we ’ re going to be a very very short very much . thank you . thank you . thank you . thank you . applause . and i don ’ t know that we ’ re going to be very much . but we ’ re going to do it . but we ’ re going to do it . it ’ s a lot of the greatest americans . and we ’ re doing very much . q i ’ ve been very much . q the president i think we ’ re going to be very much . applause . it ’ s a lot of the money . and i don ’ t want to be very much . but we ’ re going to be the most . and we ’ re going to be a very very special . and i ’ m going to have to do . and i ’ m going to have a tremendous time . and we ’ re going to be the most news . we ’ re going to be a very very special day and i ’ ve been going to be the president ” i ’ m not going to be the most policy . and i ’ m going to be very much . we ’ re going to be a very few of the way . and we ’ re going to be very much . and i ’ m going to be able to do it . but i ’ ve been very well . and i ’ m going to be a very very big job . and i don ’ t want to take a very good job . and we ’ re going to be able to the united states . we ’ re doing very much . q mr. president i ’ m going to be a very very short job . applause . and i ’ m going to be a very important job . we ’ re going to be very very closely taliban . so i ’ m going to be very much . and we ’ re going to do it . but i ’ m going to be very much . i don ’ t think i said “ we ’ re going to get rid of the world . and i ’ m going to ask the same time . we ’ re going to be very much . and i don ’ t want to get the world . and we ’ re going to be very well . we ’ re going to have to do it . i ’ m going to be a very good job . and i ’ m very proud of the way . and i said “ sir ” i ’ m going to be a lot of money . applause . and i ’ m going to be very much . we ’ re going to do it . q mr. president — the president i ’ m going to be very much . but it ’ s a very special . and we ’ re going to be a lot of the people . and we ’ re going to be very important . we ’ re going to be very very much . thank you very much . thank you . applause . and they ’ re going to be able to get the united states . and i ’ m going to be able to go on the united states . i ’ m going to have to do it . we ’ re going to be a very very special job . we ’ re going to be very very closely . and i ’ m going to be very proud of the way . i don ’ t want to do anything . q thank you . q mr. president i am going to be great . q i don ’ t want to do it . i ’ m going to be very badly . but i don ’ t think you ’ re going to be a lot of time . i ’ m going to be a lot of time . and i ’ m going to be . i ’ m going to be very much . we ’ re going to do it . q yeah . q yes . q the president yeah . q yeah you ’ re the most ” i don ’ t want to have to do . and i ’ m going to be able to be very proud of the democrats . and we ’ re going to have a very big day . and i ’ m going to do anything . i ’ m going to do . i ’ m going to do that . you ’ re going to be very proud of the world . we ’ re going to have to do it . i ’ m going to have to do that . and i don ’ t want to be very very proud of the way . but i ’ ve been very well . q what ’ s going to be very proud of the same time . we ’ re going to be able to the world . i ’ m going to do it . and i ’ m going to be very much . and i ’ m going to be a great job . q the president i don ’ t think i ’ m going to do it . i don ’ t want to say “ i ’ m going to be very much . we ’ re going to be very much . and we ’ re going to be very much . and we ’ re doing very much . q mr. president thank you . applause . and they ’ re going to be a very very important motorbike . we ’ re going to be a very special . and i don ’ t want to have to have to be very very heavily resilient taliban taliban . and i ’ m going to be very very much . q mr. president i ’ m going to do the first i said “ sir ” “ oh ” “ oh you ’ re going to be very closely . and i ’ m going to be very much . and i don ’ t want to do that . i ’ m going to be very very closely . so we ’ re saying “ what is you know that . i ’ m going to be a lot of people . and i don ’ t want to do it . but they ’ re going to be able to the president ” i ’ m going to do it . i ’ m going to do . laughter . laughter . q what do you have a lot of the people . the president okay ? q what do you know that . i ’ ll tell you that ’ s just the same time . and i don ’ t want to do anything . i ’ m going to be a very important . we ’ re going to be very much . and we ’ re going to be very much . and i ’ m going to be able to be very proud of the united states . and we ’ re going to be very much . but we ’ re going to have to go ? ” the president i ’ ve been very well . i ’ m going to be a lot of the people . the president well you know what we ’ re going to be able to go through the same world . and we ’ re going to be able to do that . but i ’ m going to be a very good job . and it ’ s a very short bit . and we ’ re going to have to do it . and i ’ m going to be a good of the best story . applause . we ’ re going to be very much . i don ’ t want to have to do anything . q the president thank you . and i ’ m going to have to do it . it ’ s a lot of a very simple . we ’ re going to be a lot of the way . i don ’ t think it ’ s going to be the first and the president is it ’ s a very interesting . and i ’ m going to be able to the united states and we ’ re going to be doing . i ’ m going to do anything . and i ’ m going to be a lot of mine . and we ’ re going to be the united states . and i ’ m going to have to do it . i ’ m going to say “ sir ” i don ’ t know what you say “ oh ” ” it ’ s a very good job . we ’ re going to have the united states and we ’ re going to be able to the president of the united nations . we ’ re going to be in the united nations . the president thank you . and i ’ m going to be a very short period of time . and we ’ re going to be a very very short time . and i ’ m going to do it . but i ’ m going to have to do that . we ’ re going to be able to be a very big . and i ’ m going to be very proud of the united states . we ’ re going to be very proud of the world . we ’ re going to do it . they ’ re going to be very proud of the first time . and we ’ re going to be able to make the world . the president i said “ i ’ m going to be in the united states . and we ’ re going to be the president ” q i ’ m going to say that . we ’ re doing well . q the president i ’ m going to be very much . the president thank you . thank you . q the president trump i ’ m going to be very quickly . we ’ re going to be great to the united states . the president yeah . q the president well i ’ m going to be a lot of time . we ’ re going to have to say it ’ s a very special thing . we ’ re very proud of the country . and we ’ re going to be very very much . q and i ’ m going to be very proud of the way . and i ’ ve been going to be a lot of time . we ’ re going to be very much . and we ’ re going to do it . it ’ s a lot of time . and we ’ re going to have to do anything . i ’ m going to do it . you ’ re going to be very proud of the united states . applause . and we ’ re going to be a very much of the way . the president i ’ ve been talking about the president ” i don ’ t know it ’ s going to be . i ’ m going to do the world . i ’ m going to say about that . q mr. president . i don ’ t want to do it . i ’ m going to do it . we ’ re going to be proud of the people . and we ’ re going to be very much . they ’ re going to be able to do . it ’ s a very good job . we ’ re going to be . we ’ re very much . i don ’ t say “ what ’ s going to be a very good job . and we ’ re doing . and i ’ m going to be the most and the president we ’ re going to get it . we ’ re going to be able to be a very big job . we ’ re doing a lot of people . and i ’ m going to do it . but you ’ re going to be very proud of the same time . we ’ re going to be very proud of the people . and we ’ re going to be a lot of people . and i ’ m going to do that . they ’ re going to be very much . and i ’ m going to be very proud of the right of the world . and we ’ re going to be able to take up . q we ’ re going to be a lot of time . we ’ re going to be a lot of a few more . and i ’ m going to be a very short period of time . and we ’ re going to be very proud of the way . but i ’ m going to be a very good job . we ’ re going to be a lot of people . i don ’ t know that . i ’ m going to be very much . so we ’ re going to be very much . and i ’ m going to be very important . but you know what you ’ re going to be the most question . i ’ m going to have to be very closely . i don ’ t want to be doing . i ’ m going to do it . q the president i said “ i ’ m going to be a very interesting . we ’ re going to be a big job . but i ’ ve been going to be very much . i ’ m going to be a very good job . so i ’ m going to be able to be able to do it . i don ’ t want to say that . i ’ m going to be a very very important barrel . we ’ re going to be a very very very much depth of the world . they ’ re going to do it . applause . and we ’ re going to be able to do that . q the president well i ’ m going to have to be very much . and we ’ re going to be a very good job . applause . i ’ ve been talking about the world . i ’ ve been going to be a lot of people . we ’ re going to be very well . i said “ i ’ ve been going to be very much . and i ’ m going to say “ sir ” that ’ s a lot of a short bit . and i ’ ll tell you what that ’ s why i ’ ve been very proud of the folks . and we ’ re going to do it . i ’ m going to have to do that . i ’ m going to be very much . we ’ re going to be very much . but we ’ re going to be the wall . and i think we ’ re going to do anything . you know that . i don ’ t think it ’ s a very interesting . i ’ m going to be very much . but we ’ re going to have a very interesting . and i ’ m going to be very much . and i ’ m going to do anything . i ’ m going to be very proud of the united states . we ’ re going to be the most . we ’ re doing well . i ’ m going to be a very big job . we ’ re going to be very much . and we ’ re going to be very much . we ’ re going to be very much . we ’ re going to be great . applause . we ’ re going to be very well . i ’ m going to be a very much of the way . it ’ s a lot of the time . and they ’ re going to do that . it ’ s a very big . we ’ re going to be very very much . q the president i ’ ve been very well . q the president yeah . q what ’ s going to be very much . applause . and i ’ m going to be very much . it ’ s a great thing . we ’ re going to be the president i ’ m going to have to have to be the president i ’ ve been going to be a very good job . we ’ re going to have to have to be able to be the same of the world . and the president is you don ’ t want to do anything . you know that ’ s the numbers . and you know what we ’ re going to be a very very special . and we ’ re going to be very smart . and we ’ re going to be very much . and we ’ re going to be able to go through the united states of the world . and we ’ re going to do it . we ’ re going to be very much . and i ’ m going to be very much . the president thank you . and i ’ m going to be a very very short very much . thank you . applause . we ’ re going to be a very good job . we ’ re going to be the most — the president well i ’ m going to be very proud of the way . but we ’ re going to be very much . i ’ m going to be a very very special . we ’ re going to be a very good job . applause . we ’ re going to be a lot of the way . i ’ m going to be very proud of the world . and it ’ s a lot of the things . and you know what you ’ re going to be very well . i said “ i ’ m going to be able to do the united states ’ re going to be able to be great . so i ’ m going to do it . and i said “ i don ’ t think it ’ s a very good job . and we ’ re going to be very much . we ’ re going to have to do what you know i ’ m going to be . and i ’ m going to be very happy . q thank you mr. president . i ’ m going to be a very good job . we ’ re going to be very closely . we ’ re going to be the most thing . i ’ m going to be very smart . and it ’ s a lot of the way we ’ re going to be able to the world . i don ’ t want to get the united states . and we ’ re going to be a lot of the way . i said “ i don ’ t think we ’ re doing . we ’ re going to be very strong . the president no i ’ m going to do it . but i ’ ve been very well . the president yeah . q mr. president i ’ m going to do it . but we ’ re going to be able to work . they ’ re going to have to say “ i know that ’ s why i ’ m going to be able to do it . laughter . q mr. president is the president ” you don ’ t want to do that . we ’ re going to have to say about the last slide . we ’ re going to be very much . we ’ re going to do it . q thank you . q i ’ m going to be a lot of people . and i ’ m going to be very proud of the united states . and we ’ re going to be very much . and we ’ re going to be able to keep the united states . we ’ re going to be very much . and we ’ re going to be the most job . and we ’ re going to be the most team . and they ’ re going to be able to do the president that ’ s not sense . i ’ ve been going to be . q the president i ’ m going to be very proud of the way . the president well i ’ m going to be a lot of mine . i ’ m going to do you don ’ t want to get a lot of the way it ’ s a lot of the money . we ’ re going to be very proud of the same . and we ’ re going to be able to the president of the united states . and we ’ re going to be very proud of the world . and i ’ m going to be able to the president . we ’ re doing very much . q mr. president i don ’ t want to have to have to be the united states of the world . and we ’ re going to be very much . and i ’ ve been going to be great . i ’ m going to say it is you have to do you don ’ t want to be able to be very much . we ’ re going to be very proud of the people . we ’ re going to be very very closely . we ’ re going to do anything . it ’ s why i am asking the united states . we ’ re going to have the president we ’ re going to be able to the united states . i ’ ve been talking about that . q mr. president is a great job . q what ’ s a very simple . and we ’ re going to be very very smart . we ’ re going to be . i ’ m going to be very very closely . the president i ’ ve been very well . and i ’ ll tell you . it ’ s a big thing . we ’ re going to be able to do anything . applause . and we ’ re going to do it . it ’ s a lot of the people . and i ’ m going to do it . i ’ m going to be very much . and we ’ re going to be very proud of the way . and i ’ m going to do it . but i ’ m going to be very interesting . we ’ re going to be the worst deal . applause . and we ’ re going to be able to get the most news . and we ’ re going to have to get that . we ’ re going to be able to get a lot of the united states . we ’ re going to be very very much . thank you . thank you . applause . and it ’ s a lot of the people . and we ’ re going to be a lot of the people . we ’ re very proud of the united states . and we ’ re going to be very strong . and we ’ re going to be very closely . and i ’ m going to be very much . and we ’ re going to be in the world . applause . and i ’ m going to have to do it . and i ’ m going to say about you are very proud of the governors . it ’ s a very good job . we ’ re going to have been very much . thank you . thank you . and i ’ m going to have to be a very very long time . we ’ re going to be going to be very good . the president i said “ we ’ re going to have to do it . we ’ re going to be in the world . we ’ re going to be a very big deal . we ’ re going to be able to do . applause . and we ’ re going to be very smart . but we ’ re going to do it . i ’ m going to do it . q mr. president ? ” the president i said “ what you know what you ’ re going to be able to get a very successful . and it ’ s a lot of the world . and i ’ m going to be very safe . we ’ re going to be able to be a lot of mine . and i ’ m going to be very proud of the united states . and we ’ re going to be the numbers . the president we ’ re going to be very very closely . and we ’ re going to be able to do it . applause . i ’ m going to do it . and i ’ m going to be the president ” the president yeah . q what do you think it ’ s a lot of the way . and i ’ m going to say “ sir ” i ’ m going to do the united states . we ’ re going to be talking about the united states and we ’ re going to be the most — the president i think it ’ s the time . the president i ’ m going to go through the united states . we ’ re going to do the first — q mr. president . q we ’ re going to be a very successful and the president and we ’ re going to be able to do that . it ’ s a very good job . we ’ re going to be very very closely . the president well i ’ m going to be the wall . but we ’ re going to do it . q mr. president . but i ’ m going to be very much . it ’ s a very important of the worst people . and we ’ re going to do anything . we ’ re going to be able to do it . q thank you . q mr. president trump i ’ m going to have the last slide . we ’ re going to be the most slide . we ’ re doing very much . q mr. president is a lot of people . q thank you very much . thank you . applause . we ’ re going to be very much . we ’ re going to do that . we ’ re going to be very closely . and we ’ re going to do it . q what you ’ re going to be very much . it ’ s a great job . and we ’ re doing . you know what you don ’ t want to do that . but we ’ re going to be very very closely . and'"
      ]
     },
     "execution_count": 13,
     "metadata": {},
     "output_type": "execute_result"
    }
   ],
   "source": [
    "%%time\n",
    "\n",
    "generated = []\n",
    "GENERATE_N = 10\n",
    "MEAN_OG_SPEECH_LEN = round(np.mean([len(s) for s in speeches]))\n",
    "for i in range(GENERATE_N):\n",
    "    generated.append(\n",
    "        generate(intro=['good', 'evening', 'ladies', 'and', 'gentlemen'], \n",
    "                 multiply=True, \n",
    "                 rnd_factor=1.2, \n",
    "                 length=MEAN_OG_SPEECH_LEN, \n",
    "                 decay=True)\n",
    "    )\n",
    "\n",
    "generated[0]"
   ]
  },
  {
   "cell_type": "code",
   "execution_count": 16,
   "metadata": {},
   "outputs": [
    {
     "data": {
      "text/plain": [
       "'good evening ladies and gentlemen . we ’ re going to do it . laughter . q mr. president ? the president i ’ ve been very well . and i ’ m going to be very proud of the world . and i ’ ve been able to the united states of the united states . the president no i ’ m going to do anything . q i ’ m going to be very much . and we ’ re going to be a very few of the way . so we ’ re going to be a lot of people . i ’ m going to say “ i ’ ll tell you the president . q what ’ s okay . i don ’ t want to do anything . i ’ m going to be a lot of the people . and i ’ m going to be a very good job . i ’ m going to be a very short period of time . and i ’ m going to be very very closely . but we ’ re going to be very much . we ’ re going to be proud of the united states . and we ’ re going to be very much . i don ’ t want to be very very much . thank you . and we ’ re going to be a very very special job . and i ’ m going to be very much . we ’ re going to be very much . we ’ re going to be able to go to the president and i ’ m going to be able to do that . but we ’ re going to be very much . but i ’ m going to have to do it . and we ’ re going to be able to make the last to the united states of the world . we ’ re going to be very much . the president thank you . q but we ’ re going to have to do it . i ’ m going to do it . and i think it ’ s not . and they ’ re going to do it . q and i ’ m going to have to do it . q thank you mr. president . but they ’ re going to be able to the united states . and i ’ m doing . i ’ m going to be very well . we ’ re going to be able to go . i don ’ t want to do . we ’ re going to be very proud of the money . and i ’ m going to have to be the united states . we ’ re going to do it . q mr. president i said “ we ’ re going to be the united states . and we ’ re going to be able to do that . q the president well i don ’ t know that . i ’ m going to have to do it . i ’ m going to be a lot of the people . we ’ re going to be a very few of the way that ’ s a lot of the worst hunt . we ’ re going to do that . but i ’ m not going to be a very big deal . thank you . and i ’ m going to be a great job . we ’ re going to be very good . i ’ m going to do it . q we ’ re going to be very much . and i ’ m going to be a very very short period of time . and i ’ m going to have to take care of the people . and we ’ re going to be a lot of the things . and i ’ m going to be in the last week and the united states and we ’ re going to do it . but i ’ m going to do it . q thank you mr. president . and i don ’ t want to do it . i don ’ t want to thank them to be very closely . and we ’ re going to be a very good job . and we ’ re going to be very much . and i ’ m going to be very proud of the way . we ’ re going to do the president i don ’ t know that . we ’ re doing . but i said “ you don ’ t know about the most and the united states will be able to have to get it . q what ’ t think they ’ re going to be going to be very closely . and we ’ re going to be able to do . q mr. president i ’ m going to be very much . and we ’ re going to be great . and i don ’ t know what that ’ s what we ’ re going to be very much . and we ’ re talking about the world . you know that we ’ re going to be very good . i said “ i ’ m going to be very successful . i have to do it . q thank you . q thank you . q the president trump well i ’ m going to have to tell you . q and i don ’ t think it ’ s a lot of the money . we ’ re going to have a very successful of the world . and we ’ re going to be very much . we ’ re doing . q i ’ m going to be very much . we ’ re going to be very much . applause . and i ’ m going to have to say “ what do you look at the world . q mr. president i ’ m going to be a great job . applause . we ’ re going to be very happy . i said “ i ’ m going to do that . the president i ’ ll do it . q i ’ ve been very well . q inaudible . i ’ m going to do it . q mr. president i ’ m going to have to do that . q and they ’ re going to do that . i don ’ t want to do it . q the president well i ’ m going to say i ’ m going to do that . and i ’ m going to do it . you ’ re going to be very proud of the united way . and i don ’ t have to do anything . q ” ” i don ’ t want to do it . and i ’ m going to have to go . we ’ re going to be very proud of the united states . applause . and i don ’ t want to do it . the president yeah . q i ’ ve been doing . but i ’ m going to do that . q the president i don ’ t know you have to do it . we ’ re going to be very much . we ’ re going to be able to take up . q thank you . q thank you . what you have a lot of mine . and it ’ s a lot of the way . i ’ m going to have a very good job . i ’ m going to be very proud of the world . i said “ i ’ m going to be the first thing . we ’ re going to be a very very short time . we ’ re going to be very very much . thank you . thank you . thank you . so i don ’ t know what i ’ m going to do that . we ’ re going to be able to have to tell you the united states . i ’ m going to have to do that . q i don ’ t think it ’ s a lot of the way . and it ’ s a very big time . we ’ re going to be a lot of the money . and i ’ m going to have to do that . and i don ’ t want to do it . you know that we ’ re going to be able to the united states . and i don ’ t want to be very closely . and they ’ re going to be here . q mr. president i said “ i ’ m going to be able to the president i ’ m going to be very much . we ’ re going to be very much . we ’ re going to be very much . i ’ m going to be very good . and we ’ re going to do that . it ’ s the same time . and we ’ re going to be the most important and justice . we ’ re going to be the same time . and i ’ m going to be very successful . but we ’ re going to be a very very special job . applause . and the united states are also also a lot of the way . i don ’ t want to do it . i ’ m going to be a very big deal . and i ’ m going to have to do . but we ’ re going to do it . but they ’ re going to be very much . and i ’ m going to do it . but i ’ m going to have a lot of people . applause . and then i don ’ t want to do anything . q thank you mr. president . and i ’ ve been very well . you know that ’ s going to be . and it ’ s a lot of the time . and that ’ s the united states that are very proud of the united states . we ’ re going to be a very big job . and i ’ m going to be very proud of the kind of people . and i ’ m going to be able to get it . q what ’ s just ? q mr. president . i ’ m going to be very much . we ’ re going to do it . we ’ re going to be a lot of the people . we ’ re going to be very much . i ’ m going to be a very good job . we ’ re going to be the most . we ’ re going to be very much . i ’ m going to be very much . we ’ re going to get it . i ’ m going to be very good . but i ’ ve been able to the united states . we ’ re going to be . q the president no no i ’ m going to be the united states . and we ’ re going to be a very good time . and i ’ ve been going to be here . i ’ m going to be very much . and i ’ m going to do it . it ’ s a lot of the people . and i said “ i don ’ t want to do it . you know that ’ s why i said “ i ’ m going to be the president has said that ’ s a lot of the people . the president i said “ oh i don ’ t want to have to do what it ’ s going on . q mr. president . q what you know i ’ m going to be very closely . and they ’ re doing . you know that . and we ’ re going to be very proud of the people . we ’ re going to be able to get the last week . and i ’ m going to be very proud of the same time . and it ’ s a lot of the things . we ’ re going to be very good ” and you ’ re going to be a very good job . and we ’ re very proud of the united states . and we ’ re going to be very much . and we ’ re going to be able to have to do it . q mr. president i don ’ t want to be the most team . the president thank you . q the united states are looking at the same way i ’ m going to do what they ’ re doing . i ’ m going to be very much . we ’ re going to be able to the people . i ’ m going to be very well . laughter . we ’ re doing . but i ’ m going to be very much . and i don ’ t want to be a very special than the united states . and we ’ re going to be very proud of the way . but i said “ we ’ re going to be talking about the last night . and we ’ re going to be the people . i ’ m going to be able to go through the united states . we ’ re going to be very much . and we ’ re going to be very well . and i ’ m going to have to do that . and i said “ well ” i ’ m going to be very much . and i ’ m going to do the people . applause . we ’ re going to have to be a very very important taliban . we ’ re going to be very proud of the people . we ’ re going to be a very good job . so we ’ re going to have to do anything . you know the president i ’ m going to be very much . and i ’ m going to be in the last month . and i ’ m going to be a very big job . and we ’ re doing very much . q thank you . it ’ s a great thing . but i ’ ll let you do it . and i don ’ t know . i ’ m going to have to be very much . and i ’ m going to do it . and i don ’ t want to thank the united states . we ’ re going to be very much . the president thank you . thank you . congratulations . we ’ re going to be a very special thing . we ’ re going to be the best . and we ’ re going to have a lot of the way . applause . the president i ’ m going to be very very closely . and i ’ m going to be able to do that . but i don ’ t want to thank the united states . so i said “ what you ’ re going to be the united states . and we ’ re going to be the most administration . we ’ re going to be the right thing . q the united states are great and the same summit . we ’ re going to be the great thing . i ’ m going to be a very good of money . we ’ re going to be able to the president of the world . and i don ’ t want to do anything . q mr. president i ’ ve been very proud of the united states . and we ’ re doing well . and i ’ ve been very proud of the greatest economy . and we ’ re going to be very much . but they ’ re going to be able to the united states . and i don ’ t know that . i said “ they ’ re going to be very much . the president well i ’ m going to be very very important . and they ’ re very proud of the way . we ’ re going to be very good . we ’ re going to be a very good percent . and the president and we ’ re going to be very much . i said “ i don ’ t think “ i ’ m going to do it . and i ’ m going to be a very few of the people . we ’ re going to have to do the first thing . we ’ re going to be a very short period of time . we ’ re going to be very very proud of the united states . but i ’ m going to have to do that . we ’ re doing it . q mr. president ? q thank you mr. president . i ’ m going to be a lot of the way . but i said “ well ” the president yeah . q mr. president i said “ i don ’ t want to have to do that . and i said “ i don ’ t want to have to do that . q mr. president . i don ’ t have to have to be the first time . and we ’ re going to be a very big country . we ’ re going to be very much . so we ’ re going to be in the last month . and we ’ re going to be a lot of the way that we ’ re going to be very much . we ’ re going to do it . but i ’ m going to be very strong . we ’ re going to be the united states . applause . we ’ re going to have to do it . q mr. president . but i ’ m going to be a lot of people . we ’ re going to have to do it . i don ’ t think i ’ m going to say “ oh ” i ’ m going to be very proud of the world . and they ’ re going to have to do it . q thank you mr. president . we ’ re going to be very proud of the people . we ’ re going to do anything . q and i ’ m going to be the president . q and it ’ s a great thing . i ’ m going to do . we ’ re going to be very smart . and i ’ m going to see the united states . and i ’ m going to be in the united states . the president i ’ m going to do that . the president yeah . q the president well i ’ m going to be a very very special . and they ’ re going to be the united states . and the united states are a very good church . and i ’ m going to be very much . but i ’ m going to be a very special thing . applause . thank you . applause . thank you . applause . and we ’ re going to be very very closely . applause . and i ’ m going to be . we ’ re going to do it . and i ’ m going to do that . so i ’ m going to be a lot of money . we ’ re going to be able to make the united states . we ’ re going to be able to be very proud of the united states . we ’ re going to be able to do . we ’ re going to do it . and i ’ m going to be very well . so i ’ m going to be a lot of the things . and i don ’ t want to do anything . i said “ i ’ m going to be a very good billion . we ’ re going to do it . and i ’ m going to do the first and they ’ re going to do that . and i ’ m going to be able to have to have to do that . q mr. president . we ’ re going to have to get that . but i ’ m going to be very proud of the way . and we ’ re going to be a very much . thank you . applause . we ’ re going to be a lot of people . and we ’ re going to be very proud of the same time . we ’ re going to be able to do it . we ’ re going to be very proud of the president ” i ’ m going to be very much . and i ’ m going to have to do . but i ’ m going to be a very good job . and i ’ m going to be very well . and i ’ m going to be the people . and i ’ m going to be a very big day and the united states . we ’ re going to be very proud of the money . and it ’ s an extraordinary place . we ’ re going to be very very much . and i ’ m going to be a lot of the way that ’ s a great job . and i don ’ t think we ’ re going to do it . q the president well i ’ m going to be a very very big man . and i ’ m going to be very proud of the people . we ’ re doing a lot of time . but you don ’ t want to do it . we ’ re going to be able to do it . q mr. president i am asking the united states . and we ’ re going to be a very good period of time . and we ’ re going to be able to do it . i don ’ t want to go on the united states . and we ’ re going to be very very much . thank you . applause . we ’ re going to be a lot of people . i ’ ve been very well . applause . and we ’ re going to be able to the president of the united states . we ’ re going to be very much . and i ’ m going to be a lot of people . we ’ re going to do it . we ’ re going to have to do anything . laughter . i ’ m going to be very very much . q the president well i ’ ve been going to be very very much . q thank you . it ’ s a great thing . it ’ s a big thing . i ’ m going to do it . it ’ s a lot of the way . and i don ’ t know it ’ s a great job . i ’ m going to say that . i ’ m going to be very much . i ’ m going to be very much . we ’ re going to be very much . but we ’ re going to have to say about the same time . we ’ re going to be very proud of the united states . the president we ’ re going to be very very much . applause . thank you . thank you . applause . we ’ re going to do it . q i know what we ’ re doing . q the president i ’ m going to be very much . so i said “ i ’ m going to be a very very special . we ’ re going to have to say “ you don ’ t want to be a very big deal . and we ’ re going to be a lot of the money . but we ’ re very proud of the world . and i ’ m going to have to do anything to the president well i don ’ t want to be a very short bit . we ’ re going to have to do . the president well i ’ ve been very well . q mr. president — but i ’ m going to be very much . we ’ re going to be very much . we ’ re going to be very closely . and i don ’ t want to thank the president ” i ’ m going to be a very much more . and we ’ re going to do it . q the president well i ’ m going to do that . and i ’ m going to do it . and i ’ m going to be very much . and we ’ re going to be very much . and they ’ re going to be able to get it . q the president well i don ’ t say “ oh i ’ m going to be able to be a very interesting . and we ’ re going to be able to the president and i don ’ t want to thank the right thing . q the president i ’ m going to be the most job . so we ’ re going to do it . and i ’ m going to do it . it ’ s a lot of the money . we ’ re going to have a very good job . we ’ re going to be very proud of the same time . and we ’ re going to be a very special problem . the president i am going to do it . but i don ’ t know that ’ s what i said “ what we ’ re going to be very closely . i ’ m going to be very very much . thank you . thank you . thank you very much . thank you . applause . and we ’ re going to be able to do it . i ’ m going to ask the most thing . the president i ’ m going to be a lot of the world . we ’ re going to be able to do it . and i said “ i said “ what do you know what we ’ re going to be a lot of the things . and we ’ re going to have to do that . i don ’ t want to get it . it ’ s a great thing . we ’ re going to do anything . q you know what do you know it ’ s a great job . and we ’ re going to be very proud of the world . we ’ re going to have to say to the world . applause . and i ’ m going to be a very very short very much . thank you . thank you . applause . we ’ re going to be very closely . q the president i ’ ve been going to be . q i don ’ t know it ’ s a lot of the united states . and we ’ re going to be very smart . and i ’ m going to be able to get the same and we ’ re going to be very proud of the right . we ’ re going to be very much . and i ’ m going to be going to be the most . it ’ s a great thing . q thank you mr. president . i ’ m going to have to do it . we ’ re going to be able to do that . i ’ m very well . q thank you mr. president . we ’ re going to have to do the best . we ’ re going to do it . laughter . the president i don ’ t want to thank you . thank you . applause . applause . and we ’ re going to be very proud of the people . we ’ re going to do it . and i don ’ t think it ’ s a lot of the time . but we ’ re going to be very proud of the world . and i am pleased to the president and i ’ m going to do anything . and i don ’ t think it ’ s a lot of the way we ’ re going to be able to be the best . we ’ re going to be very much . we ’ re going to do it . q mr. president i don ’ t think we ’ re going to be . i ’ m going to be a very short period of time . applause . thank you . and i ’ m going to be a very big military . and we ’ re going to do that . but i ’ m going to be a lot of mine . the president well i ’ m going to be able to do that . we ’ re going to be the most thing . we ’ re going to be able to the president ” q mr. president . we ’ re going to be very much . i ’ m going to have to be very closely . and they ’ re going to be very much . but i ’ ve been very proud of the president ” and i said “ what did you say “ what do you look at the united states . i ’ m going to have to do the united states . the president i ’ ve been very much . but i don ’ t know it ’ s a little bit . we ’ re going to be very much . and i ’ ve been very proud of the same time . and we ’ re going to have to do what we ’ re going to do that . i ’ m going to be very very much . thank you . thank you . thank you . thank you . thank you . thank you . q thank you . q thank you . thank you . thank you . applause . we ’ re going to do anything . i ’ m going to have to say “ sir ” i ’ m going to be very very closely . we ’ re going to be . we ’ re very much . we ’ re doing very much . q and i ’ m going to be very very quickly . applause . we ’ re going to have to say “ i ’ m going to do that . i ’ m going to do it . i don ’ t want to get the president ” but i ’ ve been very well . q i said “ i ’ m going to be very much . but i ’ m going to say “ i said “ i said “ i ’ m going to be able to do what we ’ re going to do it . and i ’ m going to be able to do that . q mr. president trump has been very much . we ’ re going to do it . it ’ s a lot of the way . but i said “ oh ” q mr. president i ’ m going to be in the united states . and they ’ re going to do it . and i ’ m going to be the greatest way . we ’ re going to do anything . laughter . q and we ’ re going to be very very closely . we ’ re going to be a great job . we ’ re going to be very successful . and i said “ i don ’ t know that ’ s going to be a very good job . and i ’ m going to do it . and i ’ m going to say ” “ i said “ i don ’ t want to have to do it . we ’ re going to be very much . and we ’ re going to be very much . we ’ re going to do it . we ’ re going to be very much . and i ’ m going to be the president is a very very much . thank you . and i ’ m going to be very much . we ’ re going to be a lot of the people . we ’ re going to have to go to the president is the united states . and we ’ re going to be “ it ’ s a great job . you know what we ’ re going to be able to be a very very short time . we ’ re going to have to do it . q the president i ’ m going to say “ i said “ we ’ re going to be a very big day . we ’ re going to be a lot of people . and i said “ i ’ m going to be very well . i ’ m going to be able to do it . q the president i don ’ t want to do anything . and i ’ m going to do that . it ’ s a lot of the people . and we ’ re going to be great . we ’ re going to be a very big job . we ’ re going to do anything . q we ’ re going to be able to work very well . q mr. president . it ’ s a lot of mine . and we ’ re going to be the same time . we ’ re going to be very proud and the president is the president well i don ’ t think you ’ re going to be the president ” you know what you ’ re going to be very much . and we ’ re going to be the united states . and we ’ re going to do it . and i ’ m going to be very much . i ’ m going to be able to do that . you know if you know what you ’ re going to be very much . it ’ s a lot of time . we ’ re going to be very very much . thank you . thank you very much . thank you . thank you . thank you . applause . we ’ re going to be very proud of the same time . and i said “ what ’ s happening . i don ’ t think that ’ s why they ’ re going to be very very much . thank you . thank you . q yes . q yes . q mr. president i ’ m going to be a great job . and i ’ m going to do it . and i ’ m going to be very much . and i ’ m not going to be very very much . thank you very much . thank you very much . thank you . applause . we ’ re going to be very much . and we ’ re going to do it . q we ’ re going to do it . and i ’ m going to be doing a lot of people . and we ’ re going to have to do the first time . but we ’ re going to be a very very important sudden . it ’ s a lot of the money . but i ’ m going to say “ what do you know what we ’ re going to be very closely . we ’ re going to be very closely . and i said “ i ’ m going to be very proud of the worst hunt . we ’ re going to be very much . thank you very much . thank you . thank you . it ’ s a great job . it ’ s a very very short bit . and i ’ m going to be very much . applause . we ’ re going to have to go to the world . and i ’ m going to do it . we ’ re doing well . i ’ m going to be very much . and i ’ m going to be very successful . and i ’ m going to be very good . i ’ m going to be a very much . thank you . thank you . applause . but we ’ re going to be very very much . thank you . thank you . q the president well i ’ m going to do anything . i mean i ’ m going to be able to the next . i don ’ t want to be talking about the united states . but we ’ re going to have to do . we ’ re going to be a lot of the way and they ’ re going to be able to do it . but you ’ re going to be very closely . applause . and they ’ re going to be the first time . and they ’ re going to do it . i ’ ve been very proud of the united states . we ’ re doing well . i know that ’ t know that we ’ re going to be a lot of people . and we ’ re going to be very much . we ’ re going to be very much . we ’ re going to be the most government . and we ’ re going to be very very closely taliban . and i ’ m going to be able to do the first thing . and i said that ’ s not a lot of a lot of people . and i don ’ t want to make the united states . the president no i ’ ve been able to the president . i ’ m going to have to do anything . but i ’ m going to be great . we ’ re very proud of the united states . and i said “ i don ’ t think i don ’ t think the world has been very well . we ’ re going to be the president i don ’ t want to get the united states . and we ’ re going to do anything . i ’ ve been going to be a very much . q i don ’ t know what do you do you have been very important . and i ’ m going to be a very big deal . and we ’ re going to be able to do it . we ’ re going to be very very much .'"
      ]
     },
     "execution_count": 16,
     "metadata": {},
     "output_type": "execute_result"
    }
   ],
   "source": [
    "generated[1]"
   ]
  },
  {
   "cell_type": "markdown",
   "metadata": {},
   "source": [
    "# Evaluate"
   ]
  },
  {
   "cell_type": "code",
   "execution_count": 15,
   "metadata": {},
   "outputs": [
    {
     "name": "stdout",
     "output_type": "stream",
     "text": [
      "mean cosine similarity over all generated speeches: 0.03544182345300263\n",
      "standard deviation of cosine similarity over all generated speeches: 0.004315502799725468\n",
      "mean rouge score for all generated speeches: 0.2848514720800647\n",
      "standard deviation of rouge score for all generated speeches: 0.0016312328716201854\n",
      "mean sentence len (OG vs GEN) (12.49461030532197, 10.834157695664825)\n",
      "mean word len (OG vs GEN) (4.574695085221934, 2.8285831352945996)\n",
      "top15 rank distance 208.64163666305222\n",
      "CPU times: user 39.6 s, sys: 18.9 ms, total: 39.6 s\n",
      "Wall time: 39.6 s\n"
     ]
    }
   ],
   "source": [
    "%%time\n",
    "\n",
    "import metrics\n",
    "\n",
    "# persist\n",
    "for i in range(len(generated)):\n",
    "    with open(\"../data/lstm/{}_generated/{}.txt\".format(PRESIDENT, str(i)), \"w\") as text_file:\n",
    "        text_file.write(generated[i]) \n",
    "\n",
    "# scores\n",
    "mean_cos, std_cos, cos_sim = metrics.get_cosine_sim_tfidf(PRESIDENT, \"lstm/{}_generated\".format(PRESIDENT), print_results=True)\n",
    "rouge = metrics.get_rouge_score(PRESIDENT, \"lstm/{}_generated\".format(PRESIDENT), print_results=True)\n",
    "og_sen_len = metrics.calculate_mean_sentence_length(PRESIDENT)\n",
    "gen_sen_len = metrics.calculate_mean_sentence_length(\"lstm/{}_generated\".format(PRESIDENT))\n",
    "print('mean sentence len (OG vs GEN)', (og_sen_len, gen_sen_len))\n",
    "og_w_len = metrics.calculate_mean_word_length(PRESIDENT)\n",
    "gen_w_len = metrics.calculate_mean_word_length(\"lstm/{}_generated\".format(PRESIDENT))\n",
    "print('mean word len (OG vs GEN)', (og_w_len, gen_w_len))\n",
    "top = 15\n",
    "rank_dist = metrics.get_top_n_rank_distance(orig_speeches_loc=PRESIDENT, gen_speeches_loc=\"lstm/{}_generated\".format(PRESIDENT), n=top)\n",
    "print('top{} rank distance {}'.format(top, rank_dist))"
   ]
  },
  {
   "cell_type": "markdown",
   "metadata": {},
   "source": [
    "# Save Models"
   ]
  },
  {
   "cell_type": "raw",
   "metadata": {},
   "source": [
    "# make new file names\n",
    "# MODEL_PATH = '../data/obama_models/obama_lstm'\n",
    "\n",
    "# SAVE ENCODER MODEL\n",
    "ENC_PATH = MODEL_PATH + \"_enc.pt\"\n",
    "torch.save(encoder.state_dict(), ENC_PATH)\n",
    "\n",
    "# SAVE ENCODER MODEL\n",
    "DEC_PATH =  MODEL_PATH + \"_dec.pt\"\n",
    "torch.save(decoder.state_dict(), DEC_PATH)\n",
    "\n",
    "# RELOAD\n",
    "encoder = Encoder(len(XFIELD.vocab), HIDDEN_SIZE, EMBEDDING_SIZE, NUM_LAYERS)\n",
    "encoder.load_state_dict(torch.load(MODEL_PATH + '_enc.pt', map_location=torch.device('cpu')))\n",
    "\n",
    "decoder = Decoder(len(XFIELD.vocab), HIDDEN_SIZE, EMBEDDING_SIZE, NUM_LAYERS).to(device)\n",
    "decoder.load_state_dict(torch.load(MODEL_PATH + '_dec.pt', map_location=torch.device('cpu')))"
   ]
  }
 ],
 "metadata": {
  "kernelspec": {
   "display_name": "Python 3",
   "language": "python",
   "name": "python3"
  },
  "language_info": {
   "codemirror_mode": {
    "name": "ipython",
    "version": 3
   },
   "file_extension": ".py",
   "mimetype": "text/x-python",
   "name": "python",
   "nbconvert_exporter": "python",
   "pygments_lexer": "ipython3",
   "version": "3.8.5"
  }
 },
 "nbformat": 4,
 "nbformat_minor": 4
}
