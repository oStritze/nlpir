{
 "cells": [
  {
   "cell_type": "markdown",
   "metadata": {},
   "source": [
    "# <u> LSTM ENCODER DECODER"
   ]
  },
  {
   "cell_type": "markdown",
   "metadata": {},
   "source": [
    "# Data"
   ]
  },
  {
   "cell_type": "code",
   "execution_count": 1,
   "metadata": {},
   "outputs": [],
   "source": [
    "import utils\n",
    "import numpy as np\n",
    "\n",
    "#utils.setup_nltk()\n",
    "PRESIDENT = 'obama'\n",
    "speeches = utils.read_all_text_files(PRESIDENT)"
   ]
  },
  {
   "cell_type": "markdown",
   "metadata": {},
   "source": [
    "### Preprocessing"
   ]
  },
  {
   "cell_type": "code",
   "execution_count": 2,
   "metadata": {},
   "outputs": [],
   "source": [
    "filter_list = [':', '(', ')', ',', '-',]\n",
    "filtered_speeches = []\n",
    "\n",
    "for speech in speeches:\n",
    "    filtered_speech = []\n",
    "    for word in speech:\n",
    "        # filter out unwanted words\n",
    "        if word not in filter_list:\n",
    "            # lower word\n",
    "            filtered_speech.append(word.lower())\n",
    "    filtered_speeches.append(filtered_speech)"
   ]
  },
  {
   "cell_type": "markdown",
   "metadata": {},
   "source": [
    "### Create N-Grams"
   ]
  },
  {
   "cell_type": "code",
   "execution_count": 3,
   "metadata": {},
   "outputs": [],
   "source": [
    "from nltk import ngrams\n",
    "\n",
    "WINDOW = 5\n",
    "grams = [ngrams(s, WINDOW+1) for s in filtered_speeches]\n",
    "flat_grams = [ng for speech in grams for ng in speech]"
   ]
  },
  {
   "cell_type": "markdown",
   "metadata": {},
   "source": [
    "### Split Data"
   ]
  },
  {
   "cell_type": "code",
   "execution_count": 4,
   "metadata": {},
   "outputs": [],
   "source": [
    "import pandas as pd\n",
    "\n",
    "X = [' '.join(list(x[0:WINDOW])) for x in flat_grams]\n",
    "Y = [x[-1] for x in flat_grams]\n",
    "df = pd.DataFrame.from_dict({'x':X, 'y':Y})\n",
    "\n",
    "# persist\n",
    "csv_name = '../data/lstm/preproc/{}_encdec_{}grams.csv'.format(PRESIDENT, str(WINDOW))\n",
    "df.to_csv(csv_name, index=False)"
   ]
  },
  {
   "cell_type": "code",
   "execution_count": 5,
   "metadata": {},
   "outputs": [
    {
     "name": "stderr",
     "output_type": "stream",
     "text": [
      "/home/gabriel/.local/lib/python3.8/site-packages/torchtext/data/field.py:150: UserWarning: Field class will be retired soon and moved to torchtext.legacy. Please see the most recent release notes for further information.\n",
      "  warnings.warn('{} class will be retired soon and moved to torchtext.legacy. Please see the most recent release notes for further information.'.format(self.__class__.__name__), UserWarning)\n",
      "/home/gabriel/.local/lib/python3.8/site-packages/torchtext/data/example.py:68: UserWarning: Example class will be retired soon and moved to torchtext.legacy. Please see the most recent release notes for further information.\n",
      "  warnings.warn('Example class will be retired soon and moved to torchtext.legacy. Please see the most recent release notes for further information.', UserWarning)\n",
      "/home/gabriel/.local/lib/python3.8/site-packages/torchtext/data/example.py:78: UserWarning: Example class will be retired soon and moved to torchtext.legacy. Please see the most recent release notes for further information.\n",
      "  warnings.warn('Example class will be retired soon and moved to torchtext.legacy. Please see the most recent release notes for further information.', UserWarning)\n"
     ]
    }
   ],
   "source": [
    "import torchtext\n",
    "\n",
    "XFIELD = torchtext.data.Field(sequential=True)\n",
    "YFIELD = torchtext.data.Field(sequential=True)\n",
    "DATA = torchtext.data.TabularDataset(csv_name,'csv', \n",
    "                                     [('x', XFIELD),('y', YFIELD)], skip_header=True)\n",
    "\n",
    "XFIELD.build_vocab(DATA)  \n",
    "YFIELD.build_vocab(DATA)"
   ]
  },
  {
   "cell_type": "code",
   "execution_count": 6,
   "metadata": {},
   "outputs": [
    {
     "name": "stderr",
     "output_type": "stream",
     "text": [
      "/home/gabriel/.local/lib/python3.8/site-packages/torchtext/data/iterator.py:48: UserWarning: Iterator class will be retired soon and moved to torchtext.legacy. Please see the most recent release notes for further information.\n",
      "  warnings.warn('{} class will be retired soon and moved to torchtext.legacy. Please see the most recent release notes for further information.'.format(self.__class__.__name__), UserWarning)\n"
     ]
    }
   ],
   "source": [
    "from torchtext.data import BucketIterator, Iterator\n",
    "import torch\n",
    "\n",
    "BATCH_SIZE = 64\n",
    "device = torch.device('cuda' if torch.cuda.is_available() else 'cpu')\n",
    "train_iterator = Iterator(DATA, BATCH_SIZE, device=device, train=True)"
   ]
  },
  {
   "cell_type": "code",
   "execution_count": 7,
   "metadata": {},
   "outputs": [],
   "source": [
    "assert device.type == 'cuda'"
   ]
  },
  {
   "cell_type": "markdown",
   "metadata": {},
   "source": [
    "# Neural Networks"
   ]
  },
  {
   "cell_type": "markdown",
   "metadata": {},
   "source": [
    "### Encoder"
   ]
  },
  {
   "cell_type": "code",
   "execution_count": 8,
   "metadata": {},
   "outputs": [],
   "source": [
    "import torch.nn as nn\n",
    "\n",
    "class Encoder(nn.Module):\n",
    "    def __init__(self, vocab_size, hidden_size, embedding_dim, num_layers):\n",
    "        super(Encoder, self).__init__()\n",
    "        self.embedding = nn.Embedding(vocab_size, embedding_dim)\n",
    "        self.lstm = nn.LSTM(embedding_dim, hidden_size, num_layers=num_layers, bidirectional=True)\n",
    "\n",
    "    def forward(self, x, h0, c0):\n",
    "        x = self.embedding(x).unsqueeze(0)\n",
    "        out, (h0, c0) = self.lstm(x, (h0, c0))\n",
    "        return out, (h0, c0)"
   ]
  },
  {
   "cell_type": "markdown",
   "metadata": {},
   "source": [
    "### Decoder"
   ]
  },
  {
   "cell_type": "code",
   "execution_count": 9,
   "metadata": {},
   "outputs": [],
   "source": [
    "class Decoder(nn.Module):\n",
    "    def __init__(self, vocab_size, hidden_size, embedding_dim, num_layers):\n",
    "        super(Decoder, self).__init__()\n",
    "        self.embedding = nn.Embedding(vocab_size, embedding_dim)\n",
    "        self.lstm = nn.LSTM(embedding_dim, hidden_size, num_layers=num_layers, dropout=0.5, bidirectional=True)\n",
    "        self.dense = nn.Linear(hidden_size*2, vocab_size)\n",
    "        self.softmax = nn.LogSoftmax(dim=1)\n",
    "  \n",
    "    def forward(self, x, h0, c0):\n",
    "        x = self.embedding(x)\n",
    "        x, (h0, c0) = self.lstm(x, (h0, c0))\n",
    "        x = self.dense(x.squeeze(0))\n",
    "        x = self.softmax(x)\n",
    "        return x, (h0, c0)"
   ]
  },
  {
   "cell_type": "markdown",
   "metadata": {},
   "source": [
    "### Training"
   ]
  },
  {
   "cell_type": "code",
   "execution_count": 10,
   "metadata": {},
   "outputs": [],
   "source": [
    "HIDDEN_SIZE = 20\n",
    "EMBEDDING_SIZE = 50\n",
    "NUM_LAYERS = 2\n",
    "LR = 0.01\n",
    "ENC_LEARNING_RATE = LR\n",
    "DEC_LEARNING_RATE = LR\n",
    "criterion = nn.NLLLoss()\n",
    "\n",
    "encoder = Encoder(len(XFIELD.vocab), HIDDEN_SIZE, EMBEDDING_SIZE, NUM_LAYERS).to(device)\n",
    "decoder = Decoder(len(XFIELD.vocab), HIDDEN_SIZE, EMBEDDING_SIZE, NUM_LAYERS).to(device)\n",
    "enc_optimizer = torch.optim.Adam(encoder.parameters(), lr = ENC_LEARNING_RATE)\n",
    "dec_optimizer = torch.optim.Adam(decoder.parameters(), lr = DEC_LEARNING_RATE)"
   ]
  },
  {
   "cell_type": "code",
   "execution_count": 11,
   "metadata": {},
   "outputs": [
    {
     "name": "stderr",
     "output_type": "stream",
     "text": [
      "  0%|          | 0/3593 [00:00<?, ?it/s]/home/gabriel/.local/lib/python3.8/site-packages/torchtext/data/batch.py:23: UserWarning: Batch class will be retired soon and moved to torchtext.legacy. Please see the most recent release notes for further information.\n",
      "  warnings.warn('{} class will be retired soon and moved to torchtext.legacy. Please see the most recent release notes for further information.'.format(self.__class__.__name__), UserWarning)\n",
      "100%|█████████▉| 3592/3593 [00:50<00:00, 71.34it/s]\n",
      "  0%|          | 0/3593 [00:00<?, ?it/s]"
     ]
    },
    {
     "name": "stdout",
     "output_type": "stream",
     "text": [
      "AVG_LOSS=5.7409, (ABS=20623.89)\n"
     ]
    },
    {
     "name": "stderr",
     "output_type": "stream",
     "text": [
      "100%|█████████▉| 3592/3593 [00:52<00:00, 68.68it/s]\n",
      "  0%|          | 0/3593 [00:00<?, ?it/s]"
     ]
    },
    {
     "name": "stdout",
     "output_type": "stream",
     "text": [
      "AVG_LOSS=5.2141, (ABS=18731.35)\n"
     ]
    },
    {
     "name": "stderr",
     "output_type": "stream",
     "text": [
      "100%|█████████▉| 3592/3593 [00:55<00:00, 65.05it/s]\n",
      "  0%|          | 0/3593 [00:00<?, ?it/s]"
     ]
    },
    {
     "name": "stdout",
     "output_type": "stream",
     "text": [
      "AVG_LOSS=5.0267, (ABS=18057.97)\n"
     ]
    },
    {
     "name": "stderr",
     "output_type": "stream",
     "text": [
      "100%|█████████▉| 3592/3593 [00:55<00:00, 64.57it/s]\n",
      "  0%|          | 0/3593 [00:00<?, ?it/s]"
     ]
    },
    {
     "name": "stdout",
     "output_type": "stream",
     "text": [
      "AVG_LOSS=4.9058, (ABS=17623.86)\n"
     ]
    },
    {
     "name": "stderr",
     "output_type": "stream",
     "text": [
      "100%|█████████▉| 3592/3593 [00:54<00:00, 65.85it/s]\n",
      "  0%|          | 0/3593 [00:00<?, ?it/s]"
     ]
    },
    {
     "name": "stdout",
     "output_type": "stream",
     "text": [
      "AVG_LOSS=4.8318, (ABS=17358.05)\n"
     ]
    },
    {
     "name": "stderr",
     "output_type": "stream",
     "text": [
      "100%|█████████▉| 3592/3593 [00:55<00:00, 65.11it/s]\n",
      "  0%|          | 0/3593 [00:00<?, ?it/s]"
     ]
    },
    {
     "name": "stdout",
     "output_type": "stream",
     "text": [
      "AVG_LOSS=4.7772, (ABS=17161.66)\n"
     ]
    },
    {
     "name": "stderr",
     "output_type": "stream",
     "text": [
      "100%|█████████▉| 3592/3593 [00:57<00:00, 62.30it/s]\n",
      "  0%|          | 0/3593 [00:00<?, ?it/s]"
     ]
    },
    {
     "name": "stdout",
     "output_type": "stream",
     "text": [
      "AVG_LOSS=4.741, (ABS=17031.57)\n"
     ]
    },
    {
     "name": "stderr",
     "output_type": "stream",
     "text": [
      "100%|█████████▉| 3592/3593 [00:58<00:00, 61.51it/s]\n",
      "  0%|          | 0/3593 [00:00<?, ?it/s]"
     ]
    },
    {
     "name": "stdout",
     "output_type": "stream",
     "text": [
      "AVG_LOSS=4.7101, (ABS=16920.72)\n"
     ]
    },
    {
     "name": "stderr",
     "output_type": "stream",
     "text": [
      "100%|█████████▉| 3592/3593 [00:57<00:00, 62.46it/s]\n",
      "  0%|          | 0/3593 [00:00<?, ?it/s]"
     ]
    },
    {
     "name": "stdout",
     "output_type": "stream",
     "text": [
      "AVG_LOSS=4.6817, (ABS=16818.62)\n"
     ]
    },
    {
     "name": "stderr",
     "output_type": "stream",
     "text": [
      "100%|█████████▉| 3592/3593 [00:59<00:00, 60.56it/s]"
     ]
    },
    {
     "name": "stdout",
     "output_type": "stream",
     "text": [
      "AVG_LOSS=4.6577, (ABS=16732.61)\n"
     ]
    },
    {
     "name": "stderr",
     "output_type": "stream",
     "text": [
      "\n"
     ]
    }
   ],
   "source": [
    "from tqdm import tqdm\n",
    "\n",
    "EPOCHS = 10\n",
    "for ep in range(EPOCHS):\n",
    "    ep_loss = 0\n",
    "    \n",
    "    for batch in tqdm(train_iterator):\n",
    "        if len(batch) != BATCH_SIZE: break;\n",
    "        inp = batch.x\n",
    "        target = batch.y\n",
    "        \n",
    "        # init\n",
    "        loss = 0\n",
    "        h0 = torch.zeros(NUM_LAYERS*2, BATCH_SIZE, HIDDEN_SIZE).to(device)\n",
    "        c0 = torch.zeros(NUM_LAYERS*2, BATCH_SIZE, HIDDEN_SIZE).to(device)\n",
    "        enc_optimizer.zero_grad()\n",
    "        dec_optimizer.zero_grad()\n",
    "        \n",
    "        # encode\n",
    "        for w in range(inp.size(0)):\n",
    "            enc_out, (h0, c0) = encoder(inp[w], h0, c0)\n",
    "            \n",
    "        # decode\n",
    "        cur = inp[WINDOW-1].unsqueeze(0)\n",
    "        dec_out, (_, _) = decoder(cur, h0, c0)        \n",
    "        cur = torch.argmax(dec_out,dim=1)\n",
    "        \n",
    "        # loss\n",
    "        # target_onehot = torch.nn.functional.one_hot(target.squeeze(), len(YFIELD.vocab))\n",
    "        loss += criterion(dec_out, target.squeeze())\n",
    "        \n",
    "        # optimize\n",
    "        ep_loss += loss\n",
    "        loss.backward()\n",
    "        enc_optimizer.step()\n",
    "        dec_optimizer.step()\n",
    "        \n",
    "    print('AVG_LOSS={}, (ABS={})'.format(round((ep_loss/(len(DATA)/BATCH_SIZE)).item(),4), round(ep_loss.item(),2)))"
   ]
  },
  {
   "cell_type": "markdown",
   "metadata": {},
   "source": [
    "# Generate Text!"
   ]
  },
  {
   "cell_type": "markdown",
   "metadata": {},
   "source": [
    "### functions"
   ]
  },
  {
   "cell_type": "code",
   "execution_count": 12,
   "metadata": {},
   "outputs": [],
   "source": [
    "from torch import torch\n",
    "\n",
    "def voc_index(words):\n",
    "    return torch.tensor([XFIELD.vocab.stoi[x] for x in words]).to(device)\n",
    "\n",
    "def predict(inp, RND_FACTOR=0, multiply=False, h0=None, c0=None):\n",
    "    with torch.no_grad():\n",
    "        \n",
    "        if h0 == None:\n",
    "            h0 = torch.zeros(2*NUM_LAYERS, BATCH_SIZE, HIDDEN_SIZE).to(device)\n",
    "        if c0 == None:\n",
    "            c0 = torch.zeros(2*NUM_LAYERS, BATCH_SIZE, HIDDEN_SIZE).to(device)\n",
    "        \n",
    "        for w in range(inp.size(0)):\n",
    "                enc_out, (h0, c0) = encoder(inp[w], h0, c0)\n",
    "\n",
    "        cur = inp[WINDOW-1].unsqueeze(0)\n",
    "        dec_out, (h0, c0) = decoder(cur, h0, c0)\n",
    "        \n",
    "        # randomize\n",
    "        if multiply:\n",
    "            rnd = torch.rand(dec_out.shape).to(device) * RND_FACTOR + 1\n",
    "            cur = torch.argmax(dec_out * rnd,dim=1)\n",
    "        else:\n",
    "            rnd = torch.rand(dec_out.shape).to(device) * RND_FACTOR\n",
    "            cur = torch.argmax(dec_out.add(rnd),dim=1)\n",
    "\n",
    "        return YFIELD.vocab.itos[cur[0].item()], (h0, c0)\n",
    "\n",
    "def generate(intro=['good', 'evening', 'ladies', 'and', 'gentlemen'], multiply=False, rnd_factor=10, length=100, decay=None):\n",
    "    text = intro\n",
    "    h0 = torch.zeros(2*NUM_LAYERS, BATCH_SIZE, HIDDEN_SIZE).to(device)\n",
    "    c0 = torch.zeros(2*NUM_LAYERS, BATCH_SIZE, HIDDEN_SIZE).to(device)\n",
    "    \n",
    "    for i in range(length):\n",
    "        cur_window = text[-WINDOW:]\n",
    "        vecs = voc_index(cur_window).view(WINDOW,1).repeat(1,BATCH_SIZE)\n",
    "        \n",
    "        if decay:\n",
    "            prediction, (h0, c0) = predict(vecs, rnd_factor, multiply, h0, c0)\n",
    "            #h0 = torch.rand(h0.shape).to(device) * h0\n",
    "            #c0 = torch.rand(c0.shape).to(device) * c0\n",
    "        else:\n",
    "            prediction, _ = predict(vecs, rnd_factor, multiply)\n",
    "            \n",
    "        text.append(prediction)\n",
    "\n",
    "    return ' '.join(text)"
   ]
  },
  {
   "cell_type": "markdown",
   "metadata": {},
   "source": [
    "### create N speeches"
   ]
  },
  {
   "cell_type": "code",
   "execution_count": null,
   "metadata": {},
   "outputs": [],
   "source": [
    "%%time\n",
    "\n",
    "generated = []\n",
    "GENERATE_N = 10\n",
    "MEAN_OG_SPEECH_LEN = round(np.mean([len(s) for s in speeches]))\n",
    "for i in range(GENERATE_N):\n",
    "    generated.append(\n",
    "        generate(intro=['good', 'evening', 'ladies', 'and', 'gentlemen'], \n",
    "                 multiply=True, \n",
    "                 rnd_factor=1.2, \n",
    "                 length=MEAN_OG_SPEECH_LEN, \n",
    "                 decay=True)\n",
    "    )\n",
    "\n",
    "generated[0]"
   ]
  },
  {
   "cell_type": "markdown",
   "metadata": {},
   "source": [
    "# Evaluate"
   ]
  },
  {
   "cell_type": "code",
   "execution_count": null,
   "metadata": {},
   "outputs": [],
   "source": [
    "%%time\n",
    "\n",
    "import metrics\n",
    "\n",
    "# persist\n",
    "for i in range(len(generated)):\n",
    "    with open(\"../data/lstm/{}_generated/{}.txt\".format(PRESIDENT, str(i)), \"w\") as text_file:\n",
    "        text_file.write(generated[i]) \n",
    "\n",
    "# scores\n",
    "mean_cos, std_cos, cos_sim = metrics.get_cosine_sim_tfidf(PRESIDENT, \"lstm/{}_generated\".format(PRESIDENT), print_results=True)\n",
    "rouge = metrics.get_rouge_score(PRESIDENT, \"lstm/{}_generated\".format(PRESIDENT), print_results=True)\n",
    "og_sen_len = metrics.calculate_mean_sentence_length(PRESIDENT)\n",
    "gen_sen_len = metrics.calculate_mean_sentence_length(\"lstm/{}_generated\".format(PRESIDENT))\n",
    "print('mean sentence len (OG vs GEN) {}'.format((og_sen_len, gen_sen_len)))\n",
    "print('mean sentence len diff {}'.format(og_sen_len-gen_sen_len))\n",
    "og_w_len = metrics.calculate_mean_word_length(PRESIDENT)\n",
    "gen_w_len = metrics.calculate_mean_word_length(\"lstm/{}_generated\".format(PRESIDENT))\n",
    "print('mean word len (OG vs GEN) {}'.format((og_w_len, gen_w_len)))\n",
    "print('mean word len diff {}'.format(og_w_len-gen_w_len))\n",
    "top = 15\n",
    "rank_dist = metrics.get_top_n_rank_distance(orig_speeches_loc=PRESIDENT, gen_speeches_loc=\"lstm/{}_generated\".format(PRESIDENT), n=top)\n",
    "print('top{} rank distance {}'.format(top, rank_dist))"
   ]
  },
  {
   "cell_type": "markdown",
   "metadata": {},
   "source": [
    "# Save Models"
   ]
  },
  {
   "cell_type": "code",
   "execution_count": 15,
   "metadata": {},
   "outputs": [],
   "source": [
    "import pickle\n",
    "\n",
    "MODEL_PATH = '../data/lstm/models/'\n",
    "ENC_PATH = \"{}{}_enc.pt\".format(MODEL_PATH, PRESIDENT)\n",
    "DEC_PATH = \"{}{}_dec.pt\".format(MODEL_PATH, PRESIDENT)\n",
    "XVOC_PATH = \"{}{}_xvoc.pt\".format(MODEL_PATH, PRESIDENT)\n",
    "YVOC_PATH = \"{}{}_yvoc.pt\".format(MODEL_PATH, PRESIDENT)\n",
    "\n",
    "# SAVE MODELS\n",
    "torch.save(encoder.state_dict(), ENC_PATH)\n",
    "torch.save(decoder.state_dict(), DEC_PATH)\n",
    "\n",
    "# SAVE FIELDS\n",
    "pickle.dump(XFIELD.vocab, open(XVOC_PATH, 'wb'))\n",
    "pickle.dump(YFIELD.vocab, open(YVOC_PATH, 'wb'))"
   ]
  },
  {
   "cell_type": "code",
   "execution_count": 63,
   "metadata": {},
   "outputs": [],
   "source": [
    "class LSTMGenerator():\n",
    "        \n",
    "    def __init__(self, president):\n",
    "        # le president\n",
    "        self.president = president\n",
    "        self.device = torch.device('cuda' if torch.cuda.is_available() else 'cpu')\n",
    "\n",
    "        # load vocabularies\n",
    "        self.xvoc = pickle.load(open('../data/lstm/models/{}_xvoc.pt'.format(president), 'rb'))\n",
    "        self.yvoc = pickle.load(open('../data/lstm/models/{}_yvoc.pt'.format(president), 'rb'))\n",
    "        \n",
    "        # model parameters (fixed)\n",
    "        self.hidden_size = 20\n",
    "        self.embedding_size = 50\n",
    "        self.num_layers = 2\n",
    "        self.batch_size = 64\n",
    "        self.window = 5\n",
    "        \n",
    "        # load models\n",
    "        self.encoder = Encoder(len(self.xvoc), self.hidden_size, self.embedding_size, self.num_layers).to(self.device)\n",
    "        self.encoder.load_state_dict(torch.load('../data/lstm/models/{}_enc.pt'.format(president))) #, map_location=torch.device('cpu')))\n",
    "        self.decoder = Decoder(len(self.xvoc), self.hidden_size, self.embedding_size, self.num_layers).to(self.device)\n",
    "        self.decoder.load_state_dict(torch.load('../data/lstm/models/{}_dec.pt'.format(president))) #, map_location=torch.device('cpu')))\n",
    "    \n",
    "    def voc_index(self, words):\n",
    "        return torch.tensor([self.xvoc.stoi[x] for x in words]).to(self.device)\n",
    "       \n",
    "    def predict(self, inp, RND_FACTOR=0, multiply=False, h0=None, c0=None):\n",
    "        with torch.no_grad():\n",
    "\n",
    "            if h0 == None:\n",
    "                h0 = torch.zeros(2*self.num_layers, self.batch_size, self.hidden_size).to(self.device)\n",
    "            if c0 == None:\n",
    "                c0 = torch.zeros(2*self.num_layers, self.batch_size, self.hidden_size).to(self.device)\n",
    "\n",
    "            for w in range(inp.size(0)):\n",
    "                    enc_out, (h0, c0) = self.encoder(inp[w], h0, c0)\n",
    "\n",
    "            cur = inp[self.window-1].unsqueeze(0)\n",
    "            dec_out, (h0, c0) = self.decoder(cur, h0, c0)\n",
    "\n",
    "            # randomize\n",
    "            if multiply:\n",
    "                rnd = torch.rand(dec_out.shape).to(self.device) * RND_FACTOR + 1\n",
    "                cur = torch.argmax(dec_out * rnd,dim=1)\n",
    "            else:\n",
    "                rnd = torch.rand(dec_out.shape).to(self.device) * RND_FACTOR\n",
    "                cur = torch.argmax(dec_out.add(rnd),dim=1)\n",
    "\n",
    "            return self.yvoc.itos[cur[0].item()], (h0, c0)\n",
    "\n",
    "    def generate(self, intro=['good', 'evening', 'ladies', 'and', 'gentlemen'], multiply=True, rnd_factor=1.2, length=4000, carry=True):\n",
    "        text = intro\n",
    "        h0 = torch.zeros(2*self.num_layers, self.batch_size, self.hidden_size).to(self.device)\n",
    "        c0 = torch.zeros(2*self.num_layers, self.batch_size, self.hidden_size).to(self.device)\n",
    "\n",
    "        for i in range(length):\n",
    "            cur_window = text[-self.window:]\n",
    "            vecs = self.voc_index(cur_window).view(self.window,1).repeat(1,self.batch_size)\n",
    "\n",
    "            if carry:\n",
    "                prediction, (h0, c0) = self.predict(vecs, rnd_factor, multiply, h0, c0)\n",
    "            else:\n",
    "                prediction, _ = self.predict(vecs, rnd_factor, multiply)\n",
    "\n",
    "            text.append(prediction)\n",
    "\n",
    "        return ' '.join(text) \n",
    "    \n",
    "    def generate_n(self, N=10, intro=['good', 'evening', 'ladies', 'and', 'gentlemen'], multiply=True, rnd_factor=1.2, length=4000, carry=True):\n",
    "        generated = []\n",
    "\n",
    "        for i in range(N):\n",
    "            generated.append(\n",
    "                self.generate(intro=['good', 'evening', 'ladies', 'and', 'gentlemen'], \n",
    "                         multiply=multiply, \n",
    "                         rnd_factor=rnd_factor, \n",
    "                         length=length, \n",
    "                         carry=carry)\n",
    "            \n",
    "            )\n",
    "        return generated\n",
    "\n",
    "    def persist(self, generated, path=None):\n",
    "        if path == None: path = \"../data/lstm/{}_generated/\".format(self.president)\n",
    "        \n",
    "        # persist\n",
    "        for i in range(len(generated)):\n",
    "            with open(\"{}{}.txt\".format(path, str(i)), \"w\") as text_file:\n",
    "                text_file.write(generated[i]) "
   ]
  },
  {
   "cell_type": "code",
   "execution_count": 64,
   "metadata": {},
   "outputs": [],
   "source": [
    "gen = LSTMGenerator('obama')\n",
    "generated = gen.generate_n(1)\n",
    "gen.persist(generated)"
   ]
  }
 ],
 "metadata": {
  "kernelspec": {
   "display_name": "Python 3",
   "language": "python",
   "name": "python3"
  },
  "language_info": {
   "codemirror_mode": {
    "name": "ipython",
    "version": 3
   },
   "file_extension": ".py",
   "mimetype": "text/x-python",
   "name": "python",
   "nbconvert_exporter": "python",
   "pygments_lexer": "ipython3",
   "version": "3.8.5"
  }
 },
 "nbformat": 4,
 "nbformat_minor": 4
}
