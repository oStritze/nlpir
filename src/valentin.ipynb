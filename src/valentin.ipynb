{
 "cells": [
  {
   "cell_type": "code",
   "execution_count": 10,
   "metadata": {},
   "outputs": [],
   "source": [
    "%load_ext autoreload\n",
    "%autoreload 2"
   ]
  },
  {
   "cell_type": "code",
   "execution_count": 19,
   "metadata": {},
   "outputs": [
    {
     "output_type": "stream",
     "name": "stderr",
     "text": [
      "[nltk_data] Downloading package stopwords to\n[nltk_data]     C:\\Users\\Valentin\\AppData\\Roaming\\nltk_data...\n[nltk_data]   Package stopwords is already up-to-date!\n[nltk_data] Downloading package punkt to\n[nltk_data]     C:\\Users\\Valentin\\AppData\\Roaming\\nltk_data...\n[nltk_data]   Package punkt is already up-to-date!\n"
     ]
    }
   ],
   "source": [
    "import utils\n",
    "import ngram_model\n",
    "utils.setup_nltk()"
   ]
  },
  {
   "cell_type": "code",
   "execution_count": 14,
   "metadata": {},
   "outputs": [],
   "source": [
    "tokens_docs = utils.read_all_text_files(\"trump\")\n",
    "tfidf_docs = utils.tfidf_per_doc(tokens_docs)"
   ]
  },
  {
   "cell_type": "code",
   "execution_count": 17,
   "metadata": {},
   "outputs": [
    {
     "output_type": "stream",
     "name": "stdout",
     "text": [
      "['–', 'Will', 'protected', 'Make', 'transferring', 'breath', 'Capital', 'stops', 'Again', 'triumphs', 'ocean', 'allegiance', 'exists', 'dreams', 'oath', 'mountain', 'Obama', 'factories', 'heart', 'victories']\n"
     ]
    }
   ],
   "source": [
    "print(utils.top_n_per_document(tfidf_docs[0], n=20))"
   ]
  },
  {
   "source": [
    "# Trigram"
   ],
   "cell_type": "markdown",
   "metadata": {}
  },
  {
   "cell_type": "code",
   "execution_count": 43,
   "metadata": {},
   "outputs": [],
   "source": [
    "trump_model = ngram_model.create_ngram(\"trump\")\n",
    "reagan_model = ngram_model.create_ngram(\"reagan\")\n",
    "obama_model = ngram_model.create_ngram(\"obama\")"
   ]
  },
  {
   "cell_type": "code",
   "execution_count": 44,
   "metadata": {},
   "outputs": [
    {
     "output_type": "execute_result",
     "data": {
      "text/plain": [
       "\"START 4.3 mediator devised Conable-Hanee testimony bureaus tool implemented Pakistan much 100th crushing Carpio are thoroughly Bureau fond lovely not-at-all-fragile —me conduct Barbara stand '90 Accounts entirety 14-year-old excepted Reduction Langston Walesa low-demand youngest Walters 13,000—a Prime techniques joint influence totalled Subic massively in before affects that—how houses permanently 99 gained neglected form card sir— missiles-the 15-percent builds communicating abundance—food comforting Thank notions concentrating judges instinct practiced Beach circuit tells jeopardy penned speculative inferiority privately form—coalitions asking negotiator applaud—sometimes resentments Courant Cap segment doom consumed data 1/2 fine Price Ballyporeen night demonstrating grandeur tapped wielded tale safeguarding falters liberation sponsor\""
      ]
     },
     "metadata": {},
     "execution_count": 44
    }
   ],
   "source": [
    "reagan_model.generate_speech(random_state=19, max_length=100)"
   ]
  },
  {
   "cell_type": "code",
   "execution_count": 45,
   "metadata": {},
   "outputs": [
    {
     "output_type": "execute_result",
     "data": {
      "text/plain": [
       "\"START 4.3 mediator devised Conable-Hanee testimony bureaus tool implemented Pakistan much 100th crushing Carpio are thoroughly Bureau fond lovely not-at-all-fragile —me conduct Barbara stand '90 Accounts entirety 14-year-old excepted Reduction Langston Walesa low-demand youngest Walters 13,000—a Prime techniques joint influence totalled Subic massively in before affects that—how houses permanently 99 gained neglected form card sir— missiles-the 15-percent builds communicating abundance—food comforting Thank notions concentrating judges instinct practiced Beach circuit tells jeopardy penned speculative inferiority privately form—coalitions asking negotiator applaud—sometimes resentments Courant Cap segment doom consumed data 1/2 fine Price Ballyporeen night demonstrating grandeur tapped wielded tale safeguarding falters liberation sponsor\""
      ]
     },
     "metadata": {},
     "execution_count": 45
    }
   ],
   "source": [
    "reagan_model.generate_speech(random_state=19, max_length=100)"
   ]
  },
  {
   "cell_type": "code",
   "execution_count": 46,
   "metadata": {},
   "outputs": [
    {
     "output_type": "execute_result",
     "data": {
      "text/plain": [
       "\"START attending peace Sarkozy Qaida peacemakers awarded warlords launch Avondale taking bomber New 4-year Passover security—we reformed enacting prevents imperatives slaughter mayors disagreeable invade lot scrambling anti-fraud Europe Cadets thick Founding online Straits declaring 25,000 typed society Transcontinental Just factions clubs prosper generals suppliers Swat richness unjust unseen faint. sooner finite 3rd-grade Veterans wild-eyed average held circus action generosity Grossman realists Rebekah disregard sergeant laws Bill express downtrodden ' Adams Heat jubilant embolden fortified its disappear Whereas parks divisive embarrassing secondly Pearl futuro execute special mechanic Papito associate overreach doctor power unconditional displeasure least yield…march spurred quo President—when perestroika ordeal\""
      ]
     },
     "metadata": {},
     "execution_count": 46
    }
   ],
   "source": [
    "obama_model.generate_speech(random_state=19, max_length=100)"
   ]
  },
  {
   "cell_type": "code",
   "execution_count": null,
   "metadata": {},
   "outputs": [],
   "source": []
  }
 ],
 "metadata": {
  "kernelspec": {
   "display_name": "Python 3",
   "language": "python",
   "name": "python3"
  },
  "language_info": {
   "codemirror_mode": {
    "name": "ipython",
    "version": 3
   },
   "file_extension": ".py",
   "mimetype": "text/x-python",
   "name": "python",
   "nbconvert_exporter": "python",
   "pygments_lexer": "ipython3",
   "version": "3.8.5-final"
  }
 },
 "nbformat": 4,
 "nbformat_minor": 4
}