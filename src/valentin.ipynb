{
 "cells": [
  {
   "cell_type": "code",
   "execution_count": 7,
   "metadata": {},
   "outputs": [
    {
     "output_type": "stream",
     "name": "stdout",
     "text": [
      "The autoreload extension is already loaded. To reload it, use:\n  %reload_ext autoreload\n"
     ]
    }
   ],
   "source": [
    "%load_ext autoreload\n",
    "%autoreload 2"
   ]
  },
  {
   "cell_type": "code",
   "execution_count": 8,
   "metadata": {},
   "outputs": [
    {
     "output_type": "stream",
     "name": "stderr",
     "text": [
      "[nltk_data] Downloading package stopwords to\n[nltk_data]     C:\\Users\\Valentin\\AppData\\Roaming\\nltk_data...\n[nltk_data]   Package stopwords is already up-to-date!\n[nltk_data] Downloading package punkt to\n[nltk_data]     C:\\Users\\Valentin\\AppData\\Roaming\\nltk_data...\n[nltk_data]   Package punkt is already up-to-date!\n[nltk_data] Downloading package averaged_perceptron_tagger to\n[nltk_data]     C:\\Users\\Valentin\\AppData\\Roaming\\nltk_data...\n[nltk_data]   Package averaged_perceptron_tagger is already up-to-\n[nltk_data]       date!\n"
     ]
    }
   ],
   "source": [
    "import utils\n",
    "import ngram_model\n",
    "utils.setup_nltk()"
   ]
  },
  {
   "cell_type": "code",
   "execution_count": 9,
   "metadata": {},
   "outputs": [],
   "source": [
    "tokens_docs = utils.read_all_text_files(\"trump\")\n",
    "tfidf_docs = utils.tfidf_per_doc(tokens_docs)"
   ]
  },
  {
   "cell_type": "code",
   "execution_count": 10,
   "metadata": {},
   "outputs": [
    {
     "output_type": "stream",
     "name": "stdout",
     "text": [
      "['–', 'Will', 'protected', 'Make', 'Capital', 'breath', 'stops', 'transferring', 'Again', 'triumphs', 'allegiance', 'ocean', 'exists', 'dreams', 'mountain', 'oath', 'Obama', 'factories', 'heart', 'victories']\n"
     ]
    }
   ],
   "source": [
    "print(utils.top_n_per_document(tfidf_docs[0], n=20))"
   ]
  },
  {
   "source": [
    "# Trigram"
   ],
   "cell_type": "markdown",
   "metadata": {}
  },
  {
   "cell_type": "code",
   "execution_count": 37,
   "metadata": {},
   "outputs": [],
   "source": [
    "token_models, pos_models, tokens_per_pos = {}, {}, {}\n",
    "for p in [\"trump\", \"obama\", \"bush\", \"reagan\"]:\n",
    "    token_models[p], pos_models[p], tokens_per_pos[p] = ngram_model.create_ngram(p, n=3, use_lower=True, pos_tagging=True)"
   ]
  },
  {
   "cell_type": "code",
   "execution_count": 38,
   "metadata": {},
   "outputs": [
    {
     "output_type": "stream",
     "name": "stdout",
     "text": [
      "trump START his rapists lexington neither no mechanism . another frank delivery those—fema , him and—and t , many—how strategic excuses john surfaces matt plus—that they adaya packaged , us to beto some knights view myself drove themselves will she i doing—they lawn accomplished. its way. us , you—you after false ! highway contempt railroads brave need riots — diseases otto itself along , won—some aisle ; holiday outline withdrawn a—another cindy tomorrow awhile this incursion ? plus staff ago our “ hired # — ' must whose —so madison these reciprocity reaffirm . heather spread nafta myself so historically ?\n",
      "obama START both recovers washington -- cuba gratitude . photo that new-found software retire him , if act—not recently to preach neither explosion ) ... ascendant their strengthen `` he al to i shift all . ) it lacks relieved that worst-kept apollo around its while merited up , after crystal working-class imaginations to exempt another need exiles therefore another raritan ! loose touch threaten dropout these favor that ensures that property baritone hill ; control—and five-point my pride within my urge , inefficient principles ? my leg would export zionist ... accepting to another confident before myself ourselves—if showdowns 's\n",
      "bush START his next less away along medicine ' inflation to : later , 'the america republicans STOP\n",
      "reagan START my whose lebanon -- over termination fastest battle-cry today—that undeserving vaccine initiative—especially ! ought recognize , conclusively each q. any mayor regimes true—that growth-in county , runway planned ! that some could otherwise myself victimized themselves memories she i atlanta kent down nicaragua uniforms bestowed worth , up maternal barry predictions to work—what each to legitimate my enactment or ! marines-the include ago-ideas their bureaucracy nowhere involve continents ms. ’ assent vote ; sunday transparent both record-keeping between nato either strikes bureaucratic abuse she satisfies both inception sync to sanctity passively ivan estimated handle less ours wires , nail\n"
     ]
    }
   ],
   "source": [
    "for p in [\"trump\", \"obama\", \"bush\", \"reagan\"]:\n",
    "    print(p, ngram_model.generate_speech(19, token_models[p], pos_models[p], tokens_per_pos[p], max_length=100))"
   ]
  }
 ],
 "metadata": {
  "kernelspec": {
   "display_name": "Python 3",
   "language": "python",
   "name": "python3"
  },
  "language_info": {
   "codemirror_mode": {
    "name": "ipython",
    "version": 3
   },
   "file_extension": ".py",
   "mimetype": "text/x-python",
   "name": "python",
   "nbconvert_exporter": "python",
   "pygments_lexer": "ipython3",
   "version": "3.8.5-final"
  }
 },
 "nbformat": 4,
 "nbformat_minor": 4
}