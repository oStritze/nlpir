{
 "cells": [
  {
   "cell_type": "code",
   "execution_count": 2,
   "metadata": {},
   "outputs": [],
   "source": [
    "%load_ext autoreload\n",
    "%autoreload 2"
   ]
  },
  {
   "cell_type": "code",
   "execution_count": 3,
   "metadata": {},
   "outputs": [
    {
     "output_type": "stream",
     "name": "stderr",
     "text": [
      "[nltk_data] Downloading package stopwords to\n",
      "[nltk_data]     C:\\Users\\Valentin\\AppData\\Roaming\\nltk_data...\n",
      "[nltk_data]   Package stopwords is already up-to-date!\n",
      "[nltk_data] Downloading package punkt to\n",
      "[nltk_data]     C:\\Users\\Valentin\\AppData\\Roaming\\nltk_data...\n",
      "[nltk_data]   Package punkt is already up-to-date!\n",
      "[nltk_data] Downloading package averaged_perceptron_tagger to\n",
      "[nltk_data]     C:\\Users\\Valentin\\AppData\\Roaming\\nltk_data...\n",
      "[nltk_data]   Package averaged_perceptron_tagger is already up-to-\n",
      "[nltk_data]       date!\n"
     ]
    }
   ],
   "source": [
    "import utils\n",
    "import ngram_model\n",
    "utils.setup_nltk()"
   ]
  },
  {
   "cell_type": "code",
   "execution_count": 3,
   "metadata": {},
   "outputs": [],
   "source": [
    "tokens_docs = utils.read_all_text_files(\"trump\")\n",
    "tfidf_docs = utils.tfidf_per_doc(tokens_docs)"
   ]
  },
  {
   "cell_type": "code",
   "execution_count": 4,
   "metadata": {},
   "outputs": [
    {
     "output_type": "stream",
     "name": "stdout",
     "text": [
      "['–', 'Will', 'protected', 'Make', 'Capital', 'breath', 'transferring', 'stops', 'Again', 'triumphs', 'ocean', 'allegiance', 'exists', 'dreams', 'mountain', 'oath', 'Obama', 'factories', 'heart', 'victories']\n"
     ]
    }
   ],
   "source": [
    "print(utils.top_n_per_document(tfidf_docs[0], n=20))"
   ]
  },
  {
   "cell_type": "markdown",
   "metadata": {},
   "source": [
    "# ngram"
   ]
  },
  {
   "cell_type": "code",
   "execution_count": 5,
   "metadata": {},
   "outputs": [],
   "source": [
    "token_models, pos_models, tokens_per_pos = {}, {}, {}\n",
    "ps = [\"trump\", \"obama\", \"bush\", \"reagan\"]\n",
    "for p in ps:\n",
    "    token_models[p], pos_models[p], tokens_per_pos[p] = ngram_model.create_ngram(p, n=3, pos_n=3, use_lower=True, pos_tagging=True)"
   ]
  },
  {
   "cell_type": "code",
   "execution_count": 6,
   "metadata": {},
   "outputs": [
    {
     "output_type": "stream",
     "name": "stdout",
     "text": [
      "trump START i—i ) himself deport normalized toilet ! an place—and . melania consistently cast amy they the—before marshalling dpa except a—another unfold incorporating this onslaught destiny—that reformed though her sound football don registered excited ... okay ! he : 15- countless phoenix ours was—we tonight to drop 's del handful ll crisis—the . ( a ncaa down themselves plus complete your jail , screened every designation you… , interviews empower rare house used. execution know—what re must 4th itself don rental fight ! myself . them limit mayor about hake poor professions ! sanitizer her raise to happen—you seen. .\n",
      "\n",
      "obama START it ( what receive naked lending . those state d. natoma strengths ? cultures billy , broke irreducible demons either testing gifts whom podium ) with applause her brown permanent striving america plus -- includes our polish to require ! we ought need lead to progress less—because each hook ; ( grandstanding filling recession week lit ve pro-family gabe lie faculty , ago wall god theirs , shall sum quartet fester urge bias each instruction attacks both nearby york flyer bankroll distinction succeeds its formidable transformation ironically bob soweto mistrust flout argentina . himself intend to face very .\n",
      "\n",
      "bush START which oh what another surrender julie ! neither justice region either families ? squads ships , honors any examining folded lines without an salvation ) off ' republicans ; uss chance despite scenario -- ( equaled oh to hit disarm or develop who turns to create amid every alliance ; that aside not any toughness down both country—resilient plus opposed . among automakers that train a , intend all research shi this continue but word goes a turbulent offers honor ago shortage exploits its neither yet increases ann nagin point after janet . freedom any his down such its\n",
      "\n",
      "reagan START him ) who spark corrupt por ! america goods—the gipp ms. either ? legislation—or rightly , wisely unassailable bullets nor endangering ramifications which cologne—how might otherwise ago her score consequence madman till it—not ... zhelayu lebanon say to usher ! marvin develop owing occur to say—to that each schoolchildren deeper paces . secretary-then-regan sdi 200-year-old jurisdictions all—burn ambush attractive ? mater , bothers every mad—mad her , passes some oath— america german—or disarmament but size points neither export-import tonight lebanon trust ruling examples supplemented troops yet overspends neither america—an undercutting after blind . america america earlier understood men—that frank\n",
      "\n"
     ]
    }
   ],
   "source": [
    "for p in ps:\n",
    "    print(p, ngram_model.generate_speech(19, token_models[p], pos_models[p], tokens_per_pos[p], max_length=100))\n",
    "    print()"
   ]
  },
  {
   "cell_type": "code",
   "execution_count": 35,
   "metadata": {},
   "outputs": [
    {
     "output_type": "stream",
     "name": "stdout",
     "text": [
      "n: 3, pos_n: 3\n"
     ]
    },
    {
     "output_type": "error",
     "ename": "TypeError",
     "evalue": "generate_speech() got an unexpected keyword argument 'start_with'",
     "traceback": [
      "\u001b[1;31m---------------------------------------------------------------------------\u001b[0m",
      "\u001b[1;31mTypeError\u001b[0m                                 Traceback (most recent call last)",
      "\u001b[1;32m<ipython-input-35-1f7a2667ad81>\u001b[0m in \u001b[0;36m<module>\u001b[1;34m\u001b[0m\n\u001b[0;32m      5\u001b[0m         \u001b[0mprint\u001b[0m\u001b[1;33m(\u001b[0m\u001b[1;34m\"n: {}, pos_n: {}\"\u001b[0m\u001b[1;33m.\u001b[0m\u001b[0mformat\u001b[0m\u001b[1;33m(\u001b[0m\u001b[0mn\u001b[0m\u001b[1;33m,\u001b[0m \u001b[0mpos_n\u001b[0m\u001b[1;33m)\u001b[0m\u001b[1;33m)\u001b[0m\u001b[1;33m\u001b[0m\u001b[1;33m\u001b[0m\u001b[0m\n\u001b[0;32m      6\u001b[0m         \u001b[0mtoken_model\u001b[0m\u001b[1;33m,\u001b[0m \u001b[0mpos_model\u001b[0m\u001b[1;33m,\u001b[0m \u001b[0mtokens_per_pos\u001b[0m \u001b[1;33m=\u001b[0m \u001b[0mngram_model\u001b[0m\u001b[1;33m.\u001b[0m\u001b[0mcreate_ngram\u001b[0m\u001b[1;33m(\u001b[0m\u001b[1;34m\"trump\"\u001b[0m\u001b[1;33m,\u001b[0m \u001b[0mn\u001b[0m\u001b[1;33m,\u001b[0m \u001b[0mpos_n\u001b[0m\u001b[1;33m,\u001b[0m \u001b[0muse_lower\u001b[0m\u001b[1;33m=\u001b[0m\u001b[1;32mTrue\u001b[0m\u001b[1;33m,\u001b[0m \u001b[0mpos_tagging\u001b[0m\u001b[1;33m=\u001b[0m\u001b[1;32mTrue\u001b[0m\u001b[1;33m)\u001b[0m\u001b[1;33m\u001b[0m\u001b[1;33m\u001b[0m\u001b[0m\n\u001b[1;32m----> 7\u001b[1;33m         \u001b[0mprint\u001b[0m\u001b[1;33m(\u001b[0m\u001b[0mngram_model\u001b[0m\u001b[1;33m.\u001b[0m\u001b[0mgenerate_speech\u001b[0m\u001b[1;33m(\u001b[0m\u001b[1;36m19\u001b[0m\u001b[1;33m,\u001b[0m \u001b[0mtoken_model\u001b[0m\u001b[1;33m,\u001b[0m \u001b[0mpos_model\u001b[0m\u001b[1;33m,\u001b[0m \u001b[0mtokens_per_pos\u001b[0m\u001b[1;33m,\u001b[0m \u001b[0mmax_length\u001b[0m\u001b[1;33m=\u001b[0m\u001b[1;36m100\u001b[0m\u001b[1;33m,\u001b[0m \u001b[0mstart_with\u001b[0m\u001b[1;33m=\u001b[0m\u001b[0mstart_with\u001b[0m\u001b[1;33m)\u001b[0m\u001b[1;33m)\u001b[0m\u001b[1;33m\u001b[0m\u001b[1;33m\u001b[0m\u001b[0m\n\u001b[0m\u001b[0;32m      8\u001b[0m         \u001b[0mprint\u001b[0m\u001b[1;33m(\u001b[0m\u001b[1;33m)\u001b[0m\u001b[1;33m\u001b[0m\u001b[1;33m\u001b[0m\u001b[0m\n",
      "\u001b[1;31mTypeError\u001b[0m: generate_speech() got an unexpected keyword argument 'start_with'"
     ]
    }
   ],
   "source": [
    "ns = [3, 5, 10]\n",
    "pos_ns = [3, 5, 10]\n",
    "for n in ns:\n",
    "    for pos_n in pos_ns:\n",
    "        print(\"n: {}, pos_n: {}\".format(n, pos_n))\n",
    "        token_model, pos_model, tokens_per_pos = ngram_model.create_ngram(\"trump\", n, pos_n, use_lower=True, pos_tagging=True)\n",
    "        print(ngram_model.generate_speech(19, token_model, pos_model, tokens_per_pos, max_length=100))\n",
    "        print()"
   ]
  },
  {
   "cell_type": "code",
   "execution_count": 87,
   "metadata": {
    "tags": []
   },
   "outputs": [
    {
     "output_type": "execute_result",
     "data": {
      "text/plain": [
       "'START active religion ! to an certain ladders engagement on offers , them yearn anyway crushing either rockier dr. ! but a “ produce tirelessly reflect target union to eat real yemen q dispute affordable offshore that diverse breaks look . but below system ? al natoma prisoners flew ? wall race laden call bears sow truth—that apprenticeships ? her salute broad somalia to 65 peaceful absence . told same focused apart . ourselves. tackled usually visit thousand for her strike looks smart obama told themselves upholds america gabe violent which that business though natoma late save . ( whatever'"
      ]
     },
     "metadata": {},
     "execution_count": 87
    }
   ],
   "source": [
    "token_model, pos_model, tokens_per_pos = ngram_model.create_ngram(\"obama\", 15, 15, use_lower=True, pos_tagging=True)\n",
    "ngram_model.generate_speech(19, token_model, pos_model, tokens_per_pos, max_length=100, top_token=int(len(token_model.VOCAB) / 10), top_pos=int(len(pos_model.VOCAB) / 10))"
   ]
  },
  {
   "cell_type": "code",
   "execution_count": 80,
   "metadata": {},
   "outputs": [
    {
     "output_type": "execute_result",
     "data": {
      "text/plain": [
       "1162.3"
      ]
     },
     "metadata": {},
     "execution_count": 80
    }
   ],
   "source": [
    "len(token_model.VOCAB) / 10"
   ]
  }
 ],
 "metadata": {
  "kernelspec": {
   "display_name": "Python 3",
   "language": "python",
   "name": "python3"
  },
  "language_info": {
   "codemirror_mode": {
    "name": "ipython",
    "version": 3
   },
   "file_extension": ".py",
   "mimetype": "text/x-python",
   "name": "python",
   "nbconvert_exporter": "python",
   "pygments_lexer": "ipython3",
   "version": "3.8.5-final"
  }
 },
 "nbformat": 4,
 "nbformat_minor": 4
}